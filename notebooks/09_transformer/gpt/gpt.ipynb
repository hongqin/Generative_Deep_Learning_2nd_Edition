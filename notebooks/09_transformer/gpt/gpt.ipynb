{
  "cells": [
    {
      "cell_type": "markdown",
      "id": "b076bd1a-b236-4fbc-953d-8295b25122ae",
      "metadata": {
        "id": "b076bd1a-b236-4fbc-953d-8295b25122ae"
      },
      "source": [
        "# 🚀 GPT"
      ]
    },
    {
      "cell_type": "markdown",
      "id": "4dca6836-0007-43f3-af65-d12ae1922c02",
      "metadata": {
        "tags": [],
        "id": "4dca6836-0007-43f3-af65-d12ae1922c02"
      },
      "source": [
        "This is a revised notebook by H Qin, October 23, 2025\n",
        "\n",
        "In this notebook, we'll walk through the steps required to train your own GPT model on the wine review dataset"
      ]
    },
    {
      "cell_type": "markdown",
      "id": "3e6cb7c7-d3d5-4b12-b357-1f6118edffe0",
      "metadata": {
        "id": "3e6cb7c7-d3d5-4b12-b357-1f6118edffe0"
      },
      "source": [
        "The code is adapted from the excellent [GPT tutorial](https://keras.io/examples/generative/text_generation_with_miniature_gpt/) created by Apoorv Nandan available on the Keras website."
      ]
    },
    {
      "cell_type": "code",
      "execution_count": 1,
      "id": "73350761-bef2-4e96-b3ac-a158eabd2b65",
      "metadata": {
        "tags": [],
        "colab": {
          "base_uri": "https://localhost:8080/",
          "height": 377
        },
        "id": "73350761-bef2-4e96-b3ac-a158eabd2b65",
        "outputId": "000df9c6-7937-4052-aa54-0ba71afa06ee"
      },
      "outputs": [
        {
          "output_type": "error",
          "ename": "AttributeError",
          "evalue": "'MessageFactory' object has no attribute 'GetPrototype'",
          "traceback": [
            "\u001b[0;31m---------------------------------------------------------------------------\u001b[0m",
            "\u001b[0;31mAttributeError\u001b[0m                            Traceback (most recent call last)",
            "\u001b[0;31mAttributeError\u001b[0m: 'MessageFactory' object has no attribute 'GetPrototype'"
          ]
        },
        {
          "output_type": "error",
          "ename": "AttributeError",
          "evalue": "'MessageFactory' object has no attribute 'GetPrototype'",
          "traceback": [
            "\u001b[0;31m---------------------------------------------------------------------------\u001b[0m",
            "\u001b[0;31mAttributeError\u001b[0m                            Traceback (most recent call last)",
            "\u001b[0;31mAttributeError\u001b[0m: 'MessageFactory' object has no attribute 'GetPrototype'"
          ]
        },
        {
          "output_type": "error",
          "ename": "AttributeError",
          "evalue": "'MessageFactory' object has no attribute 'GetPrototype'",
          "traceback": [
            "\u001b[0;31m---------------------------------------------------------------------------\u001b[0m",
            "\u001b[0;31mAttributeError\u001b[0m                            Traceback (most recent call last)",
            "\u001b[0;31mAttributeError\u001b[0m: 'MessageFactory' object has no attribute 'GetPrototype'"
          ]
        },
        {
          "output_type": "error",
          "ename": "AttributeError",
          "evalue": "'MessageFactory' object has no attribute 'GetPrototype'",
          "traceback": [
            "\u001b[0;31m---------------------------------------------------------------------------\u001b[0m",
            "\u001b[0;31mAttributeError\u001b[0m                            Traceback (most recent call last)",
            "\u001b[0;31mAttributeError\u001b[0m: 'MessageFactory' object has no attribute 'GetPrototype'"
          ]
        },
        {
          "output_type": "error",
          "ename": "AttributeError",
          "evalue": "'MessageFactory' object has no attribute 'GetPrototype'",
          "traceback": [
            "\u001b[0;31m---------------------------------------------------------------------------\u001b[0m",
            "\u001b[0;31mAttributeError\u001b[0m                            Traceback (most recent call last)",
            "\u001b[0;31mAttributeError\u001b[0m: 'MessageFactory' object has no attribute 'GetPrototype'"
          ]
        }
      ],
      "source": [
        "%load_ext autoreload\n",
        "%autoreload 2\n",
        "import numpy as np\n",
        "import json\n",
        "import re\n",
        "import string\n",
        "from IPython.display import display, HTML\n",
        "\n",
        "import tensorflow as tf\n",
        "from tensorflow.keras import layers, models, losses, callbacks"
      ]
    },
    {
      "cell_type": "markdown",
      "id": "339e6268-ebd7-4feb-86db-1fe7abccdbe5",
      "metadata": {
        "id": "339e6268-ebd7-4feb-86db-1fe7abccdbe5"
      },
      "source": [
        "## 0. Parameters <a name=\"parameters\"></a>"
      ]
    },
    {
      "cell_type": "code",
      "execution_count": 2,
      "id": "2d8352af-343e-4c2e-8c91-95f8bac1c8a1",
      "metadata": {
        "id": "2d8352af-343e-4c2e-8c91-95f8bac1c8a1"
      },
      "outputs": [],
      "source": [
        "VOCAB_SIZE = 10000\n",
        "MAX_LEN = 80\n",
        "EMBEDDING_DIM = 256\n",
        "KEY_DIM = 256\n",
        "N_HEADS = 2\n",
        "FEED_FORWARD_DIM = 256\n",
        "VALIDATION_SPLIT = 0.2\n",
        "SEED = 42\n",
        "LOAD_MODEL = False\n",
        "BATCH_SIZE = 32\n",
        "EPOCHS = 5"
      ]
    },
    {
      "cell_type": "markdown",
      "id": "b7716fac-0010-49b0-b98e-53be2259edde",
      "metadata": {
        "id": "b7716fac-0010-49b0-b98e-53be2259edde"
      },
      "source": [
        "## 1. Load the data <a name=\"load\"></a>"
      ]
    },
    {
      "cell_type": "code",
      "execution_count": 6,
      "id": "93cf6b0f-9667-4146-8911-763a8a2925d3",
      "metadata": {
        "tags": [],
        "id": "93cf6b0f-9667-4146-8911-763a8a2925d3"
      },
      "outputs": [],
      "source": [
        "import pandas as pd\n",
        "\n",
        "# Load the full dataset\n",
        "df = pd.read_csv(\"/content/winemag-data_first150k.csv\")\n",
        "wine_data = df.to_dict('records')"
      ]
    },
    {
      "cell_type": "code",
      "source": [
        "import csv\n",
        "\n",
        "with open(\"/content/winemag-data_first150k.csv\", newline='', encoding='utf-8') as csvfile:\n",
        "    reader = csv.DictReader(csvfile)  # Automatically treats the first line as header\n",
        "    wine_data = list(reader)"
      ],
      "metadata": {
        "id": "wAMwjSYA70xH"
      },
      "id": "wAMwjSYA70xH",
      "execution_count": 9,
      "outputs": []
    },
    {
      "cell_type": "code",
      "execution_count": 10,
      "id": "2db5c0fc-0d5f-42ab-ade1-57e594c416ec",
      "metadata": {
        "tags": [],
        "colab": {
          "base_uri": "https://localhost:8080/"
        },
        "id": "2db5c0fc-0d5f-42ab-ade1-57e594c416ec",
        "outputId": "5593b6dd-4f80-43d6-a823-ddaaae36678e"
      },
      "outputs": [
        {
          "output_type": "execute_result",
          "data": {
            "text/plain": [
              "{'': '10',\n",
              " 'country': 'Italy',\n",
              " 'description': \"Elegance, complexity and structure come together in this drop-dead gorgeous winethat ranks among Italy's greatest whites. It opens with sublime yellow spring flower, aromatic herb and orchard fruit scents. The creamy, delicious palate seamlessly combines juicy white peach, ripe pear and citrus flavors while white almond and savory mineral notes grace the lingering finish.\",\n",
              " 'designation': 'Ronco della Chiesa',\n",
              " 'points': '95',\n",
              " 'price': '80.0',\n",
              " 'province': 'Northeastern Italy',\n",
              " 'region_1': 'Collio',\n",
              " 'region_2': '',\n",
              " 'variety': 'Friulano',\n",
              " 'winery': 'Borgo del Tiglio'}"
            ]
          },
          "metadata": {},
          "execution_count": 10
        }
      ],
      "source": [
        "wine_data[10]"
      ]
    },
    {
      "cell_type": "code",
      "execution_count": 11,
      "id": "23a74eca-f1b7-4a46-9a1f-b5806a4ed361",
      "metadata": {
        "tags": [],
        "id": "23a74eca-f1b7-4a46-9a1f-b5806a4ed361"
      },
      "outputs": [],
      "source": [
        "# Filter the dataset\n",
        "filtered_data = [\n",
        "    \"wine review : \"\n",
        "    + x[\"country\"]\n",
        "    + \" : \"\n",
        "    + x[\"province\"]\n",
        "    + \" : \"\n",
        "    + x[\"variety\"]\n",
        "    + \" : \"\n",
        "    + x[\"description\"]\n",
        "    for x in wine_data\n",
        "    if x[\"country\"] is not None\n",
        "    and x[\"province\"] is not None\n",
        "    and x[\"variety\"] is not None\n",
        "    and x[\"description\"] is not None\n",
        "]"
      ]
    },
    {
      "cell_type": "code",
      "execution_count": 12,
      "id": "389c20de-0422-4c48-a7b4-6ee12a7bf0e2",
      "metadata": {
        "tags": [],
        "colab": {
          "base_uri": "https://localhost:8080/"
        },
        "id": "389c20de-0422-4c48-a7b4-6ee12a7bf0e2",
        "outputId": "3a3cc27e-a324-4a33-cd62-b0c6cadd9cc4"
      },
      "outputs": [
        {
          "output_type": "stream",
          "name": "stdout",
          "text": [
            "150930 recipes loaded\n"
          ]
        }
      ],
      "source": [
        "# Count the recipes\n",
        "n_wines = len(filtered_data)\n",
        "print(f\"{n_wines} recipes loaded\")"
      ]
    },
    {
      "cell_type": "code",
      "execution_count": 13,
      "id": "1b2e3cf7-e416-460e-874a-0dd9637bca36",
      "metadata": {
        "colab": {
          "base_uri": "https://localhost:8080/"
        },
        "id": "1b2e3cf7-e416-460e-874a-0dd9637bca36",
        "outputId": "bbaa6e22-6ed0-4a9f-f741-cefe7945cdc5"
      },
      "outputs": [
        {
          "output_type": "stream",
          "name": "stdout",
          "text": [
            "wine review : New Zealand : Kumeu : Chardonnay : Yields were down in 2015, but intensity is up, giving this medium-bodied, silky wine the potential to drink well through at least 2025. Hickory smoke outlines white peach before ending in a long flurry of lime zest.\n"
          ]
        }
      ],
      "source": [
        "example = filtered_data[25]\n",
        "print(example)"
      ]
    },
    {
      "cell_type": "markdown",
      "id": "3f871aaf-d873-41c7-8946-e4eef7ac17c1",
      "metadata": {
        "id": "3f871aaf-d873-41c7-8946-e4eef7ac17c1"
      },
      "source": [
        "## 2. Tokenize the data <a name=\"tokenize\"></a>"
      ]
    },
    {
      "cell_type": "code",
      "execution_count": 14,
      "id": "5b2064fb-5dcc-4657-b470-0928d10e2ddc",
      "metadata": {
        "tags": [],
        "id": "5b2064fb-5dcc-4657-b470-0928d10e2ddc"
      },
      "outputs": [],
      "source": [
        "# Pad the punctuation, to treat them as separate 'words'\n",
        "def pad_punctuation(s):\n",
        "    s = re.sub(f\"([{string.punctuation}, '\\n'])\", r\" \\1 \", s)\n",
        "    s = re.sub(\" +\", \" \", s)\n",
        "    return s\n",
        "\n",
        "\n",
        "text_data = [pad_punctuation(x) for x in filtered_data]"
      ]
    },
    {
      "cell_type": "code",
      "execution_count": 15,
      "id": "b87d7c65-9a46-492a-a5c0-a043b0d252f3",
      "metadata": {
        "colab": {
          "base_uri": "https://localhost:8080/",
          "height": 70
        },
        "id": "b87d7c65-9a46-492a-a5c0-a043b0d252f3",
        "outputId": "837b467c-ae85-44aa-8b66-cd54bb54da30"
      },
      "outputs": [
        {
          "output_type": "execute_result",
          "data": {
            "text/plain": [
              "'wine review : New Zealand : Kumeu : Chardonnay : Yields were down in 2015 , but intensity is up , giving this medium - bodied , silky wine the potential to drink well through at least 2025 . Hickory smoke outlines white peach before ending in a long flurry of lime zest . '"
            ],
            "application/vnd.google.colaboratory.intrinsic+json": {
              "type": "string"
            }
          },
          "metadata": {},
          "execution_count": 15
        }
      ],
      "source": [
        "# Display an example of a recipe\n",
        "example_data = text_data[25]\n",
        "example_data"
      ]
    },
    {
      "cell_type": "code",
      "execution_count": 16,
      "id": "9834f916-b21a-4104-acc9-f28d3bd7a8c1",
      "metadata": {
        "tags": [],
        "id": "9834f916-b21a-4104-acc9-f28d3bd7a8c1"
      },
      "outputs": [],
      "source": [
        "# Convert to a Tensorflow Dataset\n",
        "text_ds = (\n",
        "    tf.data.Dataset.from_tensor_slices(text_data)\n",
        "    .batch(BATCH_SIZE)\n",
        "    .shuffle(1000)\n",
        ")"
      ]
    },
    {
      "cell_type": "code",
      "execution_count": 17,
      "id": "884c0bcb-0807-45a1-8f7e-a32f2c6fa4de",
      "metadata": {
        "id": "884c0bcb-0807-45a1-8f7e-a32f2c6fa4de"
      },
      "outputs": [],
      "source": [
        "# Create a vectorisation layer\n",
        "vectorize_layer = layers.TextVectorization(\n",
        "    standardize=\"lower\",\n",
        "    max_tokens=VOCAB_SIZE,\n",
        "    output_mode=\"int\",\n",
        "    output_sequence_length=MAX_LEN + 1,\n",
        ")"
      ]
    },
    {
      "cell_type": "code",
      "execution_count": 18,
      "id": "4d6dd34a-d905-497b-926a-405380ebcf98",
      "metadata": {
        "id": "4d6dd34a-d905-497b-926a-405380ebcf98"
      },
      "outputs": [],
      "source": [
        "# Adapt the layer to the training set\n",
        "vectorize_layer.adapt(text_ds)\n",
        "vocab = vectorize_layer.get_vocabulary()"
      ]
    },
    {
      "cell_type": "code",
      "execution_count": 19,
      "id": "f6c1c7ce-3cf0-40d4-a3dc-ab7090f69f2f",
      "metadata": {
        "colab": {
          "base_uri": "https://localhost:8080/"
        },
        "id": "f6c1c7ce-3cf0-40d4-a3dc-ab7090f69f2f",
        "outputId": "bec184c5-2ebc-4a80-cc6a-cb07178183d0"
      },
      "outputs": [
        {
          "output_type": "stream",
          "name": "stdout",
          "text": [
            "0: \n",
            "1: [UNK]\n",
            "2: :\n",
            "3: ,\n",
            "4: .\n",
            "5: and\n",
            "6: the\n",
            "7: wine\n",
            "8: a\n",
            "9: of\n"
          ]
        }
      ],
      "source": [
        "# Display some token:word mappings\n",
        "for i, word in enumerate(vocab[:10]):\n",
        "    print(f\"{i}: {word}\")"
      ]
    },
    {
      "cell_type": "code",
      "execution_count": 20,
      "id": "1cc30186-7ec6-4eb6-b29a-65df6714d321",
      "metadata": {
        "colab": {
          "base_uri": "https://localhost:8080/"
        },
        "id": "1cc30186-7ec6-4eb6-b29a-65df6714d321",
        "outputId": "e83f2fc2-0609-4b1c-bd1d-a34cbf297ce0"
      },
      "outputs": [
        {
          "output_type": "stream",
          "name": "stdout",
          "text": [
            "[   7   11    2   91  283    2 3527    2   55    2 1943  814  457   18\n",
            "  773    3   24  300   12  109    3  435   13  162   15  112    3  239\n",
            "    7    6  601   20   47   75  106   82  501 2671    4 1808  287    1\n",
            "   65  117  534 1498   18    8  118 6421    9  185  431    4    0    0\n",
            "    0    0    0    0    0    0    0    0    0    0    0    0    0    0\n",
            "    0    0    0    0    0    0    0    0    0    0    0]\n"
          ]
        }
      ],
      "source": [
        "# Display the same example converted to ints\n",
        "example_tokenised = vectorize_layer(example_data)\n",
        "print(example_tokenised.numpy())"
      ]
    },
    {
      "cell_type": "markdown",
      "id": "8c195efb-84c6-4be0-a989-a7542188ad35",
      "metadata": {
        "id": "8c195efb-84c6-4be0-a989-a7542188ad35"
      },
      "source": [
        "## 3. Create the Training Set <a name=\"create\"></a>"
      ]
    },
    {
      "cell_type": "code",
      "execution_count": 21,
      "id": "740294a1-1a6b-4c89-92f2-036d7d1b788b",
      "metadata": {
        "id": "740294a1-1a6b-4c89-92f2-036d7d1b788b"
      },
      "outputs": [],
      "source": [
        "# Create the training set of recipes and the same text shifted by one word\n",
        "def prepare_inputs(text):\n",
        "    text = tf.expand_dims(text, -1)\n",
        "    tokenized_sentences = vectorize_layer(text)\n",
        "    x = tokenized_sentences[:, :-1]\n",
        "    y = tokenized_sentences[:, 1:]\n",
        "    return x, y\n",
        "\n",
        "\n",
        "train_ds = text_ds.map(prepare_inputs)"
      ]
    },
    {
      "cell_type": "code",
      "execution_count": 22,
      "id": "cad80ffb-4298-4249-86b4-9918d62534c5",
      "metadata": {
        "id": "cad80ffb-4298-4249-86b4-9918d62534c5"
      },
      "outputs": [],
      "source": [
        "example_input_output = train_ds.take(1).get_single_element()"
      ]
    },
    {
      "cell_type": "code",
      "execution_count": 23,
      "id": "67ff7263-f62d-44c1-997b-1aa99a393521",
      "metadata": {
        "colab": {
          "base_uri": "https://localhost:8080/"
        },
        "id": "67ff7263-f62d-44c1-997b-1aa99a393521",
        "outputId": "dd07b1d7-0809-4e00-ce1d-ab7583b1f90e"
      },
      "outputs": [
        {
          "output_type": "execute_result",
          "data": {
            "text/plain": [
              "<tf.Tensor: shape=(80,), dtype=int64, numpy=\n",
              "array([   7,   11,    2,   21,    2,   25,    2,   65,   28,    2,    1,\n",
              "         16,   19,   28,    9, 3694,   70,   36,   93,    3, 3932,   70,\n",
              "        327,    3,  603,   70, 1107,    3, 1806,   70,   41,   93,    3,\n",
              "       1352,   70,  209, 1143,    5, 1352,   70, 1143,    1,   12,   75,\n",
              "         15,  138,    5, 2261,    3,  162,   15,  299,    5,  499,   50,\n",
              "         18,   59,   10,   88,    5,  309,  459,    4, 3226, 2279,    4,\n",
              "          0,    0,    0,    0,    0,    0,    0,    0,    0,    0,    0,\n",
              "          0,    0,    0])>"
            ]
          },
          "metadata": {},
          "execution_count": 23
        }
      ],
      "source": [
        "# Example Input\n",
        "example_input_output[0][0]"
      ]
    },
    {
      "cell_type": "code",
      "execution_count": 24,
      "id": "ef2e2cad-414c-4e6d-a2ac-6b9598f9dd01",
      "metadata": {
        "colab": {
          "base_uri": "https://localhost:8080/"
        },
        "id": "ef2e2cad-414c-4e6d-a2ac-6b9598f9dd01",
        "outputId": "111da56c-e67a-4a90-96a8-97885c542bb7"
      },
      "outputs": [
        {
          "output_type": "execute_result",
          "data": {
            "text/plain": [
              "<tf.Tensor: shape=(80,), dtype=int64, numpy=\n",
              "array([  11,    2,   21,    2,   25,    2,   65,   28,    2,    1,   16,\n",
              "         19,   28,    9, 3694,   70,   36,   93,    3, 3932,   70,  327,\n",
              "          3,  603,   70, 1107,    3, 1806,   70,   41,   93,    3, 1352,\n",
              "         70,  209, 1143,    5, 1352,   70, 1143,    1,   12,   75,   15,\n",
              "        138,    5, 2261,    3,  162,   15,  299,    5,  499,   50,   18,\n",
              "         59,   10,   88,    5,  309,  459,    4, 3226, 2279,    4,    0,\n",
              "          0,    0,    0,    0,    0,    0,    0,    0,    0,    0,    0,\n",
              "          0,    0,    0])>"
            ]
          },
          "metadata": {},
          "execution_count": 24
        }
      ],
      "source": [
        "# Example Output (shifted by one token)\n",
        "example_input_output[1][0]"
      ]
    },
    {
      "cell_type": "markdown",
      "id": "aff50401-3abe-4c10-bba8-b35bc13ad7d5",
      "metadata": {
        "tags": [],
        "id": "aff50401-3abe-4c10-bba8-b35bc13ad7d5"
      },
      "source": [
        "## 5. Create the causal attention mask function <a name=\"causal\"></a>"
      ]
    },
    {
      "cell_type": "code",
      "execution_count": 25,
      "id": "554a4184-61c2-4eb7-a063-d965586a8188",
      "metadata": {
        "colab": {
          "base_uri": "https://localhost:8080/"
        },
        "id": "554a4184-61c2-4eb7-a063-d965586a8188",
        "outputId": "bb892f4a-9164-432c-a911-23467d5464b4"
      },
      "outputs": [
        {
          "output_type": "execute_result",
          "data": {
            "text/plain": [
              "array([[1, 1, 1, 1, 1, 1, 1, 1, 1, 1],\n",
              "       [0, 1, 1, 1, 1, 1, 1, 1, 1, 1],\n",
              "       [0, 0, 1, 1, 1, 1, 1, 1, 1, 1],\n",
              "       [0, 0, 0, 1, 1, 1, 1, 1, 1, 1],\n",
              "       [0, 0, 0, 0, 1, 1, 1, 1, 1, 1],\n",
              "       [0, 0, 0, 0, 0, 1, 1, 1, 1, 1],\n",
              "       [0, 0, 0, 0, 0, 0, 1, 1, 1, 1],\n",
              "       [0, 0, 0, 0, 0, 0, 0, 1, 1, 1],\n",
              "       [0, 0, 0, 0, 0, 0, 0, 0, 1, 1],\n",
              "       [0, 0, 0, 0, 0, 0, 0, 0, 0, 1]], dtype=int32)"
            ]
          },
          "metadata": {},
          "execution_count": 25
        }
      ],
      "source": [
        "def causal_attention_mask(batch_size, n_dest, n_src, dtype):\n",
        "    i = tf.range(n_dest)[:, None]\n",
        "    j = tf.range(n_src)\n",
        "    m = i >= j - n_src + n_dest\n",
        "    mask = tf.cast(m, dtype)\n",
        "    mask = tf.reshape(mask, [1, n_dest, n_src])\n",
        "    mult = tf.concat(\n",
        "        [tf.expand_dims(batch_size, -1), tf.constant([1, 1], dtype=tf.int32)], 0\n",
        "    )\n",
        "    return tf.tile(mask, mult)\n",
        "\n",
        "\n",
        "np.transpose(causal_attention_mask(1, 10, 10, dtype=tf.int32)[0])"
      ]
    },
    {
      "cell_type": "markdown",
      "id": "3501dbad-0860-40ad-b7d6-47950e37858f",
      "metadata": {
        "id": "3501dbad-0860-40ad-b7d6-47950e37858f"
      },
      "source": [
        "## 6. Create a Transformer Block layer <a name=\"transformer\"></a>"
      ]
    },
    {
      "cell_type": "code",
      "execution_count": 26,
      "id": "5285a1cb-fce1-46b1-b088-b596002fa9ae",
      "metadata": {
        "id": "5285a1cb-fce1-46b1-b088-b596002fa9ae"
      },
      "outputs": [],
      "source": [
        "class TransformerBlock(layers.Layer):\n",
        "    def __init__(self, num_heads, key_dim, embed_dim, ff_dim, dropout_rate=0.1):\n",
        "        super(TransformerBlock, self).__init__()\n",
        "        self.num_heads = num_heads\n",
        "        self.key_dim = key_dim\n",
        "        self.embed_dim = embed_dim\n",
        "        self.ff_dim = ff_dim\n",
        "        self.dropout_rate = dropout_rate\n",
        "        self.attn = layers.MultiHeadAttention(\n",
        "            num_heads, key_dim, output_shape=embed_dim\n",
        "        )\n",
        "        self.dropout_1 = layers.Dropout(self.dropout_rate)\n",
        "        self.ln_1 = layers.LayerNormalization(epsilon=1e-6)\n",
        "        self.ffn_1 = layers.Dense(self.ff_dim, activation=\"relu\")\n",
        "        self.ffn_2 = layers.Dense(self.embed_dim)\n",
        "        self.dropout_2 = layers.Dropout(self.dropout_rate)\n",
        "        self.ln_2 = layers.LayerNormalization(epsilon=1e-6)\n",
        "\n",
        "    def call(self, inputs):\n",
        "        input_shape = tf.shape(inputs)\n",
        "        batch_size = input_shape[0]\n",
        "        seq_len = input_shape[1]\n",
        "        causal_mask = causal_attention_mask(\n",
        "            batch_size, seq_len, seq_len, tf.bool\n",
        "        )\n",
        "        attention_output, attention_scores = self.attn(\n",
        "            inputs,\n",
        "            inputs,\n",
        "            attention_mask=causal_mask,\n",
        "            return_attention_scores=True,\n",
        "        )\n",
        "        attention_output = self.dropout_1(attention_output)\n",
        "        out1 = self.ln_1(inputs + attention_output)\n",
        "        ffn_1 = self.ffn_1(out1)\n",
        "        ffn_2 = self.ffn_2(ffn_1)\n",
        "        ffn_output = self.dropout_2(ffn_2)\n",
        "        return (self.ln_2(out1 + ffn_output), attention_scores)\n",
        "\n",
        "    def get_config(self):\n",
        "        config = super().get_config()\n",
        "        config.update(\n",
        "            {\n",
        "                \"key_dim\": self.key_dim,\n",
        "                \"embed_dim\": self.embed_dim,\n",
        "                \"num_heads\": self.num_heads,\n",
        "                \"ff_dim\": self.ff_dim,\n",
        "                \"dropout_rate\": self.dropout_rate,\n",
        "            }\n",
        "        )\n",
        "        return config"
      ]
    },
    {
      "cell_type": "markdown",
      "id": "076a6be0-9796-4974-9bcd-6ebbcfe7514e",
      "metadata": {
        "tags": [],
        "id": "076a6be0-9796-4974-9bcd-6ebbcfe7514e"
      },
      "source": [
        "## 7. Create the Token and Position Embedding <a name=\"embedder\"></a>"
      ]
    },
    {
      "cell_type": "code",
      "execution_count": 27,
      "id": "fdf5cb25-88ae-4026-9e21-c1e6b5094a2c",
      "metadata": {
        "id": "fdf5cb25-88ae-4026-9e21-c1e6b5094a2c"
      },
      "outputs": [],
      "source": [
        "class TokenAndPositionEmbedding(layers.Layer):\n",
        "    def __init__(self, max_len, vocab_size, embed_dim):\n",
        "        super(TokenAndPositionEmbedding, self).__init__()\n",
        "        self.max_len = max_len\n",
        "        self.vocab_size = vocab_size\n",
        "        self.embed_dim = embed_dim\n",
        "        self.token_emb = layers.Embedding(\n",
        "            input_dim=vocab_size, output_dim=embed_dim\n",
        "        )\n",
        "        self.pos_emb = layers.Embedding(input_dim=max_len, output_dim=embed_dim)\n",
        "\n",
        "    def call(self, x):\n",
        "        maxlen = tf.shape(x)[-1]\n",
        "        positions = tf.range(start=0, limit=maxlen, delta=1)\n",
        "        positions = self.pos_emb(positions)\n",
        "        x = self.token_emb(x)\n",
        "        return x + positions\n",
        "\n",
        "    def get_config(self):\n",
        "        config = super().get_config()\n",
        "        config.update(\n",
        "            {\n",
        "                \"max_len\": self.max_len,\n",
        "                \"vocab_size\": self.vocab_size,\n",
        "                \"embed_dim\": self.embed_dim,\n",
        "            }\n",
        "        )\n",
        "        return config"
      ]
    },
    {
      "cell_type": "markdown",
      "id": "aac2e2d4-5980-47e3-b5b0-6c41c0c2d152",
      "metadata": {
        "id": "aac2e2d4-5980-47e3-b5b0-6c41c0c2d152"
      },
      "source": [
        "## 8. Build the Transformer model <a name=\"transformer_decoder\"></a>"
      ]
    },
    {
      "cell_type": "code",
      "execution_count": 28,
      "id": "8c57596e-e17d-4959-b6e8-7581b0bace3a",
      "metadata": {
        "id": "8c57596e-e17d-4959-b6e8-7581b0bace3a"
      },
      "outputs": [],
      "source": [
        "inputs = layers.Input(shape=(None,), dtype=tf.int32)\n",
        "x = TokenAndPositionEmbedding(MAX_LEN, VOCAB_SIZE, EMBEDDING_DIM)(inputs)\n",
        "x, attention_scores = TransformerBlock(\n",
        "    N_HEADS, KEY_DIM, EMBEDDING_DIM, FEED_FORWARD_DIM\n",
        ")(x)\n",
        "outputs = layers.Dense(VOCAB_SIZE, activation=\"softmax\")(x)\n",
        "gpt = models.Model(inputs=inputs, outputs=[outputs, attention_scores])\n",
        "gpt.compile(\"adam\", loss=[losses.SparseCategoricalCrossentropy(), None])"
      ]
    },
    {
      "cell_type": "code",
      "execution_count": 29,
      "id": "1a1c3b0f-3382-444d-bb04-bae143ae5d61",
      "metadata": {
        "colab": {
          "base_uri": "https://localhost:8080/",
          "height": 291
        },
        "id": "1a1c3b0f-3382-444d-bb04-bae143ae5d61",
        "outputId": "36c73922-8680-460e-82c7-7f234ef32b83"
      },
      "outputs": [
        {
          "output_type": "display_data",
          "data": {
            "text/plain": [
              "\u001b[1mModel: \"functional\"\u001b[0m\n"
            ],
            "text/html": [
              "<pre style=\"white-space:pre;overflow-x:auto;line-height:normal;font-family:Menlo,'DejaVu Sans Mono',consolas,'Courier New',monospace\"><span style=\"font-weight: bold\">Model: \"functional\"</span>\n",
              "</pre>\n"
            ]
          },
          "metadata": {}
        },
        {
          "output_type": "display_data",
          "data": {
            "text/plain": [
              "┏━━━━━━━━━━━━━━━━━━━━━━━━━━━━━━━━━┳━━━━━━━━━━━━━━━━━━━━━━━━┳━━━━━━━━━━━━━━━┓\n",
              "┃\u001b[1m \u001b[0m\u001b[1mLayer (type)                   \u001b[0m\u001b[1m \u001b[0m┃\u001b[1m \u001b[0m\u001b[1mOutput Shape          \u001b[0m\u001b[1m \u001b[0m┃\u001b[1m \u001b[0m\u001b[1m      Param #\u001b[0m\u001b[1m \u001b[0m┃\n",
              "┡━━━━━━━━━━━━━━━━━━━━━━━━━━━━━━━━━╇━━━━━━━━━━━━━━━━━━━━━━━━╇━━━━━━━━━━━━━━━┩\n",
              "│ input_layer (\u001b[38;5;33mInputLayer\u001b[0m)        │ (\u001b[38;5;45mNone\u001b[0m, \u001b[38;5;45mNone\u001b[0m)           │             \u001b[38;5;34m0\u001b[0m │\n",
              "├─────────────────────────────────┼────────────────────────┼───────────────┤\n",
              "│ token_and_position_embedding    │ (\u001b[38;5;45mNone\u001b[0m, \u001b[38;5;45mNone\u001b[0m, \u001b[38;5;34m256\u001b[0m)      │     \u001b[38;5;34m2,580,480\u001b[0m │\n",
              "│ (\u001b[38;5;33mTokenAndPositionEmbedding\u001b[0m)     │                        │               │\n",
              "├─────────────────────────────────┼────────────────────────┼───────────────┤\n",
              "│ transformer_block               │ [(\u001b[38;5;45mNone\u001b[0m, \u001b[38;5;45mNone\u001b[0m, \u001b[38;5;34m256\u001b[0m),    │       \u001b[38;5;34m658,688\u001b[0m │\n",
              "│ (\u001b[38;5;33mTransformerBlock\u001b[0m)              │ (\u001b[38;5;45mNone\u001b[0m, \u001b[38;5;34m2\u001b[0m, \u001b[38;5;45mNone\u001b[0m, \u001b[38;5;45mNone\u001b[0m)] │               │\n",
              "├─────────────────────────────────┼────────────────────────┼───────────────┤\n",
              "│ dense_2 (\u001b[38;5;33mDense\u001b[0m)                 │ (\u001b[38;5;45mNone\u001b[0m, \u001b[38;5;45mNone\u001b[0m, \u001b[38;5;34m10000\u001b[0m)    │     \u001b[38;5;34m2,570,000\u001b[0m │\n",
              "└─────────────────────────────────┴────────────────────────┴───────────────┘\n"
            ],
            "text/html": [
              "<pre style=\"white-space:pre;overflow-x:auto;line-height:normal;font-family:Menlo,'DejaVu Sans Mono',consolas,'Courier New',monospace\">┏━━━━━━━━━━━━━━━━━━━━━━━━━━━━━━━━━┳━━━━━━━━━━━━━━━━━━━━━━━━┳━━━━━━━━━━━━━━━┓\n",
              "┃<span style=\"font-weight: bold\"> Layer (type)                    </span>┃<span style=\"font-weight: bold\"> Output Shape           </span>┃<span style=\"font-weight: bold\">       Param # </span>┃\n",
              "┡━━━━━━━━━━━━━━━━━━━━━━━━━━━━━━━━━╇━━━━━━━━━━━━━━━━━━━━━━━━╇━━━━━━━━━━━━━━━┩\n",
              "│ input_layer (<span style=\"color: #0087ff; text-decoration-color: #0087ff\">InputLayer</span>)        │ (<span style=\"color: #00d7ff; text-decoration-color: #00d7ff\">None</span>, <span style=\"color: #00d7ff; text-decoration-color: #00d7ff\">None</span>)           │             <span style=\"color: #00af00; text-decoration-color: #00af00\">0</span> │\n",
              "├─────────────────────────────────┼────────────────────────┼───────────────┤\n",
              "│ token_and_position_embedding    │ (<span style=\"color: #00d7ff; text-decoration-color: #00d7ff\">None</span>, <span style=\"color: #00d7ff; text-decoration-color: #00d7ff\">None</span>, <span style=\"color: #00af00; text-decoration-color: #00af00\">256</span>)      │     <span style=\"color: #00af00; text-decoration-color: #00af00\">2,580,480</span> │\n",
              "│ (<span style=\"color: #0087ff; text-decoration-color: #0087ff\">TokenAndPositionEmbedding</span>)     │                        │               │\n",
              "├─────────────────────────────────┼────────────────────────┼───────────────┤\n",
              "│ transformer_block               │ [(<span style=\"color: #00d7ff; text-decoration-color: #00d7ff\">None</span>, <span style=\"color: #00d7ff; text-decoration-color: #00d7ff\">None</span>, <span style=\"color: #00af00; text-decoration-color: #00af00\">256</span>),    │       <span style=\"color: #00af00; text-decoration-color: #00af00\">658,688</span> │\n",
              "│ (<span style=\"color: #0087ff; text-decoration-color: #0087ff\">TransformerBlock</span>)              │ (<span style=\"color: #00d7ff; text-decoration-color: #00d7ff\">None</span>, <span style=\"color: #00af00; text-decoration-color: #00af00\">2</span>, <span style=\"color: #00d7ff; text-decoration-color: #00d7ff\">None</span>, <span style=\"color: #00d7ff; text-decoration-color: #00d7ff\">None</span>)] │               │\n",
              "├─────────────────────────────────┼────────────────────────┼───────────────┤\n",
              "│ dense_2 (<span style=\"color: #0087ff; text-decoration-color: #0087ff\">Dense</span>)                 │ (<span style=\"color: #00d7ff; text-decoration-color: #00d7ff\">None</span>, <span style=\"color: #00d7ff; text-decoration-color: #00d7ff\">None</span>, <span style=\"color: #00af00; text-decoration-color: #00af00\">10000</span>)    │     <span style=\"color: #00af00; text-decoration-color: #00af00\">2,570,000</span> │\n",
              "└─────────────────────────────────┴────────────────────────┴───────────────┘\n",
              "</pre>\n"
            ]
          },
          "metadata": {}
        },
        {
          "output_type": "display_data",
          "data": {
            "text/plain": [
              "\u001b[1m Total params: \u001b[0m\u001b[38;5;34m5,809,168\u001b[0m (22.16 MB)\n"
            ],
            "text/html": [
              "<pre style=\"white-space:pre;overflow-x:auto;line-height:normal;font-family:Menlo,'DejaVu Sans Mono',consolas,'Courier New',monospace\"><span style=\"font-weight: bold\"> Total params: </span><span style=\"color: #00af00; text-decoration-color: #00af00\">5,809,168</span> (22.16 MB)\n",
              "</pre>\n"
            ]
          },
          "metadata": {}
        },
        {
          "output_type": "display_data",
          "data": {
            "text/plain": [
              "\u001b[1m Trainable params: \u001b[0m\u001b[38;5;34m5,809,168\u001b[0m (22.16 MB)\n"
            ],
            "text/html": [
              "<pre style=\"white-space:pre;overflow-x:auto;line-height:normal;font-family:Menlo,'DejaVu Sans Mono',consolas,'Courier New',monospace\"><span style=\"font-weight: bold\"> Trainable params: </span><span style=\"color: #00af00; text-decoration-color: #00af00\">5,809,168</span> (22.16 MB)\n",
              "</pre>\n"
            ]
          },
          "metadata": {}
        },
        {
          "output_type": "display_data",
          "data": {
            "text/plain": [
              "\u001b[1m Non-trainable params: \u001b[0m\u001b[38;5;34m0\u001b[0m (0.00 B)\n"
            ],
            "text/html": [
              "<pre style=\"white-space:pre;overflow-x:auto;line-height:normal;font-family:Menlo,'DejaVu Sans Mono',consolas,'Courier New',monospace\"><span style=\"font-weight: bold\"> Non-trainable params: </span><span style=\"color: #00af00; text-decoration-color: #00af00\">0</span> (0.00 B)\n",
              "</pre>\n"
            ]
          },
          "metadata": {}
        }
      ],
      "source": [
        "gpt.summary()"
      ]
    },
    {
      "cell_type": "code",
      "execution_count": 33,
      "id": "800a3c6e-fb11-4792-b6bc-9a43a7c977ad",
      "metadata": {
        "tags": [],
        "id": "800a3c6e-fb11-4792-b6bc-9a43a7c977ad"
      },
      "outputs": [],
      "source": [
        "if LOAD_MODEL:\n",
        "    # model.load_weights('./models/model')\n",
        "    gpt = models.load_model(\"./models/gpt\", compile=True)"
      ]
    },
    {
      "cell_type": "markdown",
      "id": "35b14665-4359-447b-be58-3fd58ba69084",
      "metadata": {
        "id": "35b14665-4359-447b-be58-3fd58ba69084"
      },
      "source": [
        "## 9. Train the Transformer <a name=\"train\"></a>"
      ]
    },
    {
      "cell_type": "code",
      "execution_count": 34,
      "id": "3ddcff5f-829d-4449-99d2-9a3cb68f7d72",
      "metadata": {
        "id": "3ddcff5f-829d-4449-99d2-9a3cb68f7d72"
      },
      "outputs": [],
      "source": [
        "# Create a TextGenerator checkpoint\n",
        "class TextGenerator(callbacks.Callback):\n",
        "    def __init__(self, index_to_word, top_k=10):\n",
        "        self.index_to_word = index_to_word\n",
        "        self.word_to_index = {\n",
        "            word: index for index, word in enumerate(index_to_word)\n",
        "        }\n",
        "\n",
        "    def sample_from(self, probs, temperature):\n",
        "        probs = probs ** (1 / temperature)\n",
        "        probs = probs / np.sum(probs)\n",
        "        return np.random.choice(len(probs), p=probs), probs\n",
        "\n",
        "    def generate(self, start_prompt, max_tokens, temperature):\n",
        "        start_tokens = [\n",
        "            self.word_to_index.get(x, 1) for x in start_prompt.split()\n",
        "        ]\n",
        "        sample_token = None\n",
        "        info = []\n",
        "        while len(start_tokens) < max_tokens and sample_token != 0:\n",
        "            x = np.array([start_tokens])\n",
        "            y, att = self.model.predict(x, verbose=0)\n",
        "            sample_token, probs = self.sample_from(y[0][-1], temperature)\n",
        "            info.append(\n",
        "                {\n",
        "                    \"prompt\": start_prompt,\n",
        "                    \"word_probs\": probs,\n",
        "                    \"atts\": att[0, :, -1, :],\n",
        "                }\n",
        "            )\n",
        "            start_tokens.append(sample_token)\n",
        "            start_prompt = start_prompt + \" \" + self.index_to_word[sample_token]\n",
        "        print(f\"\\ngenerated text:\\n{start_prompt}\\n\")\n",
        "        return info\n",
        "\n",
        "    def on_epoch_end(self, epoch, logs=None):\n",
        "        self.generate(\"wine review\", max_tokens=80, temperature=1.0)"
      ]
    },
    {
      "cell_type": "code",
      "execution_count": 36,
      "id": "349865fe-ffbe-450e-97be-043ae1740e78",
      "metadata": {
        "id": "349865fe-ffbe-450e-97be-043ae1740e78"
      },
      "outputs": [],
      "source": [
        "# Create a model save checkpoint\n",
        "model_checkpoint_callback = callbacks.ModelCheckpoint(\n",
        "    filepath=\"./checkpoint/checkpoint.weights.h5\",\n",
        "    save_weights_only=True,\n",
        "    save_freq=\"epoch\",\n",
        "    verbose=0,\n",
        ")\n",
        "\n",
        "tensorboard_callback = callbacks.TensorBoard(log_dir=\"./logs\")\n",
        "\n",
        "# Tokenize starting prompt\n",
        "text_generator = TextGenerator(vocab)"
      ]
    },
    {
      "cell_type": "code",
      "execution_count": 37,
      "id": "461c2b3e-b5ae-4def-8bd9-e7bab8c63d8e",
      "metadata": {
        "tags": [],
        "colab": {
          "base_uri": "https://localhost:8080/"
        },
        "id": "461c2b3e-b5ae-4def-8bd9-e7bab8c63d8e",
        "outputId": "6e5c346a-af03-45e6-e682-aa2a39f0e5fb"
      },
      "outputs": [
        {
          "output_type": "stream",
          "name": "stdout",
          "text": [
            "Epoch 1/5\n",
            "\u001b[1m4716/4717\u001b[0m \u001b[32m━━━━━━━━━━━━━━━━━━━\u001b[0m\u001b[37m━\u001b[0m \u001b[1m0s\u001b[0m 28ms/step - loss: 2.5346\n",
            "generated text:\n",
            "wine review : australia : south australia : shiraz : an unoaked mouthful of wine connection with [UNK] , raspberry and cherry fruit and moderate acid , prickly up a bit of tannin , yields a leathery finish . it ' s medium - weight is solid and dry . \n",
            "\n",
            "\u001b[1m4717/4717\u001b[0m \u001b[32m━━━━━━━━━━━━━━━━━━━━\u001b[0m\u001b[37m\u001b[0m \u001b[1m181s\u001b[0m 37ms/step - loss: 2.5345\n",
            "Epoch 2/5\n",
            "\u001b[1m4716/4717\u001b[0m \u001b[32m━━━━━━━━━━━━━━━━━━━\u001b[0m\u001b[37m━\u001b[0m \u001b[1m0s\u001b[0m 30ms/step - loss: 1.9637\n",
            "generated text:\n",
            "wine review : us : california : merlot : some good cherry and blackberry fruit . feels youthful in the mouth , this wine has a firm foundation of tannins , acids , new oak and style . try with an ager . \n",
            "\n",
            "\u001b[1m4717/4717\u001b[0m \u001b[32m━━━━━━━━━━━━━━━━━━━━\u001b[0m\u001b[37m\u001b[0m \u001b[1m144s\u001b[0m 31ms/step - loss: 1.9637\n",
            "Epoch 3/5\n",
            "\u001b[1m4716/4717\u001b[0m \u001b[32m━━━━━━━━━━━━━━━━━━━\u001b[0m\u001b[37m━\u001b[0m \u001b[1m0s\u001b[0m 30ms/step - loss: 1.8773\n",
            "generated text:\n",
            "wine review : france : southwest france : white blend : a is a blend of [UNK] , pinot blanc , based on the chardonnay - chardonnay - based category . this powerful , crisp apple and mineral wine , emphasizing the concentration of the toast flavors . there is a crisp sense of minerality , a vivid , buoyant quality to this otherwise dependable wine . \n",
            "\n",
            "\u001b[1m4717/4717\u001b[0m \u001b[32m━━━━━━━━━━━━━━━━━━━━\u001b[0m\u001b[37m\u001b[0m \u001b[1m161s\u001b[0m 34ms/step - loss: 1.8773\n",
            "Epoch 4/5\n",
            "\u001b[1m4716/4717\u001b[0m \u001b[32m━━━━━━━━━━━━━━━━━━━\u001b[0m\u001b[37m━\u001b[0m \u001b[1m0s\u001b[0m 30ms/step - loss: 1.8269\n",
            "generated text:\n",
            "wine review : us : california : cabernet sauvignon : at the age pretty harsh tannins , and it ' s an unrewarding cabernet . there ' s just too much to match the overlay . otherwise , it tastes bad , although there are well - ripened flavors of blackberries and cherries , and the finish is fully dry . \n",
            "\n",
            "\u001b[1m4717/4717\u001b[0m \u001b[32m━━━━━━━━━━━━━━━━━━━━\u001b[0m\u001b[37m\u001b[0m \u001b[1m147s\u001b[0m 31ms/step - loss: 1.8269\n",
            "Epoch 5/5\n",
            "\u001b[1m4717/4717\u001b[0m \u001b[32m━━━━━━━━━━━━━━━━━━━━\u001b[0m\u001b[37m\u001b[0m \u001b[1m0s\u001b[0m 30ms/step - loss: 1.7935\n",
            "generated text:\n",
            "wine review : france : bordeaux : bordeaux - style red blend : the main thrust of this wine is tannic initially , an attractive juicy feel . there is some light fruit , hiding hidden behind the dark black ripe fruit and bitter tannins . it could be a wine , and the next couple of years . \n",
            "\n",
            "\u001b[1m4717/4717\u001b[0m \u001b[32m━━━━━━━━━━━━━━━━━━━━\u001b[0m\u001b[37m\u001b[0m \u001b[1m147s\u001b[0m 31ms/step - loss: 1.7935\n"
          ]
        },
        {
          "output_type": "execute_result",
          "data": {
            "text/plain": [
              "<keras.src.callbacks.history.History at 0x7985845d5150>"
            ]
          },
          "metadata": {},
          "execution_count": 37
        }
      ],
      "source": [
        "gpt.fit(\n",
        "    train_ds,\n",
        "    epochs=EPOCHS,\n",
        "    callbacks=[model_checkpoint_callback, tensorboard_callback, text_generator],\n",
        ")"
      ]
    },
    {
      "cell_type": "code",
      "execution_count": 40,
      "id": "369bde44-2e39-4bc6-8549-a3a27ecce55c",
      "metadata": {
        "tags": [],
        "id": "369bde44-2e39-4bc6-8549-a3a27ecce55c"
      },
      "outputs": [],
      "source": [
        "import os\n",
        "\n",
        "# Create the directory if it doesn't exist\n",
        "os.makedirs(\"./models\", exist_ok=True)\n",
        "\n",
        "# Save the final model\n",
        "gpt.save(\"./models/gpt.keras\")"
      ]
    },
    {
      "cell_type": "markdown",
      "id": "d64e02d2-84dc-40c8-8446-40c09adf1e20",
      "metadata": {
        "id": "d64e02d2-84dc-40c8-8446-40c09adf1e20"
      },
      "source": [
        "# 3. Generate text using the Transformer"
      ]
    },
    {
      "cell_type": "code",
      "execution_count": 41,
      "id": "4ad23adb-3ec9-4e9a-9a59-b9f9bafca649",
      "metadata": {
        "id": "4ad23adb-3ec9-4e9a-9a59-b9f9bafca649"
      },
      "outputs": [],
      "source": [
        "def print_probs(info, vocab, top_k=5):\n",
        "    for i in info:\n",
        "        highlighted_text = []\n",
        "        for word, att_score in zip(\n",
        "            i[\"prompt\"].split(), np.mean(i[\"atts\"], axis=0)\n",
        "        ):\n",
        "            highlighted_text.append(\n",
        "                '<span style=\"background-color:rgba(135,206,250,'\n",
        "                + str(att_score / max(np.mean(i[\"atts\"], axis=0)))\n",
        "                + ');\">'\n",
        "                + word\n",
        "                + \"</span>\"\n",
        "            )\n",
        "        highlighted_text = \" \".join(highlighted_text)\n",
        "        display(HTML(highlighted_text))\n",
        "\n",
        "        word_probs = i[\"word_probs\"]\n",
        "        p_sorted = np.sort(word_probs)[::-1][:top_k]\n",
        "        i_sorted = np.argsort(word_probs)[::-1][:top_k]\n",
        "        for p, i in zip(p_sorted, i_sorted):\n",
        "            print(f\"{vocab[i]}:   \\t{np.round(100*p,2)}%\")\n",
        "        print(\"--------\\n\")"
      ]
    },
    {
      "cell_type": "code",
      "execution_count": 47,
      "id": "3cf25578-d47c-4b26-8252-fcdf2316a4ac",
      "metadata": {
        "colab": {
          "base_uri": "https://localhost:8080/"
        },
        "id": "3cf25578-d47c-4b26-8252-fcdf2316a4ac",
        "outputId": "df3ae2b3-9218-4558-e915-fec9a76b2f82"
      },
      "outputs": [
        {
          "output_type": "stream",
          "name": "stdout",
          "text": [
            "\n",
            "generated text:\n",
            "wine review : us : california : chardonnay : like anderson and a fine acidity saves it with being a\n",
            "\n"
          ]
        }
      ],
      "source": [
        "info = text_generator.generate(\n",
        "    \"wine review : us\", max_tokens=20, temperature=1.0\n",
        ")"
      ]
    },
    {
      "cell_type": "code",
      "source": [
        "print_probs(info, vocab)"
      ],
      "metadata": {
        "colab": {
          "base_uri": "https://localhost:8080/",
          "height": 1000
        },
        "id": "JoxRXuwkD5Bv",
        "outputId": "7d982971-f142-42ad-ac20-3d5f044bf32a"
      },
      "id": "JoxRXuwkD5Bv",
      "execution_count": 48,
      "outputs": [
        {
          "output_type": "display_data",
          "data": {
            "text/plain": [
              "<IPython.core.display.HTML object>"
            ],
            "text/html": [
              "<span style=\"background-color:rgba(135,206,250,0.7916962);\">wine</span> <span style=\"background-color:rgba(135,206,250,1.0);\">review</span> <span style=\"background-color:rgba(135,206,250,0.2978363);\">:</span> <span style=\"background-color:rgba(135,206,250,0.2276615);\">us</span>"
            ]
          },
          "metadata": {}
        },
        {
          "output_type": "stream",
          "name": "stdout",
          "text": [
            "::   \t100.0%\n",
            "-:   \t0.0%\n",
            "grosso:   \t0.0%\n",
            "port:   \t0.0%\n",
            "new:   \t0.0%\n",
            "--------\n",
            "\n"
          ]
        },
        {
          "output_type": "display_data",
          "data": {
            "text/plain": [
              "<IPython.core.display.HTML object>"
            ],
            "text/html": [
              "<span style=\"background-color:rgba(135,206,250,0.73806286);\">wine</span> <span style=\"background-color:rgba(135,206,250,0.75974214);\">review</span> <span style=\"background-color:rgba(135,206,250,0.37177807);\">:</span> <span style=\"background-color:rgba(135,206,250,1.0);\">us</span> <span style=\"background-color:rgba(135,206,250,0.34142968);\">:</span>"
            ]
          },
          "metadata": {}
        },
        {
          "output_type": "stream",
          "name": "stdout",
          "text": [
            "california:   \t66.43000030517578%\n",
            "washington:   \t18.170000076293945%\n",
            "new:   \t6.46999979019165%\n",
            "oregon:   \t6.170000076293945%\n",
            "virginia:   \t1.090000033378601%\n",
            "--------\n",
            "\n"
          ]
        },
        {
          "output_type": "display_data",
          "data": {
            "text/plain": [
              "<IPython.core.display.HTML object>"
            ],
            "text/html": [
              "<span style=\"background-color:rgba(135,206,250,0.8739158);\">wine</span> <span style=\"background-color:rgba(135,206,250,1.0);\">review</span> <span style=\"background-color:rgba(135,206,250,0.31104645);\">:</span> <span style=\"background-color:rgba(135,206,250,0.26357767);\">us</span> <span style=\"background-color:rgba(135,206,250,0.32391638);\">:</span> <span style=\"background-color:rgba(135,206,250,0.18836415);\">california</span>"
            ]
          },
          "metadata": {}
        },
        {
          "output_type": "stream",
          "name": "stdout",
          "text": [
            "::   \t99.98999786376953%\n",
            "-:   \t0.0%\n",
            "valley:   \t0.0%\n",
            "other:   \t0.0%\n",
            "hills:   \t0.0%\n",
            "--------\n",
            "\n"
          ]
        },
        {
          "output_type": "display_data",
          "data": {
            "text/plain": [
              "<IPython.core.display.HTML object>"
            ],
            "text/html": [
              "<span style=\"background-color:rgba(135,206,250,0.74433357);\">wine</span> <span style=\"background-color:rgba(135,206,250,1.0);\">review</span> <span style=\"background-color:rgba(135,206,250,0.2898697);\">:</span> <span style=\"background-color:rgba(135,206,250,0.7016069);\">us</span> <span style=\"background-color:rgba(135,206,250,0.21057013);\">:</span> <span style=\"background-color:rgba(135,206,250,0.7880765);\">california</span> <span style=\"background-color:rgba(135,206,250,0.24133094);\">:</span>"
            ]
          },
          "metadata": {}
        },
        {
          "output_type": "stream",
          "name": "stdout",
          "text": [
            "cabernet:   \t23.799999237060547%\n",
            "chardonnay:   \t10.829999923706055%\n",
            "pinot:   \t9.720000267028809%\n",
            "merlot:   \t7.369999885559082%\n",
            "sauvignon:   \t6.71999979019165%\n",
            "--------\n",
            "\n"
          ]
        },
        {
          "output_type": "display_data",
          "data": {
            "text/plain": [
              "<IPython.core.display.HTML object>"
            ],
            "text/html": [
              "<span style=\"background-color:rgba(135,206,250,0.68496126);\">wine</span> <span style=\"background-color:rgba(135,206,250,1.0);\">review</span> <span style=\"background-color:rgba(135,206,250,0.18750165);\">:</span> <span style=\"background-color:rgba(135,206,250,0.28845042);\">us</span> <span style=\"background-color:rgba(135,206,250,0.21518242);\">:</span> <span style=\"background-color:rgba(135,206,250,0.2593897);\">california</span> <span style=\"background-color:rgba(135,206,250,0.24489675);\">:</span> <span style=\"background-color:rgba(135,206,250,0.1463891);\">chardonnay</span>"
            ]
          },
          "metadata": {}
        },
        {
          "output_type": "stream",
          "name": "stdout",
          "text": [
            "::   \t99.83000183105469%\n",
            "-:   \t0.14000000059604645%\n",
            "blanc:   \t0.009999999776482582%\n",
            "blend:   \t0.009999999776482582%\n",
            "grosso:   \t0.0%\n",
            "--------\n",
            "\n"
          ]
        },
        {
          "output_type": "display_data",
          "data": {
            "text/plain": [
              "<IPython.core.display.HTML object>"
            ],
            "text/html": [
              "<span style=\"background-color:rgba(135,206,250,0.6790616);\">wine</span> <span style=\"background-color:rgba(135,206,250,1.0);\">review</span> <span style=\"background-color:rgba(135,206,250,0.24516664);\">:</span> <span style=\"background-color:rgba(135,206,250,0.32772416);\">us</span> <span style=\"background-color:rgba(135,206,250,0.18662229);\">:</span> <span style=\"background-color:rgba(135,206,250,0.6599699);\">california</span> <span style=\"background-color:rgba(135,206,250,0.36052012);\">:</span> <span style=\"background-color:rgba(135,206,250,0.6897842);\">chardonnay</span> <span style=\"background-color:rgba(135,206,250,0.38413522);\">:</span>"
            ]
          },
          "metadata": {}
        },
        {
          "output_type": "stream",
          "name": "stdout",
          "text": [
            "this:   \t10.779999732971191%\n",
            "a:   \t9.210000038146973%\n",
            "the:   \t5.53000020980835%\n",
            "here:   \t3.240000009536743%\n",
            "there:   \t3.069999933242798%\n",
            "--------\n",
            "\n"
          ]
        },
        {
          "output_type": "display_data",
          "data": {
            "text/plain": [
              "<IPython.core.display.HTML object>"
            ],
            "text/html": [
              "<span style=\"background-color:rgba(135,206,250,0.5309606);\">wine</span> <span style=\"background-color:rgba(135,206,250,1.0);\">review</span> <span style=\"background-color:rgba(135,206,250,0.142162);\">:</span> <span style=\"background-color:rgba(135,206,250,0.11939913);\">us</span> <span style=\"background-color:rgba(135,206,250,0.110993765);\">:</span> <span style=\"background-color:rgba(135,206,250,0.16765875);\">california</span> <span style=\"background-color:rgba(135,206,250,0.15927424);\">:</span> <span style=\"background-color:rgba(135,206,250,0.18580952);\">chardonnay</span> <span style=\"background-color:rgba(135,206,250,0.20016617);\">:</span> <span style=\"background-color:rgba(135,206,250,0.17622437);\">like</span>"
            ]
          },
          "metadata": {}
        },
        {
          "output_type": "stream",
          "name": "stdout",
          "text": [
            "a:   \t30.90999984741211%\n",
            "the:   \t17.889999389648438%\n",
            "this:   \t9.100000381469727%\n",
            "many:   \t7.929999828338623%\n",
            "an:   \t5.190000057220459%\n",
            "--------\n",
            "\n"
          ]
        },
        {
          "output_type": "display_data",
          "data": {
            "text/plain": [
              "<IPython.core.display.HTML object>"
            ],
            "text/html": [
              "<span style=\"background-color:rgba(135,206,250,0.43863836);\">wine</span> <span style=\"background-color:rgba(135,206,250,1.0);\">review</span> <span style=\"background-color:rgba(135,206,250,0.083396435);\">:</span> <span style=\"background-color:rgba(135,206,250,0.079726145);\">us</span> <span style=\"background-color:rgba(135,206,250,0.10266442);\">:</span> <span style=\"background-color:rgba(135,206,250,0.102525234);\">california</span> <span style=\"background-color:rgba(135,206,250,0.1367958);\">:</span> <span style=\"background-color:rgba(135,206,250,0.07143037);\">chardonnay</span> <span style=\"background-color:rgba(135,206,250,0.21459122);\">:</span> <span style=\"background-color:rgba(135,206,250,0.7727395);\">like</span> <span style=\"background-color:rgba(135,206,250,0.24972132);\">anderson</span>"
            ]
          },
          "metadata": {}
        },
        {
          "output_type": "stream",
          "name": "stdout",
          "text": [
            "valley:   \t58.779998779296875%\n",
            ",:   \t16.709999084472656%\n",
            "is:   \t5.519999980926514%\n",
            "and:   \t3.6700000762939453%\n",
            "':   \t1.850000023841858%\n",
            "--------\n",
            "\n"
          ]
        },
        {
          "output_type": "display_data",
          "data": {
            "text/plain": [
              "<IPython.core.display.HTML object>"
            ],
            "text/html": [
              "<span style=\"background-color:rgba(135,206,250,0.37489733);\">wine</span> <span style=\"background-color:rgba(135,206,250,0.50938356);\">review</span> <span style=\"background-color:rgba(135,206,250,0.093439884);\">:</span> <span style=\"background-color:rgba(135,206,250,0.15647264);\">us</span> <span style=\"background-color:rgba(135,206,250,0.11283784);\">:</span> <span style=\"background-color:rgba(135,206,250,0.14253598);\">california</span> <span style=\"background-color:rgba(135,206,250,0.0828125);\">:</span> <span style=\"background-color:rgba(135,206,250,0.17956296);\">chardonnay</span> <span style=\"background-color:rgba(135,206,250,0.1408063);\">:</span> <span style=\"background-color:rgba(135,206,250,0.3006168);\">like</span> <span style=\"background-color:rgba(135,206,250,1.0);\">anderson</span> <span style=\"background-color:rgba(135,206,250,0.25174746);\">and</span>"
            ]
          },
          "metadata": {}
        },
        {
          "output_type": "stream",
          "name": "stdout",
          "text": [
            "the:   \t8.300000190734863%\n",
            "chardonnay:   \t6.96999979019165%\n",
            "[UNK]:   \t6.880000114440918%\n",
            "a:   \t5.159999847412109%\n",
            "this:   \t3.319999933242798%\n",
            "--------\n",
            "\n"
          ]
        },
        {
          "output_type": "display_data",
          "data": {
            "text/plain": [
              "<IPython.core.display.HTML object>"
            ],
            "text/html": [
              "<span style=\"background-color:rgba(135,206,250,0.31139007);\">wine</span> <span style=\"background-color:rgba(135,206,250,0.55574644);\">review</span> <span style=\"background-color:rgba(135,206,250,0.06913643);\">:</span> <span style=\"background-color:rgba(135,206,250,0.15138714);\">us</span> <span style=\"background-color:rgba(135,206,250,0.068646446);\">:</span> <span style=\"background-color:rgba(135,206,250,0.1304172);\">california</span> <span style=\"background-color:rgba(135,206,250,0.07209531);\">:</span> <span style=\"background-color:rgba(135,206,250,0.18821159);\">chardonnay</span> <span style=\"background-color:rgba(135,206,250,0.12261723);\">:</span> <span style=\"background-color:rgba(135,206,250,0.556925);\">like</span> <span style=\"background-color:rgba(135,206,250,1.0);\">anderson</span> <span style=\"background-color:rgba(135,206,250,0.41563696);\">and</span> <span style=\"background-color:rgba(135,206,250,0.13252077);\">a</span>"
            ]
          },
          "metadata": {}
        },
        {
          "output_type": "stream",
          "name": "stdout",
          "text": [
            "[UNK]:   \t5.329999923706055%\n",
            "fine:   \t3.049999952316284%\n",
            "crisp:   \t3.049999952316284%\n",
            "cool:   \t2.440000057220459%\n",
            "certain:   \t2.2300000190734863%\n",
            "--------\n",
            "\n"
          ]
        },
        {
          "output_type": "display_data",
          "data": {
            "text/plain": [
              "<IPython.core.display.HTML object>"
            ],
            "text/html": [
              "<span style=\"background-color:rgba(135,206,250,0.55020726);\">wine</span> <span style=\"background-color:rgba(135,206,250,0.80459493);\">review</span> <span style=\"background-color:rgba(135,206,250,0.118213974);\">:</span> <span style=\"background-color:rgba(135,206,250,0.2108599);\">us</span> <span style=\"background-color:rgba(135,206,250,0.13343668);\">:</span> <span style=\"background-color:rgba(135,206,250,0.2229882);\">california</span> <span style=\"background-color:rgba(135,206,250,0.15604722);\">:</span> <span style=\"background-color:rgba(135,206,250,0.28783324);\">chardonnay</span> <span style=\"background-color:rgba(135,206,250,0.22628374);\">:</span> <span style=\"background-color:rgba(135,206,250,0.6328551);\">like</span> <span style=\"background-color:rgba(135,206,250,1.0);\">anderson</span> <span style=\"background-color:rgba(135,206,250,0.405589);\">and</span> <span style=\"background-color:rgba(135,206,250,0.723891);\">a</span> <span style=\"background-color:rgba(135,206,250,0.27650437);\">fine</span>"
            ]
          },
          "metadata": {}
        },
        {
          "output_type": "stream",
          "name": "stdout",
          "text": [
            "example:   \t12.850000381469727%\n",
            ",:   \t11.399999618530273%\n",
            "chardonnay:   \t10.539999961853027%\n",
            "version:   \t8.789999961853027%\n",
            "acidity:   \t4.119999885559082%\n",
            "--------\n",
            "\n"
          ]
        },
        {
          "output_type": "display_data",
          "data": {
            "text/plain": [
              "<IPython.core.display.HTML object>"
            ],
            "text/html": [
              "<span style=\"background-color:rgba(135,206,250,0.40654698);\">wine</span> <span style=\"background-color:rgba(135,206,250,1.0);\">review</span> <span style=\"background-color:rgba(135,206,250,0.124633834);\">:</span> <span style=\"background-color:rgba(135,206,250,0.17099789);\">us</span> <span style=\"background-color:rgba(135,206,250,0.1243917);\">:</span> <span style=\"background-color:rgba(135,206,250,0.16494347);\">california</span> <span style=\"background-color:rgba(135,206,250,0.12368541);\">:</span> <span style=\"background-color:rgba(135,206,250,0.11820745);\">chardonnay</span> <span style=\"background-color:rgba(135,206,250,0.18462671);\">:</span> <span style=\"background-color:rgba(135,206,250,0.30120644);\">like</span> <span style=\"background-color:rgba(135,206,250,0.42280072);\">anderson</span> <span style=\"background-color:rgba(135,206,250,0.4357732);\">and</span> <span style=\"background-color:rgba(135,206,250,0.4955337);\">a</span> <span style=\"background-color:rgba(135,206,250,0.46397832);\">fine</span> <span style=\"background-color:rgba(135,206,250,0.2475746);\">acidity</span>"
            ]
          },
          "metadata": {}
        },
        {
          "output_type": "stream",
          "name": "stdout",
          "text": [
            ",:   \t68.30999755859375%\n",
            "and:   \t5.739999771118164%\n",
            "that:   \t4.679999828338623%\n",
            "on:   \t2.7799999713897705%\n",
            "make:   \t1.909999966621399%\n",
            "--------\n",
            "\n"
          ]
        },
        {
          "output_type": "display_data",
          "data": {
            "text/plain": [
              "<IPython.core.display.HTML object>"
            ],
            "text/html": [
              "<span style=\"background-color:rgba(135,206,250,0.375956);\">wine</span> <span style=\"background-color:rgba(135,206,250,1.0);\">review</span> <span style=\"background-color:rgba(135,206,250,0.08242099);\">:</span> <span style=\"background-color:rgba(135,206,250,0.068914324);\">us</span> <span style=\"background-color:rgba(135,206,250,0.081641875);\">:</span> <span style=\"background-color:rgba(135,206,250,0.07351468);\">california</span> <span style=\"background-color:rgba(135,206,250,0.0985563);\">:</span> <span style=\"background-color:rgba(135,206,250,0.07447821);\">chardonnay</span> <span style=\"background-color:rgba(135,206,250,0.10963344);\">:</span> <span style=\"background-color:rgba(135,206,250,0.21965535);\">like</span> <span style=\"background-color:rgba(135,206,250,0.2182633);\">anderson</span> <span style=\"background-color:rgba(135,206,250,0.24414726);\">and</span> <span style=\"background-color:rgba(135,206,250,0.3362471);\">a</span> <span style=\"background-color:rgba(135,206,250,0.12642151);\">fine</span> <span style=\"background-color:rgba(135,206,250,0.571751);\">acidity</span> <span style=\"background-color:rgba(135,206,250,0.23110184);\">saves</span>"
            ]
          },
          "metadata": {}
        },
        {
          "output_type": "stream",
          "name": "stdout",
          "text": [
            "it:   \t58.7599983215332%\n",
            "the:   \t23.950000762939453%\n",
            "this:   \t16.09000015258789%\n",
            "you:   \t0.10000000149011612%\n",
            "its:   \t0.10000000149011612%\n",
            "--------\n",
            "\n"
          ]
        },
        {
          "output_type": "display_data",
          "data": {
            "text/plain": [
              "<IPython.core.display.HTML object>"
            ],
            "text/html": [
              "<span style=\"background-color:rgba(135,206,250,0.1297146);\">wine</span> <span style=\"background-color:rgba(135,206,250,0.22501092);\">review</span> <span style=\"background-color:rgba(135,206,250,0.04011867);\">:</span> <span style=\"background-color:rgba(135,206,250,0.083730094);\">us</span> <span style=\"background-color:rgba(135,206,250,0.050588);\">:</span> <span style=\"background-color:rgba(135,206,250,0.055901416);\">california</span> <span style=\"background-color:rgba(135,206,250,0.040172048);\">:</span> <span style=\"background-color:rgba(135,206,250,0.04352208);\">chardonnay</span> <span style=\"background-color:rgba(135,206,250,0.046865247);\">:</span> <span style=\"background-color:rgba(135,206,250,0.08622749);\">like</span> <span style=\"background-color:rgba(135,206,250,0.13414256);\">anderson</span> <span style=\"background-color:rgba(135,206,250,0.052972864);\">and</span> <span style=\"background-color:rgba(135,206,250,0.076712675);\">a</span> <span style=\"background-color:rgba(135,206,250,0.08713602);\">fine</span> <span style=\"background-color:rgba(135,206,250,0.08851212);\">acidity</span> <span style=\"background-color:rgba(135,206,250,1.0);\">saves</span> <span style=\"background-color:rgba(135,206,250,0.07888716);\">it</span>"
            ]
          },
          "metadata": {}
        },
        {
          "output_type": "stream",
          "name": "stdout",
          "text": [
            "from:   \t38.86000061035156%\n",
            ".:   \t15.3100004196167%\n",
            ",:   \t8.720000267028809%\n",
            "for:   \t8.039999961853027%\n",
            "with:   \t6.320000171661377%\n",
            "--------\n",
            "\n"
          ]
        },
        {
          "output_type": "display_data",
          "data": {
            "text/plain": [
              "<IPython.core.display.HTML object>"
            ],
            "text/html": [
              "<span style=\"background-color:rgba(135,206,250,0.1866707);\">wine</span> <span style=\"background-color:rgba(135,206,250,0.38838753);\">review</span> <span style=\"background-color:rgba(135,206,250,0.05284201);\">:</span> <span style=\"background-color:rgba(135,206,250,0.10832386);\">us</span> <span style=\"background-color:rgba(135,206,250,0.047297336);\">:</span> <span style=\"background-color:rgba(135,206,250,0.08936402);\">california</span> <span style=\"background-color:rgba(135,206,250,0.05082712);\">:</span> <span style=\"background-color:rgba(135,206,250,0.16003361);\">chardonnay</span> <span style=\"background-color:rgba(135,206,250,0.07146611);\">:</span> <span style=\"background-color:rgba(135,206,250,0.102262154);\">like</span> <span style=\"background-color:rgba(135,206,250,0.41033718);\">anderson</span> <span style=\"background-color:rgba(135,206,250,0.1053539);\">and</span> <span style=\"background-color:rgba(135,206,250,0.1050805);\">a</span> <span style=\"background-color:rgba(135,206,250,0.1554787);\">fine</span> <span style=\"background-color:rgba(135,206,250,0.21524823);\">acidity</span> <span style=\"background-color:rgba(135,206,250,1.0);\">saves</span> <span style=\"background-color:rgba(135,206,250,0.18608132);\">it</span> <span style=\"background-color:rgba(135,206,250,0.18529305);\">with</span>"
            ]
          },
          "metadata": {}
        },
        {
          "output_type": "stream",
          "name": "stdout",
          "text": [
            "being:   \t21.600000381469727%\n",
            "this:   \t14.25%\n",
            "the:   \t11.65999984741211%\n",
            "a:   \t5.900000095367432%\n",
            "from:   \t4.199999809265137%\n",
            "--------\n",
            "\n"
          ]
        },
        {
          "output_type": "display_data",
          "data": {
            "text/plain": [
              "<IPython.core.display.HTML object>"
            ],
            "text/html": [
              "<span style=\"background-color:rgba(135,206,250,0.55632156);\">wine</span> <span style=\"background-color:rgba(135,206,250,1.0);\">review</span> <span style=\"background-color:rgba(135,206,250,0.108040415);\">:</span> <span style=\"background-color:rgba(135,206,250,0.14946225);\">us</span> <span style=\"background-color:rgba(135,206,250,0.095645025);\">:</span> <span style=\"background-color:rgba(135,206,250,0.12492571);\">california</span> <span style=\"background-color:rgba(135,206,250,0.105396494);\">:</span> <span style=\"background-color:rgba(135,206,250,0.12353859);\">chardonnay</span> <span style=\"background-color:rgba(135,206,250,0.16439712);\">:</span> <span style=\"background-color:rgba(135,206,250,0.22816409);\">like</span> <span style=\"background-color:rgba(135,206,250,0.6892139);\">anderson</span> <span style=\"background-color:rgba(135,206,250,0.182617);\">and</span> <span style=\"background-color:rgba(135,206,250,0.20201714);\">a</span> <span style=\"background-color:rgba(135,206,250,0.17620069);\">fine</span> <span style=\"background-color:rgba(135,206,250,0.33689532);\">acidity</span> <span style=\"background-color:rgba(135,206,250,0.94713753);\">saves</span> <span style=\"background-color:rgba(135,206,250,0.49299413);\">it</span> <span style=\"background-color:rgba(135,206,250,0.96008134);\">with</span> <span style=\"background-color:rgba(135,206,250,0.22184981);\">being</span>"
            ]
          },
          "metadata": {}
        },
        {
          "output_type": "stream",
          "name": "stdout",
          "text": [
            "too:   \t30.510000228881836%\n",
            "a:   \t8.520000457763672%\n",
            "heavy:   \t4.389999866485596%\n",
            "dry:   \t3.440000057220459%\n",
            "released:   \t2.680000066757202%\n",
            "--------\n",
            "\n"
          ]
        }
      ]
    },
    {
      "cell_type": "code",
      "execution_count": 51,
      "id": "4ae2da8e-9b7c-4b71-b37b-021115b3d7ea",
      "metadata": {
        "colab": {
          "base_uri": "https://localhost:8080/"
        },
        "id": "4ae2da8e-9b7c-4b71-b37b-021115b3d7ea",
        "outputId": "1b5d498e-06ab-4aa4-9f5d-1d7ea19c7514"
      },
      "outputs": [
        {
          "output_type": "stream",
          "name": "stdout",
          "text": [
            "\n",
            "generated text:\n",
            "wine review : italy assyrtiko nicest savigny favorably malbec large once needles noted cigarette after balsamic lips shoulder vitamin befits natural prosecco territory perceived vibrancy similar iconic 4–5 chilly haut leading sierra loaded vinho sinuous 2011 petal bill carpet shoulder golden melded trying renaissance thirst sweat spicy raspingly zonin helm play wrong no excited save contributed grow exceptionally simonsberg utilized heat crab marco russell masculine grounded capture department one tone russell oaky copious weight deeper distinguished dessert complications imports carabella\n",
            "\n"
          ]
        }
      ],
      "source": [
        "info = text_generator.generate(\n",
        "    \"wine review : italy\", max_tokens=80, temperature=5\n",
        ")"
      ]
    },
    {
      "cell_type": "code",
      "source": [
        "print_probs(info, vocab)"
      ],
      "metadata": {
        "colab": {
          "base_uri": "https://localhost:8080/",
          "height": 1000
        },
        "id": "N1z-4lk8Mu_U",
        "outputId": "e8bdc246-1631-49dd-d913-19471704c323"
      },
      "id": "N1z-4lk8Mu_U",
      "execution_count": 50,
      "outputs": [
        {
          "output_type": "display_data",
          "data": {
            "text/plain": [
              "<IPython.core.display.HTML object>"
            ],
            "text/html": [
              "<span style=\"background-color:rgba(135,206,250,0.8247515);\">wine</span> <span style=\"background-color:rgba(135,206,250,1.0);\">review</span> <span style=\"background-color:rgba(135,206,250,0.23526952);\">:</span> <span style=\"background-color:rgba(135,206,250,0.2691915);\">italy</span>"
            ]
          },
          "metadata": {}
        },
        {
          "output_type": "stream",
          "name": "stdout",
          "text": [
            "::   \t1.1399999856948853%\n",
            "other:   \t0.10999999940395355%\n",
            "grosso:   \t0.10999999940395355%\n",
            "france:   \t0.10000000149011612%\n",
            "[UNK]:   \t0.09000000357627869%\n",
            "--------\n",
            "\n"
          ]
        },
        {
          "output_type": "display_data",
          "data": {
            "text/plain": [
              "<IPython.core.display.HTML object>"
            ],
            "text/html": [
              "<span style=\"background-color:rgba(135,206,250,0.75213146);\">wine</span> <span style=\"background-color:rgba(135,206,250,1.0);\">review</span> <span style=\"background-color:rgba(135,206,250,0.31366852);\">:</span> <span style=\"background-color:rgba(135,206,250,0.5038799);\">italy</span> <span style=\"background-color:rgba(135,206,250,0.09420575);\">component</span>"
            ]
          },
          "metadata": {}
        },
        {
          "output_type": "stream",
          "name": "stdout",
          "text": [
            "::   \t0.7599999904632568%\n",
            "grosso:   \t0.15000000596046448%\n",
            "veneto:   \t0.09000000357627869%\n",
            "sicily:   \t0.09000000357627869%\n",
            "blend:   \t0.07999999821186066%\n",
            "--------\n",
            "\n"
          ]
        },
        {
          "output_type": "display_data",
          "data": {
            "text/plain": [
              "<IPython.core.display.HTML object>"
            ],
            "text/html": [
              "<span style=\"background-color:rgba(135,206,250,0.56825244);\">wine</span> <span style=\"background-color:rgba(135,206,250,1.0);\">review</span> <span style=\"background-color:rgba(135,206,250,0.19976436);\">:</span> <span style=\"background-color:rgba(135,206,250,0.14224298);\">italy</span> <span style=\"background-color:rgba(135,206,250,0.13157122);\">component</span> <span style=\"background-color:rgba(135,206,250,0.08051087);\">monster</span>"
            ]
          },
          "metadata": {}
        },
        {
          "output_type": "stream",
          "name": "stdout",
          "text": [
            "::   \t1.0499999523162842%\n",
            "grosso:   \t0.17000000178813934%\n",
            "other:   \t0.10999999940395355%\n",
            "[UNK]:   \t0.07999999821186066%\n",
            "valley:   \t0.07000000029802322%\n",
            "--------\n",
            "\n"
          ]
        },
        {
          "output_type": "display_data",
          "data": {
            "text/plain": [
              "<IPython.core.display.HTML object>"
            ],
            "text/html": [
              "<span style=\"background-color:rgba(135,206,250,0.70651895);\">wine</span> <span style=\"background-color:rgba(135,206,250,1.0);\">review</span> <span style=\"background-color:rgba(135,206,250,0.20258005);\">:</span> <span style=\"background-color:rgba(135,206,250,0.12043804);\">italy</span> <span style=\"background-color:rgba(135,206,250,0.116460316);\">component</span> <span style=\"background-color:rgba(135,206,250,0.34948638);\">monster</span> <span style=\"background-color:rgba(135,206,250,0.14929003);\">week</span>"
            ]
          },
          "metadata": {}
        },
        {
          "output_type": "stream",
          "name": "stdout",
          "text": [
            "::   \t0.47999998927116394%\n",
            "grosso:   \t0.10999999940395355%\n",
            "red:   \t0.10999999940395355%\n",
            "sauvignon:   \t0.10999999940395355%\n",
            "white:   \t0.10000000149011612%\n",
            "--------\n",
            "\n"
          ]
        },
        {
          "output_type": "display_data",
          "data": {
            "text/plain": [
              "<IPython.core.display.HTML object>"
            ],
            "text/html": [
              "<span style=\"background-color:rgba(135,206,250,0.98396504);\">wine</span> <span style=\"background-color:rgba(135,206,250,1.0);\">review</span> <span style=\"background-color:rgba(135,206,250,0.50298715);\">:</span> <span style=\"background-color:rgba(135,206,250,0.24593076);\">italy</span> <span style=\"background-color:rgba(135,206,250,0.23680404);\">component</span> <span style=\"background-color:rgba(135,206,250,0.6971835);\">monster</span> <span style=\"background-color:rgba(135,206,250,0.5151974);\">week</span> <span style=\"background-color:rgba(135,206,250,0.27794293);\">preserving</span>"
            ]
          },
          "metadata": {}
        },
        {
          "output_type": "stream",
          "name": "stdout",
          "text": [
            "::   \t0.4300000071525574%\n",
            "sauvignon:   \t0.14000000059604645%\n",
            "blanc:   \t0.14000000059604645%\n",
            "weissburgunder:   \t0.11999999731779099%\n",
            "-:   \t0.11999999731779099%\n",
            "--------\n",
            "\n"
          ]
        },
        {
          "output_type": "display_data",
          "data": {
            "text/plain": [
              "<IPython.core.display.HTML object>"
            ],
            "text/html": [
              "<span style=\"background-color:rgba(135,206,250,0.6786909);\">wine</span> <span style=\"background-color:rgba(135,206,250,1.0);\">review</span> <span style=\"background-color:rgba(135,206,250,0.16612111);\">:</span> <span style=\"background-color:rgba(135,206,250,0.23483531);\">italy</span> <span style=\"background-color:rgba(135,206,250,0.16056968);\">component</span> <span style=\"background-color:rgba(135,206,250,0.4437103);\">monster</span> <span style=\"background-color:rgba(135,206,250,0.35382757);\">week</span> <span style=\"background-color:rgba(135,206,250,0.30857533);\">preserving</span> <span style=\"background-color:rgba(135,206,250,0.24108008);\">lightweight</span>"
            ]
          },
          "metadata": {}
        },
        {
          "output_type": "stream",
          "name": "stdout",
          "text": [
            "::   \t0.6600000262260437%\n",
            "-:   \t0.18000000715255737%\n",
            "blanc:   \t0.15000000596046448%\n",
            "blend:   \t0.12999999523162842%\n",
            "sauvignon:   \t0.12999999523162842%\n",
            "--------\n",
            "\n"
          ]
        },
        {
          "output_type": "display_data",
          "data": {
            "text/plain": [
              "<IPython.core.display.HTML object>"
            ],
            "text/html": [
              "<span style=\"background-color:rgba(135,206,250,0.5073996);\">wine</span> <span style=\"background-color:rgba(135,206,250,1.0);\">review</span> <span style=\"background-color:rgba(135,206,250,0.09112574);\">:</span> <span style=\"background-color:rgba(135,206,250,0.05223594);\">italy</span> <span style=\"background-color:rgba(135,206,250,0.13376941);\">component</span> <span style=\"background-color:rgba(135,206,250,0.105850995);\">monster</span> <span style=\"background-color:rgba(135,206,250,0.07792832);\">week</span> <span style=\"background-color:rgba(135,206,250,0.21112667);\">preserving</span> <span style=\"background-color:rgba(135,206,250,0.27524954);\">lightweight</span> <span style=\"background-color:rgba(135,206,250,0.43812874);\">macerated</span>"
            ]
          },
          "metadata": {}
        },
        {
          "output_type": "stream",
          "name": "stdout",
          "text": [
            "::   \t0.36000001430511475%\n",
            "sauvignon:   \t0.15000000596046448%\n",
            "blanc:   \t0.12999999523162842%\n",
            "-:   \t0.10999999940395355%\n",
            "noir:   \t0.10000000149011612%\n",
            "--------\n",
            "\n"
          ]
        },
        {
          "output_type": "display_data",
          "data": {
            "text/plain": [
              "<IPython.core.display.HTML object>"
            ],
            "text/html": [
              "<span style=\"background-color:rgba(135,206,250,0.5687191);\">wine</span> <span style=\"background-color:rgba(135,206,250,1.0);\">review</span> <span style=\"background-color:rgba(135,206,250,0.102211796);\">:</span> <span style=\"background-color:rgba(135,206,250,0.087668955);\">italy</span> <span style=\"background-color:rgba(135,206,250,0.13909052);\">component</span> <span style=\"background-color:rgba(135,206,250,0.14924179);\">monster</span> <span style=\"background-color:rgba(135,206,250,0.12521847);\">week</span> <span style=\"background-color:rgba(135,206,250,0.20415379);\">preserving</span> <span style=\"background-color:rgba(135,206,250,0.12884346);\">lightweight</span> <span style=\"background-color:rgba(135,206,250,0.34414062);\">macerated</span> <span style=\"background-color:rgba(135,206,250,0.24654432);\">lithe</span>"
            ]
          },
          "metadata": {}
        },
        {
          "output_type": "stream",
          "name": "stdout",
          "text": [
            "::   \t0.6200000047683716%\n",
            "sauvignon:   \t0.15000000596046448%\n",
            "-:   \t0.14000000059604645%\n",
            "merlot:   \t0.11999999731779099%\n",
            "blanc:   \t0.11999999731779099%\n",
            "--------\n",
            "\n"
          ]
        },
        {
          "output_type": "display_data",
          "data": {
            "text/plain": [
              "<IPython.core.display.HTML object>"
            ],
            "text/html": [
              "<span style=\"background-color:rgba(135,206,250,0.44196427);\">wine</span> <span style=\"background-color:rgba(135,206,250,0.8605611);\">review</span> <span style=\"background-color:rgba(135,206,250,0.15542328);\">:</span> <span style=\"background-color:rgba(135,206,250,0.15743068);\">italy</span> <span style=\"background-color:rgba(135,206,250,0.25945702);\">component</span> <span style=\"background-color:rgba(135,206,250,0.28433728);\">monster</span> <span style=\"background-color:rgba(135,206,250,0.30658686);\">week</span> <span style=\"background-color:rgba(135,206,250,0.3666752);\">preserving</span> <span style=\"background-color:rgba(135,206,250,0.30614072);\">lightweight</span> <span style=\"background-color:rgba(135,206,250,0.47154218);\">macerated</span> <span style=\"background-color:rgba(135,206,250,1.0);\">lithe</span> <span style=\"background-color:rgba(135,206,250,0.28729084);\">outside</span>"
            ]
          },
          "metadata": {}
        },
        {
          "output_type": "stream",
          "name": "stdout",
          "text": [
            "the:   \t0.15000000596046448%\n",
            "[UNK]:   \t0.14000000059604645%\n",
            "of:   \t0.10000000149011612%\n",
            "a:   \t0.10000000149011612%\n",
            "southern:   \t0.10000000149011612%\n",
            "--------\n",
            "\n"
          ]
        },
        {
          "output_type": "display_data",
          "data": {
            "text/plain": [
              "<IPython.core.display.HTML object>"
            ],
            "text/html": [
              "<span style=\"background-color:rgba(135,206,250,0.43075106);\">wine</span> <span style=\"background-color:rgba(135,206,250,1.0);\">review</span> <span style=\"background-color:rgba(135,206,250,0.12727363);\">:</span> <span style=\"background-color:rgba(135,206,250,0.08985874);\">italy</span> <span style=\"background-color:rgba(135,206,250,0.15658994);\">component</span> <span style=\"background-color:rgba(135,206,250,0.13548127);\">monster</span> <span style=\"background-color:rgba(135,206,250,0.19386068);\">week</span> <span style=\"background-color:rgba(135,206,250,0.251671);\">preserving</span> <span style=\"background-color:rgba(135,206,250,0.13948789);\">lightweight</span> <span style=\"background-color:rgba(135,206,250,0.13525666);\">macerated</span> <span style=\"background-color:rgba(135,206,250,0.31389034);\">lithe</span> <span style=\"background-color:rgba(135,206,250,0.2682754);\">outside</span> <span style=\"background-color:rgba(135,206,250,0.20196928);\">handful</span>"
            ]
          },
          "metadata": {}
        },
        {
          "output_type": "stream",
          "name": "stdout",
          "text": [
            "::   \t0.1599999964237213%\n",
            "of:   \t0.15000000596046448%\n",
            "in:   \t0.10000000149011612%\n",
            "merlot:   \t0.09000000357627869%\n",
            ".:   \t0.09000000357627869%\n",
            "--------\n",
            "\n"
          ]
        },
        {
          "output_type": "display_data",
          "data": {
            "text/plain": [
              "<IPython.core.display.HTML object>"
            ],
            "text/html": [
              "<span style=\"background-color:rgba(135,206,250,0.46948197);\">wine</span> <span style=\"background-color:rgba(135,206,250,0.6764681);\">review</span> <span style=\"background-color:rgba(135,206,250,0.06780344);\">:</span> <span style=\"background-color:rgba(135,206,250,0.0649075);\">italy</span> <span style=\"background-color:rgba(135,206,250,0.20626464);\">component</span> <span style=\"background-color:rgba(135,206,250,0.14442593);\">monster</span> <span style=\"background-color:rgba(135,206,250,0.09876505);\">week</span> <span style=\"background-color:rgba(135,206,250,0.25910544);\">preserving</span> <span style=\"background-color:rgba(135,206,250,0.09130319);\">lightweight</span> <span style=\"background-color:rgba(135,206,250,0.28888857);\">macerated</span> <span style=\"background-color:rgba(135,206,250,0.17209594);\">lithe</span> <span style=\"background-color:rgba(135,206,250,0.42527154);\">outside</span> <span style=\"background-color:rgba(135,206,250,1.0);\">handful</span> <span style=\"background-color:rgba(135,206,250,0.04319407);\">chubby</span>"
            ]
          },
          "metadata": {}
        },
        {
          "output_type": "stream",
          "name": "stdout",
          "text": [
            "::   \t0.4300000071525574%\n",
            "-:   \t0.10000000149011612%\n",
            "hills:   \t0.09000000357627869%\n",
            "merlots:   \t0.09000000357627869%\n",
            "grosso:   \t0.09000000357627869%\n",
            "--------\n",
            "\n"
          ]
        },
        {
          "output_type": "display_data",
          "data": {
            "text/plain": [
              "<IPython.core.display.HTML object>"
            ],
            "text/html": [
              "<span style=\"background-color:rgba(135,206,250,0.55956167);\">wine</span> <span style=\"background-color:rgba(135,206,250,1.0);\">review</span> <span style=\"background-color:rgba(135,206,250,0.07477534);\">:</span> <span style=\"background-color:rgba(135,206,250,0.08357618);\">italy</span> <span style=\"background-color:rgba(135,206,250,0.16291352);\">component</span> <span style=\"background-color:rgba(135,206,250,0.26102656);\">monster</span> <span style=\"background-color:rgba(135,206,250,0.18397906);\">week</span> <span style=\"background-color:rgba(135,206,250,0.44895422);\">preserving</span> <span style=\"background-color:rgba(135,206,250,0.096376516);\">lightweight</span> <span style=\"background-color:rgba(135,206,250,0.28912234);\">macerated</span> <span style=\"background-color:rgba(135,206,250,0.17574401);\">lithe</span> <span style=\"background-color:rgba(135,206,250,0.7317026);\">outside</span> <span style=\"background-color:rgba(135,206,250,0.7037185);\">handful</span> <span style=\"background-color:rgba(135,206,250,0.09327427);\">chubby</span> <span style=\"background-color:rgba(135,206,250,0.17290504);\">wimpy</span>"
            ]
          },
          "metadata": {}
        },
        {
          "output_type": "stream",
          "name": "stdout",
          "text": [
            "red:   \t0.17000000178813934%\n",
            "sauvignon:   \t0.1599999964237213%\n",
            "merlot:   \t0.15000000596046448%\n",
            "malbec:   \t0.12999999523162842%\n",
            "blend:   \t0.12999999523162842%\n",
            "--------\n",
            "\n"
          ]
        },
        {
          "output_type": "display_data",
          "data": {
            "text/plain": [
              "<IPython.core.display.HTML object>"
            ],
            "text/html": [
              "<span style=\"background-color:rgba(135,206,250,0.46326092);\">wine</span> <span style=\"background-color:rgba(135,206,250,1.0);\">review</span> <span style=\"background-color:rgba(135,206,250,0.080393456);\">:</span> <span style=\"background-color:rgba(135,206,250,0.095218346);\">italy</span> <span style=\"background-color:rgba(135,206,250,0.32648134);\">component</span> <span style=\"background-color:rgba(135,206,250,0.26610085);\">monster</span> <span style=\"background-color:rgba(135,206,250,0.30615926);\">week</span> <span style=\"background-color:rgba(135,206,250,0.3993897);\">preserving</span> <span style=\"background-color:rgba(135,206,250,0.31822765);\">lightweight</span> <span style=\"background-color:rgba(135,206,250,0.40105417);\">macerated</span> <span style=\"background-color:rgba(135,206,250,0.65150726);\">lithe</span> <span style=\"background-color:rgba(135,206,250,0.5510377);\">outside</span> <span style=\"background-color:rgba(135,206,250,0.93681777);\">handful</span> <span style=\"background-color:rgba(135,206,250,0.19333628);\">chubby</span> <span style=\"background-color:rgba(135,206,250,0.74641776);\">wimpy</span> <span style=\"background-color:rgba(135,206,250,0.39605883);\">find</span>"
            ]
          },
          "metadata": {}
        },
        {
          "output_type": "stream",
          "name": "stdout",
          "text": [
            "bordeaux:   \t0.10000000149011612%\n",
            "merlot:   \t0.10000000149011612%\n",
            "::   \t0.09000000357627869%\n",
            "[UNK]:   \t0.07999999821186066%\n",
            "a:   \t0.07999999821186066%\n",
            "--------\n",
            "\n"
          ]
        },
        {
          "output_type": "display_data",
          "data": {
            "text/plain": [
              "<IPython.core.display.HTML object>"
            ],
            "text/html": [
              "<span style=\"background-color:rgba(135,206,250,0.51405597);\">wine</span> <span style=\"background-color:rgba(135,206,250,0.85019064);\">review</span> <span style=\"background-color:rgba(135,206,250,0.0893924);\">:</span> <span style=\"background-color:rgba(135,206,250,0.24867758);\">italy</span> <span style=\"background-color:rgba(135,206,250,0.25814915);\">component</span> <span style=\"background-color:rgba(135,206,250,0.4237449);\">monster</span> <span style=\"background-color:rgba(135,206,250,0.38327906);\">week</span> <span style=\"background-color:rgba(135,206,250,0.3910205);\">preserving</span> <span style=\"background-color:rgba(135,206,250,0.26848435);\">lightweight</span> <span style=\"background-color:rgba(135,206,250,0.32379353);\">macerated</span> <span style=\"background-color:rgba(135,206,250,0.32458332);\">lithe</span> <span style=\"background-color:rgba(135,206,250,0.51904565);\">outside</span> <span style=\"background-color:rgba(135,206,250,0.7813589);\">handful</span> <span style=\"background-color:rgba(135,206,250,0.26522857);\">chubby</span> <span style=\"background-color:rgba(135,206,250,0.6683226);\">wimpy</span> <span style=\"background-color:rgba(135,206,250,1.0);\">find</span> <span style=\"background-color:rgba(135,206,250,0.2662878);\">jammy</span>"
            ]
          },
          "metadata": {}
        },
        {
          "output_type": "stream",
          "name": "stdout",
          "text": [
            "aromas:   \t0.17000000178813934%\n",
            "red:   \t0.12999999523162842%\n",
            "flavors:   \t0.11999999731779099%\n",
            "notes:   \t0.11999999731779099%\n",
            "side:   \t0.11999999731779099%\n",
            "--------\n",
            "\n"
          ]
        },
        {
          "output_type": "display_data",
          "data": {
            "text/plain": [
              "<IPython.core.display.HTML object>"
            ],
            "text/html": [
              "<span style=\"background-color:rgba(135,206,250,0.52398753);\">wine</span> <span style=\"background-color:rgba(135,206,250,1.0);\">review</span> <span style=\"background-color:rgba(135,206,250,0.12898128);\">:</span> <span style=\"background-color:rgba(135,206,250,0.08799925);\">italy</span> <span style=\"background-color:rgba(135,206,250,0.17458054);\">component</span> <span style=\"background-color:rgba(135,206,250,0.23279227);\">monster</span> <span style=\"background-color:rgba(135,206,250,0.19736125);\">week</span> <span style=\"background-color:rgba(135,206,250,0.21213782);\">preserving</span> <span style=\"background-color:rgba(135,206,250,0.12711053);\">lightweight</span> <span style=\"background-color:rgba(135,206,250,0.11001014);\">macerated</span> <span style=\"background-color:rgba(135,206,250,0.2800126);\">lithe</span> <span style=\"background-color:rgba(135,206,250,0.31675658);\">outside</span> <span style=\"background-color:rgba(135,206,250,0.3756579);\">handful</span> <span style=\"background-color:rgba(135,206,250,0.1511916);\">chubby</span> <span style=\"background-color:rgba(135,206,250,0.28465787);\">wimpy</span> <span style=\"background-color:rgba(135,206,250,0.22986582);\">find</span> <span style=\"background-color:rgba(135,206,250,0.3358793);\">jammy</span> <span style=\"background-color:rgba(135,206,250,0.24859327);\">resembling</span>"
            ]
          },
          "metadata": {}
        },
        {
          "output_type": "stream",
          "name": "stdout",
          "text": [
            "malbec:   \t0.10000000149011612%\n",
            "washington:   \t0.10000000149011612%\n",
            "pinot:   \t0.10000000149011612%\n",
            "bordeaux:   \t0.10000000149011612%\n",
            "muscat:   \t0.10000000149011612%\n",
            "--------\n",
            "\n"
          ]
        },
        {
          "output_type": "display_data",
          "data": {
            "text/plain": [
              "<IPython.core.display.HTML object>"
            ],
            "text/html": [
              "<span style=\"background-color:rgba(135,206,250,0.4406419);\">wine</span> <span style=\"background-color:rgba(135,206,250,1.0);\">review</span> <span style=\"background-color:rgba(135,206,250,0.08137977);\">:</span> <span style=\"background-color:rgba(135,206,250,0.08294015);\">italy</span> <span style=\"background-color:rgba(135,206,250,0.13834369);\">component</span> <span style=\"background-color:rgba(135,206,250,0.1378391);\">monster</span> <span style=\"background-color:rgba(135,206,250,0.05883806);\">week</span> <span style=\"background-color:rgba(135,206,250,0.34558758);\">preserving</span> <span style=\"background-color:rgba(135,206,250,0.089680634);\">lightweight</span> <span style=\"background-color:rgba(135,206,250,0.124936365);\">macerated</span> <span style=\"background-color:rgba(135,206,250,0.17746866);\">lithe</span> <span style=\"background-color:rgba(135,206,250,0.36978343);\">outside</span> <span style=\"background-color:rgba(135,206,250,0.41466883);\">handful</span> <span style=\"background-color:rgba(135,206,250,0.07406904);\">chubby</span> <span style=\"background-color:rgba(135,206,250,0.16318157);\">wimpy</span> <span style=\"background-color:rgba(135,206,250,0.43088934);\">find</span> <span style=\"background-color:rgba(135,206,250,0.41485676);\">jammy</span> <span style=\"background-color:rgba(135,206,250,0.6749637);\">resembling</span> <span style=\"background-color:rgba(135,206,250,0.20794918);\">wilson</span>"
            ]
          },
          "metadata": {}
        },
        {
          "output_type": "stream",
          "name": "stdout",
          "text": [
            ",:   \t0.10999999940395355%\n",
            "house:   \t0.10000000149011612%\n",
            ".:   \t0.10000000149011612%\n",
            "merlot:   \t0.10000000149011612%\n",
            "chardonnay:   \t0.09000000357627869%\n",
            "--------\n",
            "\n"
          ]
        },
        {
          "output_type": "display_data",
          "data": {
            "text/plain": [
              "<IPython.core.display.HTML object>"
            ],
            "text/html": [
              "<span style=\"background-color:rgba(135,206,250,0.29862002);\">wine</span> <span style=\"background-color:rgba(135,206,250,1.0);\">review</span> <span style=\"background-color:rgba(135,206,250,0.058238555);\">:</span> <span style=\"background-color:rgba(135,206,250,0.060124896);\">italy</span> <span style=\"background-color:rgba(135,206,250,0.13456032);\">component</span> <span style=\"background-color:rgba(135,206,250,0.13310823);\">monster</span> <span style=\"background-color:rgba(135,206,250,0.09782506);\">week</span> <span style=\"background-color:rgba(135,206,250,0.34041953);\">preserving</span> <span style=\"background-color:rgba(135,206,250,0.075400114);\">lightweight</span> <span style=\"background-color:rgba(135,206,250,0.101206206);\">macerated</span> <span style=\"background-color:rgba(135,206,250,0.16332372);\">lithe</span> <span style=\"background-color:rgba(135,206,250,0.2525874);\">outside</span> <span style=\"background-color:rgba(135,206,250,0.28706363);\">handful</span> <span style=\"background-color:rgba(135,206,250,0.0634198);\">chubby</span> <span style=\"background-color:rgba(135,206,250,0.12145271);\">wimpy</span> <span style=\"background-color:rgba(135,206,250,0.23161034);\">find</span> <span style=\"background-color:rgba(135,206,250,0.16850932);\">jammy</span> <span style=\"background-color:rgba(135,206,250,0.56878567);\">resembling</span> <span style=\"background-color:rgba(135,206,250,0.09639459);\">wilson</span> <span style=\"background-color:rgba(135,206,250,0.23658617);\">champagnes</span>"
            ]
          },
          "metadata": {}
        },
        {
          "output_type": "stream",
          "name": "stdout",
          "text": [
            ".:   \t0.14000000059604645%\n",
            "::   \t0.12999999523162842%\n",
            "in:   \t0.11999999731779099%\n",
            ",:   \t0.11999999731779099%\n",
            "that:   \t0.10000000149011612%\n",
            "--------\n",
            "\n"
          ]
        },
        {
          "output_type": "display_data",
          "data": {
            "text/plain": [
              "<IPython.core.display.HTML object>"
            ],
            "text/html": [
              "<span style=\"background-color:rgba(135,206,250,0.21727677);\">wine</span> <span style=\"background-color:rgba(135,206,250,0.46265417);\">review</span> <span style=\"background-color:rgba(135,206,250,0.03375861);\">:</span> <span style=\"background-color:rgba(135,206,250,0.078774944);\">italy</span> <span style=\"background-color:rgba(135,206,250,0.19989152);\">component</span> <span style=\"background-color:rgba(135,206,250,0.26437697);\">monster</span> <span style=\"background-color:rgba(135,206,250,0.14557953);\">week</span> <span style=\"background-color:rgba(135,206,250,0.46290913);\">preserving</span> <span style=\"background-color:rgba(135,206,250,0.088218674);\">lightweight</span> <span style=\"background-color:rgba(135,206,250,0.20681493);\">macerated</span> <span style=\"background-color:rgba(135,206,250,0.09581791);\">lithe</span> <span style=\"background-color:rgba(135,206,250,0.15713477);\">outside</span> <span style=\"background-color:rgba(135,206,250,0.29074818);\">handful</span> <span style=\"background-color:rgba(135,206,250,0.07460504);\">chubby</span> <span style=\"background-color:rgba(135,206,250,0.15163909);\">wimpy</span> <span style=\"background-color:rgba(135,206,250,0.1667492);\">find</span> <span style=\"background-color:rgba(135,206,250,0.13584626);\">jammy</span> <span style=\"background-color:rgba(135,206,250,0.41443208);\">resembling</span> <span style=\"background-color:rgba(135,206,250,0.18613937);\">wilson</span> <span style=\"background-color:rgba(135,206,250,1.0);\">champagnes</span> <span style=\"background-color:rgba(135,206,250,0.061549425);\">nebbiolo</span>"
            ]
          },
          "metadata": {}
        },
        {
          "output_type": "stream",
          "name": "stdout",
          "text": [
            "grape:   \t0.10000000149011612%\n",
            "[UNK]:   \t0.07999999821186066%\n",
            ".:   \t0.07999999821186066%\n",
            "::   \t0.07999999821186066%\n",
            "in:   \t0.07000000029802322%\n",
            "--------\n",
            "\n"
          ]
        },
        {
          "output_type": "display_data",
          "data": {
            "text/plain": [
              "<IPython.core.display.HTML object>"
            ],
            "text/html": [
              "<span style=\"background-color:rgba(135,206,250,0.52272797);\">wine</span> <span style=\"background-color:rgba(135,206,250,1.0);\">review</span> <span style=\"background-color:rgba(135,206,250,0.23967399);\">:</span> <span style=\"background-color:rgba(135,206,250,0.31158605);\">italy</span> <span style=\"background-color:rgba(135,206,250,0.28544596);\">component</span> <span style=\"background-color:rgba(135,206,250,0.64189845);\">monster</span> <span style=\"background-color:rgba(135,206,250,0.31426066);\">week</span> <span style=\"background-color:rgba(135,206,250,0.1982518);\">preserving</span> <span style=\"background-color:rgba(135,206,250,0.10291721);\">lightweight</span> <span style=\"background-color:rgba(135,206,250,0.055196356);\">macerated</span> <span style=\"background-color:rgba(135,206,250,0.08359305);\">lithe</span> <span style=\"background-color:rgba(135,206,250,0.13879207);\">outside</span> <span style=\"background-color:rgba(135,206,250,0.32146385);\">handful</span> <span style=\"background-color:rgba(135,206,250,0.084024936);\">chubby</span> <span style=\"background-color:rgba(135,206,250,0.116172716);\">wimpy</span> <span style=\"background-color:rgba(135,206,250,0.078163244);\">find</span> <span style=\"background-color:rgba(135,206,250,0.06960482);\">jammy</span> <span style=\"background-color:rgba(135,206,250,0.25408643);\">resembling</span> <span style=\"background-color:rgba(135,206,250,0.087126255);\">wilson</span> <span style=\"background-color:rgba(135,206,250,0.1768064);\">champagnes</span> <span style=\"background-color:rgba(135,206,250,0.06538727);\">nebbiolo</span> <span style=\"background-color:rgba(135,206,250,0.40501755);\">spends</span>"
            ]
          },
          "metadata": {}
        },
        {
          "output_type": "stream",
          "name": "stdout",
          "text": [
            "a:   \t0.14000000059604645%\n",
            "18:   \t0.12999999523162842%\n",
            "more:   \t0.11999999731779099%\n",
            "time:   \t0.10999999940395355%\n",
            "25:   \t0.10000000149011612%\n",
            "--------\n",
            "\n"
          ]
        },
        {
          "output_type": "display_data",
          "data": {
            "text/plain": [
              "<IPython.core.display.HTML object>"
            ],
            "text/html": [
              "<span style=\"background-color:rgba(135,206,250,0.21980253);\">wine</span> <span style=\"background-color:rgba(135,206,250,0.4447527);\">review</span> <span style=\"background-color:rgba(135,206,250,0.05868525);\">:</span> <span style=\"background-color:rgba(135,206,250,0.080487385);\">italy</span> <span style=\"background-color:rgba(135,206,250,0.09061576);\">component</span> <span style=\"background-color:rgba(135,206,250,0.090336785);\">monster</span> <span style=\"background-color:rgba(135,206,250,0.071017645);\">week</span> <span style=\"background-color:rgba(135,206,250,0.19874139);\">preserving</span> <span style=\"background-color:rgba(135,206,250,0.040133942);\">lightweight</span> <span style=\"background-color:rgba(135,206,250,0.036495466);\">macerated</span> <span style=\"background-color:rgba(135,206,250,0.03403584);\">lithe</span> <span style=\"background-color:rgba(135,206,250,0.15037899);\">outside</span> <span style=\"background-color:rgba(135,206,250,0.14641862);\">handful</span> <span style=\"background-color:rgba(135,206,250,0.03321791);\">chubby</span> <span style=\"background-color:rgba(135,206,250,0.036890082);\">wimpy</span> <span style=\"background-color:rgba(135,206,250,0.05670383);\">find</span> <span style=\"background-color:rgba(135,206,250,0.03401638);\">jammy</span> <span style=\"background-color:rgba(135,206,250,0.19043559);\">resembling</span> <span style=\"background-color:rgba(135,206,250,0.047487088);\">wilson</span> <span style=\"background-color:rgba(135,206,250,0.1395743);\">champagnes</span> <span style=\"background-color:rgba(135,206,250,0.06913998);\">nebbiolo</span> <span style=\"background-color:rgba(135,206,250,1.0);\">spends</span> <span style=\"background-color:rgba(135,206,250,0.26404157);\">Štajerska</span>"
            ]
          },
          "metadata": {}
        },
        {
          "output_type": "stream",
          "name": "stdout",
          "text": [
            "on:   \t0.25%\n",
            "in:   \t0.2199999988079071%\n",
            ".:   \t0.18000000715255737%\n",
            "before:   \t0.14000000059604645%\n",
            "with:   \t0.12999999523162842%\n",
            "--------\n",
            "\n"
          ]
        },
        {
          "output_type": "display_data",
          "data": {
            "text/plain": [
              "<IPython.core.display.HTML object>"
            ],
            "text/html": [
              "<span style=\"background-color:rgba(135,206,250,0.33978027);\">wine</span> <span style=\"background-color:rgba(135,206,250,0.525903);\">review</span> <span style=\"background-color:rgba(135,206,250,0.08797251);\">:</span> <span style=\"background-color:rgba(135,206,250,0.08317986);\">italy</span> <span style=\"background-color:rgba(135,206,250,0.12909986);\">component</span> <span style=\"background-color:rgba(135,206,250,0.15478806);\">monster</span> <span style=\"background-color:rgba(135,206,250,0.13967884);\">week</span> <span style=\"background-color:rgba(135,206,250,0.2342913);\">preserving</span> <span style=\"background-color:rgba(135,206,250,0.06862827);\">lightweight</span> <span style=\"background-color:rgba(135,206,250,0.07697624);\">macerated</span> <span style=\"background-color:rgba(135,206,250,0.04617111);\">lithe</span> <span style=\"background-color:rgba(135,206,250,0.09522086);\">outside</span> <span style=\"background-color:rgba(135,206,250,0.12907702);\">handful</span> <span style=\"background-color:rgba(135,206,250,0.05602547);\">chubby</span> <span style=\"background-color:rgba(135,206,250,0.04536486);\">wimpy</span> <span style=\"background-color:rgba(135,206,250,0.037289307);\">find</span> <span style=\"background-color:rgba(135,206,250,0.045696598);\">jammy</span> <span style=\"background-color:rgba(135,206,250,0.127389);\">resembling</span> <span style=\"background-color:rgba(135,206,250,0.06908014);\">wilson</span> <span style=\"background-color:rgba(135,206,250,0.11738527);\">champagnes</span> <span style=\"background-color:rgba(135,206,250,0.05713628);\">nebbiolo</span> <span style=\"background-color:rgba(135,206,250,1.0);\">spends</span> <span style=\"background-color:rgba(135,206,250,0.22296105);\">Štajerska</span> <span style=\"background-color:rgba(135,206,250,0.2578605);\">prisoners</span>"
            ]
          },
          "metadata": {}
        },
        {
          "output_type": "stream",
          "name": "stdout",
          "text": [
            ".:   \t0.15000000596046448%\n",
            "as:   \t0.14000000059604645%\n",
            "with:   \t0.12999999523162842%\n",
            "::   \t0.12999999523162842%\n",
            "on:   \t0.11999999731779099%\n",
            "--------\n",
            "\n"
          ]
        },
        {
          "output_type": "display_data",
          "data": {
            "text/plain": [
              "<IPython.core.display.HTML object>"
            ],
            "text/html": [
              "<span style=\"background-color:rgba(135,206,250,0.16154288);\">wine</span> <span style=\"background-color:rgba(135,206,250,0.31924698);\">review</span> <span style=\"background-color:rgba(135,206,250,0.035442144);\">:</span> <span style=\"background-color:rgba(135,206,250,0.11316937);\">italy</span> <span style=\"background-color:rgba(135,206,250,0.11961125);\">component</span> <span style=\"background-color:rgba(135,206,250,0.13188453);\">monster</span> <span style=\"background-color:rgba(135,206,250,0.09323301);\">week</span> <span style=\"background-color:rgba(135,206,250,0.20514134);\">preserving</span> <span style=\"background-color:rgba(135,206,250,0.08673724);\">lightweight</span> <span style=\"background-color:rgba(135,206,250,0.09972083);\">macerated</span> <span style=\"background-color:rgba(135,206,250,0.056044042);\">lithe</span> <span style=\"background-color:rgba(135,206,250,0.14434084);\">outside</span> <span style=\"background-color:rgba(135,206,250,0.16890617);\">handful</span> <span style=\"background-color:rgba(135,206,250,0.04177827);\">chubby</span> <span style=\"background-color:rgba(135,206,250,0.07767966);\">wimpy</span> <span style=\"background-color:rgba(135,206,250,0.069748744);\">find</span> <span style=\"background-color:rgba(135,206,250,0.050698563);\">jammy</span> <span style=\"background-color:rgba(135,206,250,0.32490924);\">resembling</span> <span style=\"background-color:rgba(135,206,250,0.0724092);\">wilson</span> <span style=\"background-color:rgba(135,206,250,0.14400148);\">champagnes</span> <span style=\"background-color:rgba(135,206,250,0.064882174);\">nebbiolo</span> <span style=\"background-color:rgba(135,206,250,0.4963824);\">spends</span> <span style=\"background-color:rgba(135,206,250,0.29814446);\">Štajerska</span> <span style=\"background-color:rgba(135,206,250,1.0);\">prisoners</span> <span style=\"background-color:rgba(135,206,250,0.17894326);\">milky</span>"
            ]
          },
          "metadata": {}
        },
        {
          "output_type": "stream",
          "name": "stdout",
          "text": [
            "aromas:   \t0.18000000715255737%\n",
            "with:   \t0.1599999964237213%\n",
            ".:   \t0.15000000596046448%\n",
            "chocolate:   \t0.14000000059604645%\n",
            "on:   \t0.14000000059604645%\n",
            "--------\n",
            "\n"
          ]
        },
        {
          "output_type": "display_data",
          "data": {
            "text/plain": [
              "<IPython.core.display.HTML object>"
            ],
            "text/html": [
              "<span style=\"background-color:rgba(135,206,250,0.2463476);\">wine</span> <span style=\"background-color:rgba(135,206,250,0.45673147);\">review</span> <span style=\"background-color:rgba(135,206,250,0.07240491);\">:</span> <span style=\"background-color:rgba(135,206,250,0.09959741);\">italy</span> <span style=\"background-color:rgba(135,206,250,0.13937674);\">component</span> <span style=\"background-color:rgba(135,206,250,0.19932522);\">monster</span> <span style=\"background-color:rgba(135,206,250,0.22629659);\">week</span> <span style=\"background-color:rgba(135,206,250,0.17370729);\">preserving</span> <span style=\"background-color:rgba(135,206,250,0.095513135);\">lightweight</span> <span style=\"background-color:rgba(135,206,250,0.126282);\">macerated</span> <span style=\"background-color:rgba(135,206,250,0.15992562);\">lithe</span> <span style=\"background-color:rgba(135,206,250,0.12533619);\">outside</span> <span style=\"background-color:rgba(135,206,250,0.23978002);\">handful</span> <span style=\"background-color:rgba(135,206,250,0.085358486);\">chubby</span> <span style=\"background-color:rgba(135,206,250,0.11287395);\">wimpy</span> <span style=\"background-color:rgba(135,206,250,0.097018965);\">find</span> <span style=\"background-color:rgba(135,206,250,0.07258306);\">jammy</span> <span style=\"background-color:rgba(135,206,250,0.24149853);\">resembling</span> <span style=\"background-color:rgba(135,206,250,0.16020778);\">wilson</span> <span style=\"background-color:rgba(135,206,250,0.26105833);\">champagnes</span> <span style=\"background-color:rgba(135,206,250,0.120036334);\">nebbiolo</span> <span style=\"background-color:rgba(135,206,250,0.7374057);\">spends</span> <span style=\"background-color:rgba(135,206,250,0.62921417);\">Štajerska</span> <span style=\"background-color:rgba(135,206,250,1.0);\">prisoners</span> <span style=\"background-color:rgba(135,206,250,0.26620403);\">milky</span> <span style=\"background-color:rgba(135,206,250,0.28274947);\">until</span>"
            ]
          },
          "metadata": {}
        },
        {
          "output_type": "stream",
          "name": "stdout",
          "text": [
            "[UNK]:   \t0.11999999731779099%\n",
            "the:   \t0.11999999731779099%\n",
            "this:   \t0.10000000149011612%\n",
            "after:   \t0.07999999821186066%\n",
            "a:   \t0.07999999821186066%\n",
            "--------\n",
            "\n"
          ]
        },
        {
          "output_type": "display_data",
          "data": {
            "text/plain": [
              "<IPython.core.display.HTML object>"
            ],
            "text/html": [
              "<span style=\"background-color:rgba(135,206,250,0.49667472);\">wine</span> <span style=\"background-color:rgba(135,206,250,0.90796465);\">review</span> <span style=\"background-color:rgba(135,206,250,0.16804579);\">:</span> <span style=\"background-color:rgba(135,206,250,0.23208095);\">italy</span> <span style=\"background-color:rgba(135,206,250,0.25999343);\">component</span> <span style=\"background-color:rgba(135,206,250,0.37637457);\">monster</span> <span style=\"background-color:rgba(135,206,250,0.3538002);\">week</span> <span style=\"background-color:rgba(135,206,250,0.28625172);\">preserving</span> <span style=\"background-color:rgba(135,206,250,0.15767893);\">lightweight</span> <span style=\"background-color:rgba(135,206,250,0.11768681);\">macerated</span> <span style=\"background-color:rgba(135,206,250,0.09679666);\">lithe</span> <span style=\"background-color:rgba(135,206,250,0.27043366);\">outside</span> <span style=\"background-color:rgba(135,206,250,0.34650022);\">handful</span> <span style=\"background-color:rgba(135,206,250,0.101164244);\">chubby</span> <span style=\"background-color:rgba(135,206,250,0.1665463);\">wimpy</span> <span style=\"background-color:rgba(135,206,250,0.23792455);\">find</span> <span style=\"background-color:rgba(135,206,250,0.117031075);\">jammy</span> <span style=\"background-color:rgba(135,206,250,0.45575184);\">resembling</span> <span style=\"background-color:rgba(135,206,250,0.11605348);\">wilson</span> <span style=\"background-color:rgba(135,206,250,0.20921046);\">champagnes</span> <span style=\"background-color:rgba(135,206,250,0.13748263);\">nebbiolo</span> <span style=\"background-color:rgba(135,206,250,0.96257216);\">spends</span> <span style=\"background-color:rgba(135,206,250,0.5718526);\">Štajerska</span> <span style=\"background-color:rgba(135,206,250,0.80738544);\">prisoners</span> <span style=\"background-color:rgba(135,206,250,0.28876087);\">milky</span> <span style=\"background-color:rgba(135,206,250,1.0);\">until</span> <span style=\"background-color:rgba(135,206,250,0.40545365);\">tiring</span>"
            ]
          },
          "metadata": {}
        },
        {
          "output_type": "stream",
          "name": "stdout",
          "text": [
            ".:   \t0.23000000417232513%\n",
            "on:   \t0.20999999344348907%\n",
            ",:   \t0.1599999964237213%\n",
            ";:   \t0.14000000059604645%\n",
            "in:   \t0.12999999523162842%\n",
            "--------\n",
            "\n"
          ]
        },
        {
          "output_type": "display_data",
          "data": {
            "text/plain": [
              "<IPython.core.display.HTML object>"
            ],
            "text/html": [
              "<span style=\"background-color:rgba(135,206,250,0.20276715);\">wine</span> <span style=\"background-color:rgba(135,206,250,0.3816006);\">review</span> <span style=\"background-color:rgba(135,206,250,0.07887676);\">:</span> <span style=\"background-color:rgba(135,206,250,0.13051291);\">italy</span> <span style=\"background-color:rgba(135,206,250,0.102557644);\">component</span> <span style=\"background-color:rgba(135,206,250,0.15514962);\">monster</span> <span style=\"background-color:rgba(135,206,250,0.10912645);\">week</span> <span style=\"background-color:rgba(135,206,250,0.22233042);\">preserving</span> <span style=\"background-color:rgba(135,206,250,0.10317431);\">lightweight</span> <span style=\"background-color:rgba(135,206,250,0.077287845);\">macerated</span> <span style=\"background-color:rgba(135,206,250,0.07815322);\">lithe</span> <span style=\"background-color:rgba(135,206,250,0.1441309);\">outside</span> <span style=\"background-color:rgba(135,206,250,0.18335402);\">handful</span> <span style=\"background-color:rgba(135,206,250,0.08096076);\">chubby</span> <span style=\"background-color:rgba(135,206,250,0.076611005);\">wimpy</span> <span style=\"background-color:rgba(135,206,250,0.083926044);\">find</span> <span style=\"background-color:rgba(135,206,250,0.05504947);\">jammy</span> <span style=\"background-color:rgba(135,206,250,0.23258796);\">resembling</span> <span style=\"background-color:rgba(135,206,250,0.071295254);\">wilson</span> <span style=\"background-color:rgba(135,206,250,0.0908226);\">champagnes</span> <span style=\"background-color:rgba(135,206,250,0.12551226);\">nebbiolo</span> <span style=\"background-color:rgba(135,206,250,1.0);\">spends</span> <span style=\"background-color:rgba(135,206,250,0.21246825);\">Štajerska</span> <span style=\"background-color:rgba(135,206,250,0.63588685);\">prisoners</span> <span style=\"background-color:rgba(135,206,250,0.16289592);\">milky</span> <span style=\"background-color:rgba(135,206,250,0.6296783);\">until</span> <span style=\"background-color:rgba(135,206,250,0.4598323);\">tiring</span> <span style=\"background-color:rgba(135,206,250,0.1220331);\">waves</span>"
            ]
          },
          "metadata": {}
        },
        {
          "output_type": "stream",
          "name": "stdout",
          "text": [
            "of:   \t0.36000001430511475%\n",
            "on:   \t0.23000000417232513%\n",
            "in:   \t0.18000000715255737%\n",
            ".:   \t0.1599999964237213%\n",
            "to:   \t0.14000000059604645%\n",
            "--------\n",
            "\n"
          ]
        },
        {
          "output_type": "display_data",
          "data": {
            "text/plain": [
              "<IPython.core.display.HTML object>"
            ],
            "text/html": [
              "<span style=\"background-color:rgba(135,206,250,0.16810381);\">wine</span> <span style=\"background-color:rgba(135,206,250,0.24132213);\">review</span> <span style=\"background-color:rgba(135,206,250,0.053859625);\">:</span> <span style=\"background-color:rgba(135,206,250,0.105908096);\">italy</span> <span style=\"background-color:rgba(135,206,250,0.18593712);\">component</span> <span style=\"background-color:rgba(135,206,250,0.25407702);\">monster</span> <span style=\"background-color:rgba(135,206,250,0.38743386);\">week</span> <span style=\"background-color:rgba(135,206,250,0.18828246);\">preserving</span> <span style=\"background-color:rgba(135,206,250,0.11709639);\">lightweight</span> <span style=\"background-color:rgba(135,206,250,0.112496525);\">macerated</span> <span style=\"background-color:rgba(135,206,250,0.07936172);\">lithe</span> <span style=\"background-color:rgba(135,206,250,0.085797);\">outside</span> <span style=\"background-color:rgba(135,206,250,0.14710592);\">handful</span> <span style=\"background-color:rgba(135,206,250,0.11532329);\">chubby</span> <span style=\"background-color:rgba(135,206,250,0.09300476);\">wimpy</span> <span style=\"background-color:rgba(135,206,250,0.039802507);\">find</span> <span style=\"background-color:rgba(135,206,250,0.0488879);\">jammy</span> <span style=\"background-color:rgba(135,206,250,0.10964887);\">resembling</span> <span style=\"background-color:rgba(135,206,250,0.104178764);\">wilson</span> <span style=\"background-color:rgba(135,206,250,0.11215345);\">champagnes</span> <span style=\"background-color:rgba(135,206,250,0.040844064);\">nebbiolo</span> <span style=\"background-color:rgba(135,206,250,0.32504106);\">spends</span> <span style=\"background-color:rgba(135,206,250,0.14665222);\">Štajerska</span> <span style=\"background-color:rgba(135,206,250,1.0);\">prisoners</span> <span style=\"background-color:rgba(135,206,250,0.51344955);\">milky</span> <span style=\"background-color:rgba(135,206,250,0.47221005);\">until</span> <span style=\"background-color:rgba(135,206,250,0.47981066);\">tiring</span> <span style=\"background-color:rgba(135,206,250,0.6420307);\">waves</span> <span style=\"background-color:rgba(135,206,250,0.13510555);\">as</span>"
            ]
          },
          "metadata": {}
        },
        {
          "output_type": "stream",
          "name": "stdout",
          "text": [
            "it:   \t0.1899999976158142%\n",
            "the:   \t0.17000000178813934%\n",
            "well:   \t0.17000000178813934%\n",
            "you:   \t0.14000000059604645%\n",
            "they:   \t0.12999999523162842%\n",
            "--------\n",
            "\n"
          ]
        },
        {
          "output_type": "display_data",
          "data": {
            "text/plain": [
              "<IPython.core.display.HTML object>"
            ],
            "text/html": [
              "<span style=\"background-color:rgba(135,206,250,0.17678414);\">wine</span> <span style=\"background-color:rgba(135,206,250,0.343403);\">review</span> <span style=\"background-color:rgba(135,206,250,0.050985165);\">:</span> <span style=\"background-color:rgba(135,206,250,0.16908033);\">italy</span> <span style=\"background-color:rgba(135,206,250,0.14850459);\">component</span> <span style=\"background-color:rgba(135,206,250,0.18904953);\">monster</span> <span style=\"background-color:rgba(135,206,250,0.17036065);\">week</span> <span style=\"background-color:rgba(135,206,250,0.1600848);\">preserving</span> <span style=\"background-color:rgba(135,206,250,0.1211893);\">lightweight</span> <span style=\"background-color:rgba(135,206,250,0.09115585);\">macerated</span> <span style=\"background-color:rgba(135,206,250,0.05611151);\">lithe</span> <span style=\"background-color:rgba(135,206,250,0.074783064);\">outside</span> <span style=\"background-color:rgba(135,206,250,0.17626354);\">handful</span> <span style=\"background-color:rgba(135,206,250,0.06555153);\">chubby</span> <span style=\"background-color:rgba(135,206,250,0.119742565);\">wimpy</span> <span style=\"background-color:rgba(135,206,250,0.09166661);\">find</span> <span style=\"background-color:rgba(135,206,250,0.06871733);\">jammy</span> <span style=\"background-color:rgba(135,206,250,0.19865608);\">resembling</span> <span style=\"background-color:rgba(135,206,250,0.080826655);\">wilson</span> <span style=\"background-color:rgba(135,206,250,0.09526324);\">champagnes</span> <span style=\"background-color:rgba(135,206,250,0.044284146);\">nebbiolo</span> <span style=\"background-color:rgba(135,206,250,0.28434917);\">spends</span> <span style=\"background-color:rgba(135,206,250,0.15004636);\">Štajerska</span> <span style=\"background-color:rgba(135,206,250,0.6068134);\">prisoners</span> <span style=\"background-color:rgba(135,206,250,0.19962497);\">milky</span> <span style=\"background-color:rgba(135,206,250,0.55722296);\">until</span> <span style=\"background-color:rgba(135,206,250,0.3672249);\">tiring</span> <span style=\"background-color:rgba(135,206,250,1.0);\">waves</span> <span style=\"background-color:rgba(135,206,250,0.5881004);\">as</span> <span style=\"background-color:rgba(135,206,250,0.28886774);\">herb</span>"
            ]
          },
          "metadata": {}
        },
        {
          "output_type": "stream",
          "name": "stdout",
          "text": [
            "and:   \t0.30000001192092896%\n",
            ",:   \t0.23000000417232513%\n",
            ".:   \t0.1599999964237213%\n",
            "on:   \t0.12999999523162842%\n",
            "-:   \t0.11999999731779099%\n",
            "--------\n",
            "\n"
          ]
        },
        {
          "output_type": "display_data",
          "data": {
            "text/plain": [
              "<IPython.core.display.HTML object>"
            ],
            "text/html": [
              "<span style=\"background-color:rgba(135,206,250,0.15662423);\">wine</span> <span style=\"background-color:rgba(135,206,250,0.28150067);\">review</span> <span style=\"background-color:rgba(135,206,250,0.06040752);\">:</span> <span style=\"background-color:rgba(135,206,250,0.17760369);\">italy</span> <span style=\"background-color:rgba(135,206,250,0.1697337);\">component</span> <span style=\"background-color:rgba(135,206,250,0.35467055);\">monster</span> <span style=\"background-color:rgba(135,206,250,0.35077336);\">week</span> <span style=\"background-color:rgba(135,206,250,0.2661171);\">preserving</span> <span style=\"background-color:rgba(135,206,250,0.12692344);\">lightweight</span> <span style=\"background-color:rgba(135,206,250,0.20422527);\">macerated</span> <span style=\"background-color:rgba(135,206,250,0.0761828);\">lithe</span> <span style=\"background-color:rgba(135,206,250,0.088228814);\">outside</span> <span style=\"background-color:rgba(135,206,250,0.067142956);\">handful</span> <span style=\"background-color:rgba(135,206,250,0.114335865);\">chubby</span> <span style=\"background-color:rgba(135,206,250,0.05568995);\">wimpy</span> <span style=\"background-color:rgba(135,206,250,0.02776862);\">find</span> <span style=\"background-color:rgba(135,206,250,0.021334229);\">jammy</span> <span style=\"background-color:rgba(135,206,250,0.106354974);\">resembling</span> <span style=\"background-color:rgba(135,206,250,0.066311605);\">wilson</span> <span style=\"background-color:rgba(135,206,250,0.08477326);\">champagnes</span> <span style=\"background-color:rgba(135,206,250,0.030599734);\">nebbiolo</span> <span style=\"background-color:rgba(135,206,250,0.3342598);\">spends</span> <span style=\"background-color:rgba(135,206,250,0.07815019);\">Štajerska</span> <span style=\"background-color:rgba(135,206,250,0.44726294);\">prisoners</span> <span style=\"background-color:rgba(135,206,250,0.18409602);\">milky</span> <span style=\"background-color:rgba(135,206,250,0.36373603);\">until</span> <span style=\"background-color:rgba(135,206,250,0.42030203);\">tiring</span> <span style=\"background-color:rgba(135,206,250,0.21411009);\">waves</span> <span style=\"background-color:rgba(135,206,250,0.28981942);\">as</span> <span style=\"background-color:rgba(135,206,250,1.0);\">herb</span> <span style=\"background-color:rgba(135,206,250,0.42158967);\">base</span>"
            ]
          },
          "metadata": {}
        },
        {
          "output_type": "stream",
          "name": "stdout",
          "text": [
            ".:   \t0.2800000011920929%\n",
            ",:   \t0.23000000417232513%\n",
            "and:   \t0.14000000059604645%\n",
            "that:   \t0.14000000059604645%\n",
            "with:   \t0.14000000059604645%\n",
            "--------\n",
            "\n"
          ]
        },
        {
          "output_type": "display_data",
          "data": {
            "text/plain": [
              "<IPython.core.display.HTML object>"
            ],
            "text/html": [
              "<span style=\"background-color:rgba(135,206,250,0.6640432);\">wine</span> <span style=\"background-color:rgba(135,206,250,0.71314406);\">review</span> <span style=\"background-color:rgba(135,206,250,0.4276024);\">:</span> <span style=\"background-color:rgba(135,206,250,0.49991107);\">italy</span> <span style=\"background-color:rgba(135,206,250,1.0);\">component</span> <span style=\"background-color:rgba(135,206,250,0.43115819);\">monster</span> <span style=\"background-color:rgba(135,206,250,0.500624);\">week</span> <span style=\"background-color:rgba(135,206,250,0.35072693);\">preserving</span> <span style=\"background-color:rgba(135,206,250,0.13290645);\">lightweight</span> <span style=\"background-color:rgba(135,206,250,0.06403495);\">macerated</span> <span style=\"background-color:rgba(135,206,250,0.056081276);\">lithe</span> <span style=\"background-color:rgba(135,206,250,0.1773401);\">outside</span> <span style=\"background-color:rgba(135,206,250,0.14659624);\">handful</span> <span style=\"background-color:rgba(135,206,250,0.1766578);\">chubby</span> <span style=\"background-color:rgba(135,206,250,0.10753527);\">wimpy</span> <span style=\"background-color:rgba(135,206,250,0.06546318);\">find</span> <span style=\"background-color:rgba(135,206,250,0.060507264);\">jammy</span> <span style=\"background-color:rgba(135,206,250,0.14128815);\">resembling</span> <span style=\"background-color:rgba(135,206,250,0.094972946);\">wilson</span> <span style=\"background-color:rgba(135,206,250,0.07697587);\">champagnes</span> <span style=\"background-color:rgba(135,206,250,0.07867424);\">nebbiolo</span> <span style=\"background-color:rgba(135,206,250,0.31111416);\">spends</span> <span style=\"background-color:rgba(135,206,250,0.21672183);\">Štajerska</span> <span style=\"background-color:rgba(135,206,250,0.36532712);\">prisoners</span> <span style=\"background-color:rgba(135,206,250,0.13689901);\">milky</span> <span style=\"background-color:rgba(135,206,250,0.2620955);\">until</span> <span style=\"background-color:rgba(135,206,250,0.4242786);\">tiring</span> <span style=\"background-color:rgba(135,206,250,0.30600983);\">waves</span> <span style=\"background-color:rgba(135,206,250,0.3038575);\">as</span> <span style=\"background-color:rgba(135,206,250,0.38671115);\">herb</span> <span style=\"background-color:rgba(135,206,250,0.5801582);\">base</span> <span style=\"background-color:rgba(135,206,250,0.87285507);\">conner</span>"
            ]
          },
          "metadata": {}
        },
        {
          "output_type": "stream",
          "name": "stdout",
          "text": [
            ".:   \t0.10999999940395355%\n",
            "[UNK]:   \t0.10999999940395355%\n",
            "lee:   \t0.10999999940395355%\n",
            "sweetness:   \t0.07999999821186066%\n",
            "-:   \t0.07000000029802322%\n",
            "--------\n",
            "\n"
          ]
        },
        {
          "output_type": "display_data",
          "data": {
            "text/plain": [
              "<IPython.core.display.HTML object>"
            ],
            "text/html": [
              "<span style=\"background-color:rgba(135,206,250,0.24371383);\">wine</span> <span style=\"background-color:rgba(135,206,250,0.48988205);\">review</span> <span style=\"background-color:rgba(135,206,250,0.080641784);\">:</span> <span style=\"background-color:rgba(135,206,250,0.18978669);\">italy</span> <span style=\"background-color:rgba(135,206,250,0.16328463);\">component</span> <span style=\"background-color:rgba(135,206,250,0.17675386);\">monster</span> <span style=\"background-color:rgba(135,206,250,0.12911484);\">week</span> <span style=\"background-color:rgba(135,206,250,0.1410773);\">preserving</span> <span style=\"background-color:rgba(135,206,250,0.0689382);\">lightweight</span> <span style=\"background-color:rgba(135,206,250,0.025800925);\">macerated</span> <span style=\"background-color:rgba(135,206,250,0.029336823);\">lithe</span> <span style=\"background-color:rgba(135,206,250,0.09284677);\">outside</span> <span style=\"background-color:rgba(135,206,250,0.16469349);\">handful</span> <span style=\"background-color:rgba(135,206,250,0.04182202);\">chubby</span> <span style=\"background-color:rgba(135,206,250,0.05166386);\">wimpy</span> <span style=\"background-color:rgba(135,206,250,0.063584805);\">find</span> <span style=\"background-color:rgba(135,206,250,0.038810313);\">jammy</span> <span style=\"background-color:rgba(135,206,250,0.12351645);\">resembling</span> <span style=\"background-color:rgba(135,206,250,0.030991936);\">wilson</span> <span style=\"background-color:rgba(135,206,250,0.044470806);\">champagnes</span> <span style=\"background-color:rgba(135,206,250,0.02965588);\">nebbiolo</span> <span style=\"background-color:rgba(135,206,250,0.24597952);\">spends</span> <span style=\"background-color:rgba(135,206,250,0.10843043);\">Štajerska</span> <span style=\"background-color:rgba(135,206,250,0.21265844);\">prisoners</span> <span style=\"background-color:rgba(135,206,250,0.10903768);\">milky</span> <span style=\"background-color:rgba(135,206,250,0.20818159);\">until</span> <span style=\"background-color:rgba(135,206,250,0.24926202);\">tiring</span> <span style=\"background-color:rgba(135,206,250,0.23800461);\">waves</span> <span style=\"background-color:rgba(135,206,250,0.2086798);\">as</span> <span style=\"background-color:rgba(135,206,250,0.24477795);\">herb</span> <span style=\"background-color:rgba(135,206,250,0.6293981);\">base</span> <span style=\"background-color:rgba(135,206,250,1.0);\">conner</span> <span style=\"background-color:rgba(135,206,250,0.27321187);\">buttercream</span>"
            ]
          },
          "metadata": {}
        },
        {
          "output_type": "stream",
          "name": "stdout",
          "text": [
            ".:   \t0.33000001311302185%\n",
            "and:   \t0.2800000011920929%\n",
            ",:   \t0.25999999046325684%\n",
            "notes:   \t0.11999999731779099%\n",
            "aromas:   \t0.10000000149011612%\n",
            "--------\n",
            "\n"
          ]
        },
        {
          "output_type": "display_data",
          "data": {
            "text/plain": [
              "<IPython.core.display.HTML object>"
            ],
            "text/html": [
              "<span style=\"background-color:rgba(135,206,250,0.23433985);\">wine</span> <span style=\"background-color:rgba(135,206,250,0.3572687);\">review</span> <span style=\"background-color:rgba(135,206,250,0.059668627);\">:</span> <span style=\"background-color:rgba(135,206,250,0.16448627);\">italy</span> <span style=\"background-color:rgba(135,206,250,0.24096525);\">component</span> <span style=\"background-color:rgba(135,206,250,0.19357194);\">monster</span> <span style=\"background-color:rgba(135,206,250,0.18972985);\">week</span> <span style=\"background-color:rgba(135,206,250,0.21236192);\">preserving</span> <span style=\"background-color:rgba(135,206,250,0.115649834);\">lightweight</span> <span style=\"background-color:rgba(135,206,250,0.12648569);\">macerated</span> <span style=\"background-color:rgba(135,206,250,0.06310897);\">lithe</span> <span style=\"background-color:rgba(135,206,250,0.13604483);\">outside</span> <span style=\"background-color:rgba(135,206,250,0.09781108);\">handful</span> <span style=\"background-color:rgba(135,206,250,0.065977216);\">chubby</span> <span style=\"background-color:rgba(135,206,250,0.06946656);\">wimpy</span> <span style=\"background-color:rgba(135,206,250,0.03752878);\">find</span> <span style=\"background-color:rgba(135,206,250,0.038615037);\">jammy</span> <span style=\"background-color:rgba(135,206,250,0.13737917);\">resembling</span> <span style=\"background-color:rgba(135,206,250,0.071329065);\">wilson</span> <span style=\"background-color:rgba(135,206,250,0.10809858);\">champagnes</span> <span style=\"background-color:rgba(135,206,250,0.03515297);\">nebbiolo</span> <span style=\"background-color:rgba(135,206,250,0.25476664);\">spends</span> <span style=\"background-color:rgba(135,206,250,0.10485159);\">Štajerska</span> <span style=\"background-color:rgba(135,206,250,0.3835244);\">prisoners</span> <span style=\"background-color:rgba(135,206,250,0.16601247);\">milky</span> <span style=\"background-color:rgba(135,206,250,0.21589349);\">until</span> <span style=\"background-color:rgba(135,206,250,0.33102292);\">tiring</span> <span style=\"background-color:rgba(135,206,250,0.3490516);\">waves</span> <span style=\"background-color:rgba(135,206,250,0.15266818);\">as</span> <span style=\"background-color:rgba(135,206,250,0.36748958);\">herb</span> <span style=\"background-color:rgba(135,206,250,0.3235659);\">base</span> <span style=\"background-color:rgba(135,206,250,1.0);\">conner</span> <span style=\"background-color:rgba(135,206,250,0.6446006);\">buttercream</span> <span style=\"background-color:rgba(135,206,250,0.3410387);\">expected</span>"
            ]
          },
          "metadata": {}
        },
        {
          "output_type": "stream",
          "name": "stdout",
          "text": [
            ".:   \t0.25%\n",
            ",:   \t0.15000000596046448%\n",
            "fruit:   \t0.14000000059604645%\n",
            "and:   \t0.12999999523162842%\n",
            "on:   \t0.12999999523162842%\n",
            "--------\n",
            "\n"
          ]
        },
        {
          "output_type": "display_data",
          "data": {
            "text/plain": [
              "<IPython.core.display.HTML object>"
            ],
            "text/html": [
              "<span style=\"background-color:rgba(135,206,250,0.28839314);\">wine</span> <span style=\"background-color:rgba(135,206,250,0.46691906);\">review</span> <span style=\"background-color:rgba(135,206,250,0.107784405);\">:</span> <span style=\"background-color:rgba(135,206,250,0.27540085);\">italy</span> <span style=\"background-color:rgba(135,206,250,0.4932738);\">component</span> <span style=\"background-color:rgba(135,206,250,0.2853186);\">monster</span> <span style=\"background-color:rgba(135,206,250,0.3679714);\">week</span> <span style=\"background-color:rgba(135,206,250,0.3148704);\">preserving</span> <span style=\"background-color:rgba(135,206,250,0.166523);\">lightweight</span> <span style=\"background-color:rgba(135,206,250,0.094933994);\">macerated</span> <span style=\"background-color:rgba(135,206,250,0.06517501);\">lithe</span> <span style=\"background-color:rgba(135,206,250,0.110151544);\">outside</span> <span style=\"background-color:rgba(135,206,250,0.10961118);\">handful</span> <span style=\"background-color:rgba(135,206,250,0.13831893);\">chubby</span> <span style=\"background-color:rgba(135,206,250,0.042335797);\">wimpy</span> <span style=\"background-color:rgba(135,206,250,0.033214424);\">find</span> <span style=\"background-color:rgba(135,206,250,0.03696966);\">jammy</span> <span style=\"background-color:rgba(135,206,250,0.1036476);\">resembling</span> <span style=\"background-color:rgba(135,206,250,0.05619546);\">wilson</span> <span style=\"background-color:rgba(135,206,250,0.06703688);\">champagnes</span> <span style=\"background-color:rgba(135,206,250,0.044664536);\">nebbiolo</span> <span style=\"background-color:rgba(135,206,250,0.14030997);\">spends</span> <span style=\"background-color:rgba(135,206,250,0.10801897);\">Štajerska</span> <span style=\"background-color:rgba(135,206,250,0.31010127);\">prisoners</span> <span style=\"background-color:rgba(135,206,250,0.102877535);\">milky</span> <span style=\"background-color:rgba(135,206,250,0.1548849);\">until</span> <span style=\"background-color:rgba(135,206,250,0.29603893);\">tiring</span> <span style=\"background-color:rgba(135,206,250,0.2646674);\">waves</span> <span style=\"background-color:rgba(135,206,250,0.24381423);\">as</span> <span style=\"background-color:rgba(135,206,250,0.32862246);\">herb</span> <span style=\"background-color:rgba(135,206,250,0.8053729);\">base</span> <span style=\"background-color:rgba(135,206,250,1.0);\">conner</span> <span style=\"background-color:rgba(135,206,250,0.40172204);\">buttercream</span> <span style=\"background-color:rgba(135,206,250,0.8002407);\">expected</span> <span style=\"background-color:rgba(135,206,250,0.55234545);\">heavier</span>"
            ]
          },
          "metadata": {}
        },
        {
          "output_type": "stream",
          "name": "stdout",
          "text": [
            "notes:   \t0.15000000596046448%\n",
            ".:   \t0.14000000059604645%\n",
            "tones:   \t0.12999999523162842%\n",
            "and:   \t0.11999999731779099%\n",
            "fruit:   \t0.10999999940395355%\n",
            "--------\n",
            "\n"
          ]
        },
        {
          "output_type": "display_data",
          "data": {
            "text/plain": [
              "<IPython.core.display.HTML object>"
            ],
            "text/html": [
              "<span style=\"background-color:rgba(135,206,250,0.6434229);\">wine</span> <span style=\"background-color:rgba(135,206,250,0.73432845);\">review</span> <span style=\"background-color:rgba(135,206,250,0.23547642);\">:</span> <span style=\"background-color:rgba(135,206,250,0.42063463);\">italy</span> <span style=\"background-color:rgba(135,206,250,0.43717676);\">component</span> <span style=\"background-color:rgba(135,206,250,0.4184157);\">monster</span> <span style=\"background-color:rgba(135,206,250,0.4086715);\">week</span> <span style=\"background-color:rgba(135,206,250,0.5213681);\">preserving</span> <span style=\"background-color:rgba(135,206,250,0.15602541);\">lightweight</span> <span style=\"background-color:rgba(135,206,250,0.13710259);\">macerated</span> <span style=\"background-color:rgba(135,206,250,0.086720645);\">lithe</span> <span style=\"background-color:rgba(135,206,250,0.24553305);\">outside</span> <span style=\"background-color:rgba(135,206,250,0.24973093);\">handful</span> <span style=\"background-color:rgba(135,206,250,0.14440562);\">chubby</span> <span style=\"background-color:rgba(135,206,250,0.08131612);\">wimpy</span> <span style=\"background-color:rgba(135,206,250,0.08587136);\">find</span> <span style=\"background-color:rgba(135,206,250,0.06750865);\">jammy</span> <span style=\"background-color:rgba(135,206,250,0.21884641);\">resembling</span> <span style=\"background-color:rgba(135,206,250,0.091488354);\">wilson</span> <span style=\"background-color:rgba(135,206,250,0.12827903);\">champagnes</span> <span style=\"background-color:rgba(135,206,250,0.0750906);\">nebbiolo</span> <span style=\"background-color:rgba(135,206,250,0.38995695);\">spends</span> <span style=\"background-color:rgba(135,206,250,0.13477495);\">Štajerska</span> <span style=\"background-color:rgba(135,206,250,0.38290158);\">prisoners</span> <span style=\"background-color:rgba(135,206,250,0.13537976);\">milky</span> <span style=\"background-color:rgba(135,206,250,0.29665515);\">until</span> <span style=\"background-color:rgba(135,206,250,0.3636368);\">tiring</span> <span style=\"background-color:rgba(135,206,250,0.27282217);\">waves</span> <span style=\"background-color:rgba(135,206,250,0.210797);\">as</span> <span style=\"background-color:rgba(135,206,250,0.3655489);\">herb</span> <span style=\"background-color:rgba(135,206,250,0.27966473);\">base</span> <span style=\"background-color:rgba(135,206,250,1.0);\">conner</span> <span style=\"background-color:rgba(135,206,250,0.38924858);\">buttercream</span> <span style=\"background-color:rgba(135,206,250,0.60850996);\">expected</span> <span style=\"background-color:rgba(135,206,250,0.9063545);\">heavier</span> <span style=\"background-color:rgba(135,206,250,0.6116047);\">serve</span>"
            ]
          },
          "metadata": {}
        },
        {
          "output_type": "stream",
          "name": "stdout",
          "text": [
            "with:   \t0.17000000178813934%\n",
            "to:   \t0.1599999964237213%\n",
            "as:   \t0.15000000596046448%\n",
            "it:   \t0.11999999731779099%\n",
            ".:   \t0.10999999940395355%\n",
            "--------\n",
            "\n"
          ]
        },
        {
          "output_type": "display_data",
          "data": {
            "text/plain": [
              "<IPython.core.display.HTML object>"
            ],
            "text/html": [
              "<span style=\"background-color:rgba(135,206,250,0.2198066);\">wine</span> <span style=\"background-color:rgba(135,206,250,0.38560432);\">review</span> <span style=\"background-color:rgba(135,206,250,0.07584361);\">:</span> <span style=\"background-color:rgba(135,206,250,0.21390052);\">italy</span> <span style=\"background-color:rgba(135,206,250,0.18975796);\">component</span> <span style=\"background-color:rgba(135,206,250,0.16915873);\">monster</span> <span style=\"background-color:rgba(135,206,250,0.20473263);\">week</span> <span style=\"background-color:rgba(135,206,250,0.25837493);\">preserving</span> <span style=\"background-color:rgba(135,206,250,0.10358933);\">lightweight</span> <span style=\"background-color:rgba(135,206,250,0.07099675);\">macerated</span> <span style=\"background-color:rgba(135,206,250,0.042917654);\">lithe</span> <span style=\"background-color:rgba(135,206,250,0.11690492);\">outside</span> <span style=\"background-color:rgba(135,206,250,0.14152072);\">handful</span> <span style=\"background-color:rgba(135,206,250,0.063059814);\">chubby</span> <span style=\"background-color:rgba(135,206,250,0.047431473);\">wimpy</span> <span style=\"background-color:rgba(135,206,250,0.05599314);\">find</span> <span style=\"background-color:rgba(135,206,250,0.027283533);\">jammy</span> <span style=\"background-color:rgba(135,206,250,0.15515375);\">resembling</span> <span style=\"background-color:rgba(135,206,250,0.041188397);\">wilson</span> <span style=\"background-color:rgba(135,206,250,0.062216576);\">champagnes</span> <span style=\"background-color:rgba(135,206,250,0.035377707);\">nebbiolo</span> <span style=\"background-color:rgba(135,206,250,0.23098737);\">spends</span> <span style=\"background-color:rgba(135,206,250,0.08905232);\">Štajerska</span> <span style=\"background-color:rgba(135,206,250,0.40238804);\">prisoners</span> <span style=\"background-color:rgba(135,206,250,0.06374106);\">milky</span> <span style=\"background-color:rgba(135,206,250,0.18380943);\">until</span> <span style=\"background-color:rgba(135,206,250,0.23426679);\">tiring</span> <span style=\"background-color:rgba(135,206,250,0.18822841);\">waves</span> <span style=\"background-color:rgba(135,206,250,0.21228725);\">as</span> <span style=\"background-color:rgba(135,206,250,0.20467483);\">herb</span> <span style=\"background-color:rgba(135,206,250,0.2889539);\">base</span> <span style=\"background-color:rgba(135,206,250,0.70275015);\">conner</span> <span style=\"background-color:rgba(135,206,250,0.43535677);\">buttercream</span> <span style=\"background-color:rgba(135,206,250,0.45907813);\">expected</span> <span style=\"background-color:rgba(135,206,250,0.79114646);\">heavier</span> <span style=\"background-color:rgba(135,206,250,1.0);\">serve</span> <span style=\"background-color:rgba(135,206,250,0.58559585);\">grab</span>"
            ]
          },
          "metadata": {}
        },
        {
          "output_type": "stream",
          "name": "stdout",
          "text": [
            ".:   \t0.23999999463558197%\n",
            "on:   \t0.1899999976158142%\n",
            "and:   \t0.1899999976158142%\n",
            "your:   \t0.18000000715255737%\n",
            "as:   \t0.15000000596046448%\n",
            "--------\n",
            "\n"
          ]
        },
        {
          "output_type": "display_data",
          "data": {
            "text/plain": [
              "<IPython.core.display.HTML object>"
            ],
            "text/html": [
              "<span style=\"background-color:rgba(135,206,250,0.144519);\">wine</span> <span style=\"background-color:rgba(135,206,250,0.24895273);\">review</span> <span style=\"background-color:rgba(135,206,250,0.048150346);\">:</span> <span style=\"background-color:rgba(135,206,250,0.18273346);\">italy</span> <span style=\"background-color:rgba(135,206,250,0.17412814);\">component</span> <span style=\"background-color:rgba(135,206,250,0.1551446);\">monster</span> <span style=\"background-color:rgba(135,206,250,0.15770285);\">week</span> <span style=\"background-color:rgba(135,206,250,0.17376819);\">preserving</span> <span style=\"background-color:rgba(135,206,250,0.09713256);\">lightweight</span> <span style=\"background-color:rgba(135,206,250,0.07825226);\">macerated</span> <span style=\"background-color:rgba(135,206,250,0.03827832);\">lithe</span> <span style=\"background-color:rgba(135,206,250,0.060466975);\">outside</span> <span style=\"background-color:rgba(135,206,250,0.08706342);\">handful</span> <span style=\"background-color:rgba(135,206,250,0.03469448);\">chubby</span> <span style=\"background-color:rgba(135,206,250,0.048674077);\">wimpy</span> <span style=\"background-color:rgba(135,206,250,0.034287956);\">find</span> <span style=\"background-color:rgba(135,206,250,0.026443081);\">jammy</span> <span style=\"background-color:rgba(135,206,250,0.109372295);\">resembling</span> <span style=\"background-color:rgba(135,206,250,0.038423058);\">wilson</span> <span style=\"background-color:rgba(135,206,250,0.041765124);\">champagnes</span> <span style=\"background-color:rgba(135,206,250,0.021247951);\">nebbiolo</span> <span style=\"background-color:rgba(135,206,250,0.13741045);\">spends</span> <span style=\"background-color:rgba(135,206,250,0.06301181);\">Štajerska</span> <span style=\"background-color:rgba(135,206,250,0.18135208);\">prisoners</span> <span style=\"background-color:rgba(135,206,250,0.07141431);\">milky</span> <span style=\"background-color:rgba(135,206,250,0.087886);\">until</span> <span style=\"background-color:rgba(135,206,250,0.12239376);\">tiring</span> <span style=\"background-color:rgba(135,206,250,0.22612579);\">waves</span> <span style=\"background-color:rgba(135,206,250,0.057041023);\">as</span> <span style=\"background-color:rgba(135,206,250,0.08603312);\">herb</span> <span style=\"background-color:rgba(135,206,250,0.25117335);\">base</span> <span style=\"background-color:rgba(135,206,250,0.22521615);\">conner</span> <span style=\"background-color:rgba(135,206,250,0.11970007);\">buttercream</span> <span style=\"background-color:rgba(135,206,250,0.206063);\">expected</span> <span style=\"background-color:rgba(135,206,250,0.7000192);\">heavier</span> <span style=\"background-color:rgba(135,206,250,1.0);\">serve</span> <span style=\"background-color:rgba(135,206,250,0.4724567);\">grab</span> <span style=\"background-color:rgba(135,206,250,0.23510498);\">dough</span>"
            ]
          },
          "metadata": {}
        },
        {
          "output_type": "stream",
          "name": "stdout",
          "text": [
            ".:   \t0.2199999988079071%\n",
            "flavors:   \t0.12999999523162842%\n",
            "and:   \t0.11999999731779099%\n",
            "-:   \t0.11999999731779099%\n",
            "aromas:   \t0.11999999731779099%\n",
            "--------\n",
            "\n"
          ]
        },
        {
          "output_type": "display_data",
          "data": {
            "text/plain": [
              "<IPython.core.display.HTML object>"
            ],
            "text/html": [
              "<span style=\"background-color:rgba(135,206,250,0.17007565);\">wine</span> <span style=\"background-color:rgba(135,206,250,0.19833009);\">review</span> <span style=\"background-color:rgba(135,206,250,0.06568605);\">:</span> <span style=\"background-color:rgba(135,206,250,0.16637826);\">italy</span> <span style=\"background-color:rgba(135,206,250,0.2410846);\">component</span> <span style=\"background-color:rgba(135,206,250,0.34351128);\">monster</span> <span style=\"background-color:rgba(135,206,250,0.4541355);\">week</span> <span style=\"background-color:rgba(135,206,250,0.17927529);\">preserving</span> <span style=\"background-color:rgba(135,206,250,0.15405443);\">lightweight</span> <span style=\"background-color:rgba(135,206,250,0.14296688);\">macerated</span> <span style=\"background-color:rgba(135,206,250,0.13702987);\">lithe</span> <span style=\"background-color:rgba(135,206,250,0.114452966);\">outside</span> <span style=\"background-color:rgba(135,206,250,0.14164104);\">handful</span> <span style=\"background-color:rgba(135,206,250,0.15678719);\">chubby</span> <span style=\"background-color:rgba(135,206,250,0.129601);\">wimpy</span> <span style=\"background-color:rgba(135,206,250,0.039772898);\">find</span> <span style=\"background-color:rgba(135,206,250,0.042365067);\">jammy</span> <span style=\"background-color:rgba(135,206,250,0.11124923);\">resembling</span> <span style=\"background-color:rgba(135,206,250,0.10341565);\">wilson</span> <span style=\"background-color:rgba(135,206,250,0.14269342);\">champagnes</span> <span style=\"background-color:rgba(135,206,250,0.034582388);\">nebbiolo</span> <span style=\"background-color:rgba(135,206,250,0.17870529);\">spends</span> <span style=\"background-color:rgba(135,206,250,0.102435224);\">Štajerska</span> <span style=\"background-color:rgba(135,206,250,0.4086164);\">prisoners</span> <span style=\"background-color:rgba(135,206,250,0.08649436);\">milky</span> <span style=\"background-color:rgba(135,206,250,0.10729642);\">until</span> <span style=\"background-color:rgba(135,206,250,0.1933411);\">tiring</span> <span style=\"background-color:rgba(135,206,250,0.15353459);\">waves</span> <span style=\"background-color:rgba(135,206,250,0.07401139);\">as</span> <span style=\"background-color:rgba(135,206,250,0.14843184);\">herb</span> <span style=\"background-color:rgba(135,206,250,0.16118795);\">base</span> <span style=\"background-color:rgba(135,206,250,0.61021876);\">conner</span> <span style=\"background-color:rgba(135,206,250,0.29446298);\">buttercream</span> <span style=\"background-color:rgba(135,206,250,0.3900371);\">expected</span> <span style=\"background-color:rgba(135,206,250,0.25294894);\">heavier</span> <span style=\"background-color:rgba(135,206,250,0.9439074);\">serve</span> <span style=\"background-color:rgba(135,206,250,1.0);\">grab</span> <span style=\"background-color:rgba(135,206,250,0.8828372);\">dough</span> <span style=\"background-color:rgba(135,206,250,0.40982366);\">those</span>"
            ]
          },
          "metadata": {}
        },
        {
          "output_type": "stream",
          "name": "stdout",
          "text": [
            "[UNK]:   \t0.10000000149011612%\n",
            "who:   \t0.07999999821186066%\n",
            ".:   \t0.07999999821186066%\n",
            "flavors:   \t0.07000000029802322%\n",
            "tannins:   \t0.07000000029802322%\n",
            "--------\n",
            "\n"
          ]
        },
        {
          "output_type": "display_data",
          "data": {
            "text/plain": [
              "<IPython.core.display.HTML object>"
            ],
            "text/html": [
              "<span style=\"background-color:rgba(135,206,250,0.14988826);\">wine</span> <span style=\"background-color:rgba(135,206,250,0.29200134);\">review</span> <span style=\"background-color:rgba(135,206,250,0.05518402);\">:</span> <span style=\"background-color:rgba(135,206,250,0.11142212);\">italy</span> <span style=\"background-color:rgba(135,206,250,0.18334123);\">component</span> <span style=\"background-color:rgba(135,206,250,0.14079578);\">monster</span> <span style=\"background-color:rgba(135,206,250,0.10124723);\">week</span> <span style=\"background-color:rgba(135,206,250,0.14974017);\">preserving</span> <span style=\"background-color:rgba(135,206,250,0.06383964);\">lightweight</span> <span style=\"background-color:rgba(135,206,250,0.031135648);\">macerated</span> <span style=\"background-color:rgba(135,206,250,0.021519171);\">lithe</span> <span style=\"background-color:rgba(135,206,250,0.08422468);\">outside</span> <span style=\"background-color:rgba(135,206,250,0.07535244);\">handful</span> <span style=\"background-color:rgba(135,206,250,0.030379673);\">chubby</span> <span style=\"background-color:rgba(135,206,250,0.016841821);\">wimpy</span> <span style=\"background-color:rgba(135,206,250,0.026092742);\">find</span> <span style=\"background-color:rgba(135,206,250,0.019063778);\">jammy</span> <span style=\"background-color:rgba(135,206,250,0.064610794);\">resembling</span> <span style=\"background-color:rgba(135,206,250,0.0172266);\">wilson</span> <span style=\"background-color:rgba(135,206,250,0.02150535);\">champagnes</span> <span style=\"background-color:rgba(135,206,250,0.020898022);\">nebbiolo</span> <span style=\"background-color:rgba(135,206,250,0.055647522);\">spends</span> <span style=\"background-color:rgba(135,206,250,0.04460985);\">Štajerska</span> <span style=\"background-color:rgba(135,206,250,0.06944274);\">prisoners</span> <span style=\"background-color:rgba(135,206,250,0.02523465);\">milky</span> <span style=\"background-color:rgba(135,206,250,0.03022493);\">until</span> <span style=\"background-color:rgba(135,206,250,0.05794482);\">tiring</span> <span style=\"background-color:rgba(135,206,250,0.060818773);\">waves</span> <span style=\"background-color:rgba(135,206,250,0.03679129);\">as</span> <span style=\"background-color:rgba(135,206,250,0.052204497);\">herb</span> <span style=\"background-color:rgba(135,206,250,0.09545502);\">base</span> <span style=\"background-color:rgba(135,206,250,0.14935085);\">conner</span> <span style=\"background-color:rgba(135,206,250,0.051527508);\">buttercream</span> <span style=\"background-color:rgba(135,206,250,0.11506667);\">expected</span> <span style=\"background-color:rgba(135,206,250,0.20250686);\">heavier</span> <span style=\"background-color:rgba(135,206,250,0.3962259);\">serve</span> <span style=\"background-color:rgba(135,206,250,0.18942995);\">grab</span> <span style=\"background-color:rgba(135,206,250,0.15215677);\">dough</span> <span style=\"background-color:rgba(135,206,250,1.0);\">those</span> <span style=\"background-color:rgba(135,206,250,0.15715703);\">japanese</span>"
            ]
          },
          "metadata": {}
        },
        {
          "output_type": "stream",
          "name": "stdout",
          "text": [
            "food:   \t0.10000000149011612%\n",
            "dishes:   \t0.10000000149011612%\n",
            "foods:   \t0.09000000357627869%\n",
            "-:   \t0.07999999821186066%\n",
            "[UNK]:   \t0.07000000029802322%\n",
            "--------\n",
            "\n"
          ]
        },
        {
          "output_type": "display_data",
          "data": {
            "text/plain": [
              "<IPython.core.display.HTML object>"
            ],
            "text/html": [
              "<span style=\"background-color:rgba(135,206,250,0.07714153);\">wine</span> <span style=\"background-color:rgba(135,206,250,0.08765382);\">review</span> <span style=\"background-color:rgba(135,206,250,0.035432287);\">:</span> <span style=\"background-color:rgba(135,206,250,0.07446859);\">italy</span> <span style=\"background-color:rgba(135,206,250,0.08184092);\">component</span> <span style=\"background-color:rgba(135,206,250,0.11121055);\">monster</span> <span style=\"background-color:rgba(135,206,250,0.13498504);\">week</span> <span style=\"background-color:rgba(135,206,250,0.050009426);\">preserving</span> <span style=\"background-color:rgba(135,206,250,0.071528904);\">lightweight</span> <span style=\"background-color:rgba(135,206,250,0.03168646);\">macerated</span> <span style=\"background-color:rgba(135,206,250,0.0337573);\">lithe</span> <span style=\"background-color:rgba(135,206,250,0.035732813);\">outside</span> <span style=\"background-color:rgba(135,206,250,0.030051054);\">handful</span> <span style=\"background-color:rgba(135,206,250,0.082224764);\">chubby</span> <span style=\"background-color:rgba(135,206,250,0.036348328);\">wimpy</span> <span style=\"background-color:rgba(135,206,250,0.015376997);\">find</span> <span style=\"background-color:rgba(135,206,250,0.020326573);\">jammy</span> <span style=\"background-color:rgba(135,206,250,0.026315978);\">resembling</span> <span style=\"background-color:rgba(135,206,250,0.024910564);\">wilson</span> <span style=\"background-color:rgba(135,206,250,0.030022357);\">champagnes</span> <span style=\"background-color:rgba(135,206,250,0.015013247);\">nebbiolo</span> <span style=\"background-color:rgba(135,206,250,0.04132248);\">spends</span> <span style=\"background-color:rgba(135,206,250,0.04117415);\">Štajerska</span> <span style=\"background-color:rgba(135,206,250,0.09742343);\">prisoners</span> <span style=\"background-color:rgba(135,206,250,0.023615297);\">milky</span> <span style=\"background-color:rgba(135,206,250,0.028782537);\">until</span> <span style=\"background-color:rgba(135,206,250,0.0714741);\">tiring</span> <span style=\"background-color:rgba(135,206,250,0.044338305);\">waves</span> <span style=\"background-color:rgba(135,206,250,0.024057893);\">as</span> <span style=\"background-color:rgba(135,206,250,0.05371261);\">herb</span> <span style=\"background-color:rgba(135,206,250,0.044390887);\">base</span> <span style=\"background-color:rgba(135,206,250,0.14532644);\">conner</span> <span style=\"background-color:rgba(135,206,250,0.06041705);\">buttercream</span> <span style=\"background-color:rgba(135,206,250,0.08231224);\">expected</span> <span style=\"background-color:rgba(135,206,250,0.08059713);\">heavier</span> <span style=\"background-color:rgba(135,206,250,0.12850146);\">serve</span> <span style=\"background-color:rgba(135,206,250,0.11857419);\">grab</span> <span style=\"background-color:rgba(135,206,250,0.2665422);\">dough</span> <span style=\"background-color:rgba(135,206,250,0.18865274);\">those</span> <span style=\"background-color:rgba(135,206,250,1.0);\">japanese</span> <span style=\"background-color:rgba(135,206,250,0.10369006);\">24</span>"
            ]
          },
          "metadata": {}
        },
        {
          "output_type": "stream",
          "name": "stdout",
          "text": [
            "months:   \t0.17000000178813934%\n",
            ".:   \t0.15000000596046448%\n",
            "[UNK]:   \t0.07999999821186066%\n",
            "-:   \t0.07000000029802322%\n",
            "rock:   \t0.07000000029802322%\n",
            "--------\n",
            "\n"
          ]
        },
        {
          "output_type": "display_data",
          "data": {
            "text/plain": [
              "<IPython.core.display.HTML object>"
            ],
            "text/html": [
              "<span style=\"background-color:rgba(135,206,250,0.25972646);\">wine</span> <span style=\"background-color:rgba(135,206,250,0.31906325);\">review</span> <span style=\"background-color:rgba(135,206,250,0.111827515);\">:</span> <span style=\"background-color:rgba(135,206,250,0.20594816);\">italy</span> <span style=\"background-color:rgba(135,206,250,0.33366594);\">component</span> <span style=\"background-color:rgba(135,206,250,0.21706189);\">monster</span> <span style=\"background-color:rgba(135,206,250,0.15322666);\">week</span> <span style=\"background-color:rgba(135,206,250,0.32467565);\">preserving</span> <span style=\"background-color:rgba(135,206,250,0.13101691);\">lightweight</span> <span style=\"background-color:rgba(135,206,250,0.08155799);\">macerated</span> <span style=\"background-color:rgba(135,206,250,0.038801923);\">lithe</span> <span style=\"background-color:rgba(135,206,250,0.12233414);\">outside</span> <span style=\"background-color:rgba(135,206,250,0.11621068);\">handful</span> <span style=\"background-color:rgba(135,206,250,0.06680093);\">chubby</span> <span style=\"background-color:rgba(135,206,250,0.061474454);\">wimpy</span> <span style=\"background-color:rgba(135,206,250,0.062034618);\">find</span> <span style=\"background-color:rgba(135,206,250,0.060946025);\">jammy</span> <span style=\"background-color:rgba(135,206,250,0.10904735);\">resembling</span> <span style=\"background-color:rgba(135,206,250,0.039722797);\">wilson</span> <span style=\"background-color:rgba(135,206,250,0.05833609);\">champagnes</span> <span style=\"background-color:rgba(135,206,250,0.035306364);\">nebbiolo</span> <span style=\"background-color:rgba(135,206,250,0.1343046);\">spends</span> <span style=\"background-color:rgba(135,206,250,0.07690049);\">Štajerska</span> <span style=\"background-color:rgba(135,206,250,0.086459294);\">prisoners</span> <span style=\"background-color:rgba(135,206,250,0.06333961);\">milky</span> <span style=\"background-color:rgba(135,206,250,0.13606226);\">until</span> <span style=\"background-color:rgba(135,206,250,0.14757068);\">tiring</span> <span style=\"background-color:rgba(135,206,250,0.15731461);\">waves</span> <span style=\"background-color:rgba(135,206,250,0.100906625);\">as</span> <span style=\"background-color:rgba(135,206,250,0.12468398);\">herb</span> <span style=\"background-color:rgba(135,206,250,0.16542518);\">base</span> <span style=\"background-color:rgba(135,206,250,0.2313975);\">conner</span> <span style=\"background-color:rgba(135,206,250,0.09923799);\">buttercream</span> <span style=\"background-color:rgba(135,206,250,0.138031);\">expected</span> <span style=\"background-color:rgba(135,206,250,0.39730743);\">heavier</span> <span style=\"background-color:rgba(135,206,250,0.49803174);\">serve</span> <span style=\"background-color:rgba(135,206,250,0.24602585);\">grab</span> <span style=\"background-color:rgba(135,206,250,0.29930627);\">dough</span> <span style=\"background-color:rgba(135,206,250,1.0);\">those</span> <span style=\"background-color:rgba(135,206,250,0.3653366);\">japanese</span> <span style=\"background-color:rgba(135,206,250,0.5337719);\">24</span> <span style=\"background-color:rgba(135,206,250,0.4320955);\">carpentry</span>"
            ]
          },
          "metadata": {}
        },
        {
          "output_type": "stream",
          "name": "stdout",
          "text": [
            ".:   \t0.17000000178813934%\n",
            "notes:   \t0.15000000596046448%\n",
            "aromas:   \t0.14000000059604645%\n",
            "and:   \t0.11999999731779099%\n",
            "tones:   \t0.10000000149011612%\n",
            "--------\n",
            "\n"
          ]
        },
        {
          "output_type": "display_data",
          "data": {
            "text/plain": [
              "<IPython.core.display.HTML object>"
            ],
            "text/html": [
              "<span style=\"background-color:rgba(135,206,250,0.06788933);\">wine</span> <span style=\"background-color:rgba(135,206,250,0.13140783);\">review</span> <span style=\"background-color:rgba(135,206,250,0.038338695);\">:</span> <span style=\"background-color:rgba(135,206,250,0.0710411);\">italy</span> <span style=\"background-color:rgba(135,206,250,0.13337712);\">component</span> <span style=\"background-color:rgba(135,206,250,0.04864844);\">monster</span> <span style=\"background-color:rgba(135,206,250,0.053413317);\">week</span> <span style=\"background-color:rgba(135,206,250,0.071616106);\">preserving</span> <span style=\"background-color:rgba(135,206,250,0.040060002);\">lightweight</span> <span style=\"background-color:rgba(135,206,250,0.013134098);\">macerated</span> <span style=\"background-color:rgba(135,206,250,0.012740328);\">lithe</span> <span style=\"background-color:rgba(135,206,250,0.04531078);\">outside</span> <span style=\"background-color:rgba(135,206,250,0.029688813);\">handful</span> <span style=\"background-color:rgba(135,206,250,0.02258985);\">chubby</span> <span style=\"background-color:rgba(135,206,250,0.007426753);\">wimpy</span> <span style=\"background-color:rgba(135,206,250,0.011002857);\">find</span> <span style=\"background-color:rgba(135,206,250,0.007955155);\">jammy</span> <span style=\"background-color:rgba(135,206,250,0.03358606);\">resembling</span> <span style=\"background-color:rgba(135,206,250,0.007719102);\">wilson</span> <span style=\"background-color:rgba(135,206,250,0.010595039);\">champagnes</span> <span style=\"background-color:rgba(135,206,250,0.011920701);\">nebbiolo</span> <span style=\"background-color:rgba(135,206,250,0.030371279);\">spends</span> <span style=\"background-color:rgba(135,206,250,0.017076632);\">Štajerska</span> <span style=\"background-color:rgba(135,206,250,0.061755877);\">prisoners</span> <span style=\"background-color:rgba(135,206,250,0.014816005);\">milky</span> <span style=\"background-color:rgba(135,206,250,0.017720249);\">until</span> <span style=\"background-color:rgba(135,206,250,0.04890898);\">tiring</span> <span style=\"background-color:rgba(135,206,250,0.033463243);\">waves</span> <span style=\"background-color:rgba(135,206,250,0.015997032);\">as</span> <span style=\"background-color:rgba(135,206,250,0.024749344);\">herb</span> <span style=\"background-color:rgba(135,206,250,0.030850545);\">base</span> <span style=\"background-color:rgba(135,206,250,0.08843604);\">conner</span> <span style=\"background-color:rgba(135,206,250,0.024598835);\">buttercream</span> <span style=\"background-color:rgba(135,206,250,0.039591294);\">expected</span> <span style=\"background-color:rgba(135,206,250,0.048272673);\">heavier</span> <span style=\"background-color:rgba(135,206,250,0.08782813);\">serve</span> <span style=\"background-color:rgba(135,206,250,0.05145711);\">grab</span> <span style=\"background-color:rgba(135,206,250,0.07410917);\">dough</span> <span style=\"background-color:rgba(135,206,250,0.1282829);\">those</span> <span style=\"background-color:rgba(135,206,250,0.11752346);\">japanese</span> <span style=\"background-color:rgba(135,206,250,0.08587274);\">24</span> <span style=\"background-color:rgba(135,206,250,1.0);\">carpentry</span> <span style=\"background-color:rgba(135,206,250,0.10405096);\">margherita</span>"
            ]
          },
          "metadata": {}
        },
        {
          "output_type": "stream",
          "name": "stdout",
          "text": [
            "with:   \t0.07999999821186066%\n",
            "[UNK]:   \t0.07000000029802322%\n",
            "dominate:   \t0.07000000029802322%\n",
            ".:   \t0.07000000029802322%\n",
            "enhance:   \t0.07000000029802322%\n",
            "--------\n",
            "\n"
          ]
        },
        {
          "output_type": "display_data",
          "data": {
            "text/plain": [
              "<IPython.core.display.HTML object>"
            ],
            "text/html": [
              "<span style=\"background-color:rgba(135,206,250,0.18796073);\">wine</span> <span style=\"background-color:rgba(135,206,250,0.15508199);\">review</span> <span style=\"background-color:rgba(135,206,250,0.057128802);\">:</span> <span style=\"background-color:rgba(135,206,250,0.10940489);\">italy</span> <span style=\"background-color:rgba(135,206,250,0.28251743);\">component</span> <span style=\"background-color:rgba(135,206,250,0.23160459);\">monster</span> <span style=\"background-color:rgba(135,206,250,0.21660708);\">week</span> <span style=\"background-color:rgba(135,206,250,0.15255122);\">preserving</span> <span style=\"background-color:rgba(135,206,250,0.16573463);\">lightweight</span> <span style=\"background-color:rgba(135,206,250,0.08175878);\">macerated</span> <span style=\"background-color:rgba(135,206,250,0.08238367);\">lithe</span> <span style=\"background-color:rgba(135,206,250,0.07398894);\">outside</span> <span style=\"background-color:rgba(135,206,250,0.067746);\">handful</span> <span style=\"background-color:rgba(135,206,250,0.07930831);\">chubby</span> <span style=\"background-color:rgba(135,206,250,0.0370222);\">wimpy</span> <span style=\"background-color:rgba(135,206,250,0.016808014);\">find</span> <span style=\"background-color:rgba(135,206,250,0.021866731);\">jammy</span> <span style=\"background-color:rgba(135,206,250,0.055301562);\">resembling</span> <span style=\"background-color:rgba(135,206,250,0.038489126);\">wilson</span> <span style=\"background-color:rgba(135,206,250,0.050922036);\">champagnes</span> <span style=\"background-color:rgba(135,206,250,0.022205956);\">nebbiolo</span> <span style=\"background-color:rgba(135,206,250,0.0456698);\">spends</span> <span style=\"background-color:rgba(135,206,250,0.04640359);\">Štajerska</span> <span style=\"background-color:rgba(135,206,250,0.12951773);\">prisoners</span> <span style=\"background-color:rgba(135,206,250,0.03349829);\">milky</span> <span style=\"background-color:rgba(135,206,250,0.03951238);\">until</span> <span style=\"background-color:rgba(135,206,250,0.109255165);\">tiring</span> <span style=\"background-color:rgba(135,206,250,0.059004083);\">waves</span> <span style=\"background-color:rgba(135,206,250,0.060643412);\">as</span> <span style=\"background-color:rgba(135,206,250,0.06772072);\">herb</span> <span style=\"background-color:rgba(135,206,250,0.07131353);\">base</span> <span style=\"background-color:rgba(135,206,250,0.19407402);\">conner</span> <span style=\"background-color:rgba(135,206,250,0.081474654);\">buttercream</span> <span style=\"background-color:rgba(135,206,250,0.09813618);\">expected</span> <span style=\"background-color:rgba(135,206,250,0.08248802);\">heavier</span> <span style=\"background-color:rgba(135,206,250,0.114670366);\">serve</span> <span style=\"background-color:rgba(135,206,250,0.1556869);\">grab</span> <span style=\"background-color:rgba(135,206,250,0.22995698);\">dough</span> <span style=\"background-color:rgba(135,206,250,0.22033153);\">those</span> <span style=\"background-color:rgba(135,206,250,0.28145987);\">japanese</span> <span style=\"background-color:rgba(135,206,250,0.22145899);\">24</span> <span style=\"background-color:rgba(135,206,250,1.0);\">carpentry</span> <span style=\"background-color:rgba(135,206,250,0.41553164);\">margherita</span> <span style=\"background-color:rgba(135,206,250,0.18329734);\">grow</span>"
            ]
          },
          "metadata": {}
        },
        {
          "output_type": "stream",
          "name": "stdout",
          "text": [
            "the:   \t0.17000000178813934%\n",
            "on:   \t0.1599999964237213%\n",
            "in:   \t0.14000000059604645%\n",
            "a:   \t0.14000000059604645%\n",
            "up:   \t0.12999999523162842%\n",
            "--------\n",
            "\n"
          ]
        },
        {
          "output_type": "display_data",
          "data": {
            "text/plain": [
              "<IPython.core.display.HTML object>"
            ],
            "text/html": [
              "<span style=\"background-color:rgba(135,206,250,0.025912054);\">wine</span> <span style=\"background-color:rgba(135,206,250,0.07042491);\">review</span> <span style=\"background-color:rgba(135,206,250,0.012407026);\">:</span> <span style=\"background-color:rgba(135,206,250,0.07893552);\">italy</span> <span style=\"background-color:rgba(135,206,250,0.06271304);\">component</span> <span style=\"background-color:rgba(135,206,250,0.07705336);\">monster</span> <span style=\"background-color:rgba(135,206,250,0.12349493);\">week</span> <span style=\"background-color:rgba(135,206,250,0.074183404);\">preserving</span> <span style=\"background-color:rgba(135,206,250,0.06521072);\">lightweight</span> <span style=\"background-color:rgba(135,206,250,0.036006987);\">macerated</span> <span style=\"background-color:rgba(135,206,250,0.019706596);\">lithe</span> <span style=\"background-color:rgba(135,206,250,0.025065282);\">outside</span> <span style=\"background-color:rgba(135,206,250,0.04051204);\">handful</span> <span style=\"background-color:rgba(135,206,250,0.029497229);\">chubby</span> <span style=\"background-color:rgba(135,206,250,0.03497819);\">wimpy</span> <span style=\"background-color:rgba(135,206,250,0.014766924);\">find</span> <span style=\"background-color:rgba(135,206,250,0.011365898);\">jammy</span> <span style=\"background-color:rgba(135,206,250,0.043606292);\">resembling</span> <span style=\"background-color:rgba(135,206,250,0.01992397);\">wilson</span> <span style=\"background-color:rgba(135,206,250,0.018637387);\">champagnes</span> <span style=\"background-color:rgba(135,206,250,0.00777246);\">nebbiolo</span> <span style=\"background-color:rgba(135,206,250,0.02716928);\">spends</span> <span style=\"background-color:rgba(135,206,250,0.02699751);\">Štajerska</span> <span style=\"background-color:rgba(135,206,250,0.13151753);\">prisoners</span> <span style=\"background-color:rgba(135,206,250,0.01863775);\">milky</span> <span style=\"background-color:rgba(135,206,250,0.017616669);\">until</span> <span style=\"background-color:rgba(135,206,250,0.04254166);\">tiring</span> <span style=\"background-color:rgba(135,206,250,0.034822498);\">waves</span> <span style=\"background-color:rgba(135,206,250,0.0073167034);\">as</span> <span style=\"background-color:rgba(135,206,250,0.018189041);\">herb</span> <span style=\"background-color:rgba(135,206,250,0.04675047);\">base</span> <span style=\"background-color:rgba(135,206,250,0.052913975);\">conner</span> <span style=\"background-color:rgba(135,206,250,0.038577702);\">buttercream</span> <span style=\"background-color:rgba(135,206,250,0.040682934);\">expected</span> <span style=\"background-color:rgba(135,206,250,0.06890854);\">heavier</span> <span style=\"background-color:rgba(135,206,250,0.07992369);\">serve</span> <span style=\"background-color:rgba(135,206,250,0.074206606);\">grab</span> <span style=\"background-color:rgba(135,206,250,0.08802596);\">dough</span> <span style=\"background-color:rgba(135,206,250,0.12019126);\">those</span> <span style=\"background-color:rgba(135,206,250,0.108097754);\">japanese</span> <span style=\"background-color:rgba(135,206,250,0.16284852);\">24</span> <span style=\"background-color:rgba(135,206,250,0.3793996);\">carpentry</span> <span style=\"background-color:rgba(135,206,250,0.38985753);\">margherita</span> <span style=\"background-color:rgba(135,206,250,1.0);\">grow</span> <span style=\"background-color:rgba(135,206,250,0.10908048);\">cocoa</span>"
            ]
          },
          "metadata": {}
        },
        {
          "output_type": "stream",
          "name": "stdout",
          "text": [
            "on:   \t0.1899999976158142%\n",
            ".:   \t0.18000000715255737%\n",
            "powder:   \t0.1599999964237213%\n",
            "and:   \t0.14000000059604645%\n",
            "in:   \t0.14000000059604645%\n",
            "--------\n",
            "\n"
          ]
        },
        {
          "output_type": "display_data",
          "data": {
            "text/plain": [
              "<IPython.core.display.HTML object>"
            ],
            "text/html": [
              "<span style=\"background-color:rgba(135,206,250,0.04687187);\">wine</span> <span style=\"background-color:rgba(135,206,250,0.08803078);\">review</span> <span style=\"background-color:rgba(135,206,250,0.021626087);\">:</span> <span style=\"background-color:rgba(135,206,250,0.09356359);\">italy</span> <span style=\"background-color:rgba(135,206,250,0.06398771);\">component</span> <span style=\"background-color:rgba(135,206,250,0.116936706);\">monster</span> <span style=\"background-color:rgba(135,206,250,0.12288379);\">week</span> <span style=\"background-color:rgba(135,206,250,0.06753997);\">preserving</span> <span style=\"background-color:rgba(135,206,250,0.08776644);\">lightweight</span> <span style=\"background-color:rgba(135,206,250,0.037476167);\">macerated</span> <span style=\"background-color:rgba(135,206,250,0.029095244);\">lithe</span> <span style=\"background-color:rgba(135,206,250,0.03142387);\">outside</span> <span style=\"background-color:rgba(135,206,250,0.03695702);\">handful</span> <span style=\"background-color:rgba(135,206,250,0.04603466);\">chubby</span> <span style=\"background-color:rgba(135,206,250,0.037162565);\">wimpy</span> <span style=\"background-color:rgba(135,206,250,0.01553044);\">find</span> <span style=\"background-color:rgba(135,206,250,0.0140169645);\">jammy</span> <span style=\"background-color:rgba(135,206,250,0.047302995);\">resembling</span> <span style=\"background-color:rgba(135,206,250,0.027447645);\">wilson</span> <span style=\"background-color:rgba(135,206,250,0.029043375);\">champagnes</span> <span style=\"background-color:rgba(135,206,250,0.013625779);\">nebbiolo</span> <span style=\"background-color:rgba(135,206,250,0.021110663);\">spends</span> <span style=\"background-color:rgba(135,206,250,0.033392597);\">Štajerska</span> <span style=\"background-color:rgba(135,206,250,0.122364976);\">prisoners</span> <span style=\"background-color:rgba(135,206,250,0.02461781);\">milky</span> <span style=\"background-color:rgba(135,206,250,0.020679444);\">until</span> <span style=\"background-color:rgba(135,206,250,0.05046309);\">tiring</span> <span style=\"background-color:rgba(135,206,250,0.038103275);\">waves</span> <span style=\"background-color:rgba(135,206,250,0.015170576);\">as</span> <span style=\"background-color:rgba(135,206,250,0.02993136);\">herb</span> <span style=\"background-color:rgba(135,206,250,0.042775307);\">base</span> <span style=\"background-color:rgba(135,206,250,0.065801784);\">conner</span> <span style=\"background-color:rgba(135,206,250,0.048311714);\">buttercream</span> <span style=\"background-color:rgba(135,206,250,0.048550695);\">expected</span> <span style=\"background-color:rgba(135,206,250,0.06559923);\">heavier</span> <span style=\"background-color:rgba(135,206,250,0.124077514);\">serve</span> <span style=\"background-color:rgba(135,206,250,0.09954254);\">grab</span> <span style=\"background-color:rgba(135,206,250,0.087885864);\">dough</span> <span style=\"background-color:rgba(135,206,250,0.19772397);\">those</span> <span style=\"background-color:rgba(135,206,250,0.12911962);\">japanese</span> <span style=\"background-color:rgba(135,206,250,0.13879256);\">24</span> <span style=\"background-color:rgba(135,206,250,0.33144364);\">carpentry</span> <span style=\"background-color:rgba(135,206,250,0.22511604);\">margherita</span> <span style=\"background-color:rgba(135,206,250,1.0);\">grow</span> <span style=\"background-color:rgba(135,206,250,0.25573617);\">cocoa</span> <span style=\"background-color:rgba(135,206,250,0.1938858);\">raisiny</span>"
            ]
          },
          "metadata": {}
        },
        {
          "output_type": "stream",
          "name": "stdout",
          "text": [
            ".:   \t0.18000000715255737%\n",
            "fruit:   \t0.1599999964237213%\n",
            "on:   \t0.15000000596046448%\n",
            "flavors:   \t0.12999999523162842%\n",
            "notes:   \t0.11999999731779099%\n",
            "--------\n",
            "\n"
          ]
        },
        {
          "output_type": "display_data",
          "data": {
            "text/plain": [
              "<IPython.core.display.HTML object>"
            ],
            "text/html": [
              "<span style=\"background-color:rgba(135,206,250,0.34660956);\">wine</span> <span style=\"background-color:rgba(135,206,250,0.31718495);\">review</span> <span style=\"background-color:rgba(135,206,250,0.22765873);\">:</span> <span style=\"background-color:rgba(135,206,250,0.41528106);\">italy</span> <span style=\"background-color:rgba(135,206,250,0.47404325);\">component</span> <span style=\"background-color:rgba(135,206,250,0.3755432);\">monster</span> <span style=\"background-color:rgba(135,206,250,0.31136885);\">week</span> <span style=\"background-color:rgba(135,206,250,0.31684646);\">preserving</span> <span style=\"background-color:rgba(135,206,250,0.1763047);\">lightweight</span> <span style=\"background-color:rgba(135,206,250,0.04947059);\">macerated</span> <span style=\"background-color:rgba(135,206,250,0.06831474);\">lithe</span> <span style=\"background-color:rgba(135,206,250,0.16099544);\">outside</span> <span style=\"background-color:rgba(135,206,250,0.18074436);\">handful</span> <span style=\"background-color:rgba(135,206,250,0.11020491);\">chubby</span> <span style=\"background-color:rgba(135,206,250,0.068462245);\">wimpy</span> <span style=\"background-color:rgba(135,206,250,0.039438494);\">find</span> <span style=\"background-color:rgba(135,206,250,0.034931082);\">jammy</span> <span style=\"background-color:rgba(135,206,250,0.09915014);\">resembling</span> <span style=\"background-color:rgba(135,206,250,0.037904073);\">wilson</span> <span style=\"background-color:rgba(135,206,250,0.049077503);\">champagnes</span> <span style=\"background-color:rgba(135,206,250,0.024095159);\">nebbiolo</span> <span style=\"background-color:rgba(135,206,250,0.067062736);\">spends</span> <span style=\"background-color:rgba(135,206,250,0.063282855);\">Štajerska</span> <span style=\"background-color:rgba(135,206,250,0.1577719);\">prisoners</span> <span style=\"background-color:rgba(135,206,250,0.04376756);\">milky</span> <span style=\"background-color:rgba(135,206,250,0.05088835);\">until</span> <span style=\"background-color:rgba(135,206,250,0.11694948);\">tiring</span> <span style=\"background-color:rgba(135,206,250,0.07471168);\">waves</span> <span style=\"background-color:rgba(135,206,250,0.060257748);\">as</span> <span style=\"background-color:rgba(135,206,250,0.08955446);\">herb</span> <span style=\"background-color:rgba(135,206,250,0.086176924);\">base</span> <span style=\"background-color:rgba(135,206,250,0.20762713);\">conner</span> <span style=\"background-color:rgba(135,206,250,0.075819276);\">buttercream</span> <span style=\"background-color:rgba(135,206,250,0.10426512);\">expected</span> <span style=\"background-color:rgba(135,206,250,0.119698256);\">heavier</span> <span style=\"background-color:rgba(135,206,250,0.20231192);\">serve</span> <span style=\"background-color:rgba(135,206,250,0.17161544);\">grab</span> <span style=\"background-color:rgba(135,206,250,0.23435295);\">dough</span> <span style=\"background-color:rgba(135,206,250,0.20354587);\">those</span> <span style=\"background-color:rgba(135,206,250,0.24392828);\">japanese</span> <span style=\"background-color:rgba(135,206,250,0.13843204);\">24</span> <span style=\"background-color:rgba(135,206,250,1.0);\">carpentry</span> <span style=\"background-color:rgba(135,206,250,0.48767912);\">margherita</span> <span style=\"background-color:rgba(135,206,250,0.54540217);\">grow</span> <span style=\"background-color:rgba(135,206,250,0.2977521);\">cocoa</span> <span style=\"background-color:rgba(135,206,250,0.3426792);\">raisiny</span> <span style=\"background-color:rgba(135,206,250,0.5072062);\">explodes</span>"
            ]
          },
          "metadata": {}
        },
        {
          "output_type": "stream",
          "name": "stdout",
          "text": [
            "with:   \t0.38999998569488525%\n",
            "on:   \t0.27000001072883606%\n",
            "into:   \t0.25%\n",
            "in:   \t0.23000000417232513%\n",
            "out:   \t0.18000000715255737%\n",
            "--------\n",
            "\n"
          ]
        },
        {
          "output_type": "display_data",
          "data": {
            "text/plain": [
              "<IPython.core.display.HTML object>"
            ],
            "text/html": [
              "<span style=\"background-color:rgba(135,206,250,0.12487617);\">wine</span> <span style=\"background-color:rgba(135,206,250,0.20777664);\">review</span> <span style=\"background-color:rgba(135,206,250,0.029330285);\">:</span> <span style=\"background-color:rgba(135,206,250,0.09059874);\">italy</span> <span style=\"background-color:rgba(135,206,250,0.18778771);\">component</span> <span style=\"background-color:rgba(135,206,250,0.218354);\">monster</span> <span style=\"background-color:rgba(135,206,250,0.31664914);\">week</span> <span style=\"background-color:rgba(135,206,250,0.27019244);\">preserving</span> <span style=\"background-color:rgba(135,206,250,0.12478846);\">lightweight</span> <span style=\"background-color:rgba(135,206,250,0.09433284);\">macerated</span> <span style=\"background-color:rgba(135,206,250,0.07389902);\">lithe</span> <span style=\"background-color:rgba(135,206,250,0.07527918);\">outside</span> <span style=\"background-color:rgba(135,206,250,0.08618851);\">handful</span> <span style=\"background-color:rgba(135,206,250,0.08104286);\">chubby</span> <span style=\"background-color:rgba(135,206,250,0.028228639);\">wimpy</span> <span style=\"background-color:rgba(135,206,250,0.02042574);\">find</span> <span style=\"background-color:rgba(135,206,250,0.0120541155);\">jammy</span> <span style=\"background-color:rgba(135,206,250,0.066038534);\">resembling</span> <span style=\"background-color:rgba(135,206,250,0.04538741);\">wilson</span> <span style=\"background-color:rgba(135,206,250,0.050148062);\">champagnes</span> <span style=\"background-color:rgba(135,206,250,0.015630387);\">nebbiolo</span> <span style=\"background-color:rgba(135,206,250,0.08675796);\">spends</span> <span style=\"background-color:rgba(135,206,250,0.039423637);\">Štajerska</span> <span style=\"background-color:rgba(135,206,250,0.09253854);\">prisoners</span> <span style=\"background-color:rgba(135,206,250,0.04056805);\">milky</span> <span style=\"background-color:rgba(135,206,250,0.03135025);\">until</span> <span style=\"background-color:rgba(135,206,250,0.09731342);\">tiring</span> <span style=\"background-color:rgba(135,206,250,0.07528236);\">waves</span> <span style=\"background-color:rgba(135,206,250,0.034846526);\">as</span> <span style=\"background-color:rgba(135,206,250,0.04246525);\">herb</span> <span style=\"background-color:rgba(135,206,250,0.051950965);\">base</span> <span style=\"background-color:rgba(135,206,250,0.17364192);\">conner</span> <span style=\"background-color:rgba(135,206,250,0.07063399);\">buttercream</span> <span style=\"background-color:rgba(135,206,250,0.10226282);\">expected</span> <span style=\"background-color:rgba(135,206,250,0.08583017);\">heavier</span> <span style=\"background-color:rgba(135,206,250,0.1444587);\">serve</span> <span style=\"background-color:rgba(135,206,250,0.15536039);\">grab</span> <span style=\"background-color:rgba(135,206,250,0.13435455);\">dough</span> <span style=\"background-color:rgba(135,206,250,0.14497131);\">those</span> <span style=\"background-color:rgba(135,206,250,0.29279464);\">japanese</span> <span style=\"background-color:rgba(135,206,250,0.13096938);\">24</span> <span style=\"background-color:rgba(135,206,250,0.72326833);\">carpentry</span> <span style=\"background-color:rgba(135,206,250,0.24516122);\">margherita</span> <span style=\"background-color:rgba(135,206,250,0.6836803);\">grow</span> <span style=\"background-color:rgba(135,206,250,0.28974);\">cocoa</span> <span style=\"background-color:rgba(135,206,250,0.35081178);\">raisiny</span> <span style=\"background-color:rgba(135,206,250,1.0);\">explodes</span> <span style=\"background-color:rgba(135,206,250,0.27174696);\">suit</span>"
            ]
          },
          "metadata": {}
        },
        {
          "output_type": "stream",
          "name": "stdout",
          "text": [
            ".:   \t0.25999999046325684%\n",
            "with:   \t0.20999999344348907%\n",
            "on:   \t0.18000000715255737%\n",
            "the:   \t0.17000000178813934%\n",
            ",:   \t0.15000000596046448%\n",
            "--------\n",
            "\n"
          ]
        },
        {
          "output_type": "display_data",
          "data": {
            "text/plain": [
              "<IPython.core.display.HTML object>"
            ],
            "text/html": [
              "<span style=\"background-color:rgba(135,206,250,0.1746699);\">wine</span> <span style=\"background-color:rgba(135,206,250,0.19591509);\">review</span> <span style=\"background-color:rgba(135,206,250,0.106835485);\">:</span> <span style=\"background-color:rgba(135,206,250,0.17462191);\">italy</span> <span style=\"background-color:rgba(135,206,250,0.41174385);\">component</span> <span style=\"background-color:rgba(135,206,250,0.15710145);\">monster</span> <span style=\"background-color:rgba(135,206,250,0.121805064);\">week</span> <span style=\"background-color:rgba(135,206,250,0.10269599);\">preserving</span> <span style=\"background-color:rgba(135,206,250,0.06206932);\">lightweight</span> <span style=\"background-color:rgba(135,206,250,0.017632965);\">macerated</span> <span style=\"background-color:rgba(135,206,250,0.015840197);\">lithe</span> <span style=\"background-color:rgba(135,206,250,0.052641734);\">outside</span> <span style=\"background-color:rgba(135,206,250,0.03853442);\">handful</span> <span style=\"background-color:rgba(135,206,250,0.045145694);\">chubby</span> <span style=\"background-color:rgba(135,206,250,0.014840515);\">wimpy</span> <span style=\"background-color:rgba(135,206,250,0.014503232);\">find</span> <span style=\"background-color:rgba(135,206,250,0.01174526);\">jammy</span> <span style=\"background-color:rgba(135,206,250,0.033342976);\">resembling</span> <span style=\"background-color:rgba(135,206,250,0.018333564);\">wilson</span> <span style=\"background-color:rgba(135,206,250,0.01569144);\">champagnes</span> <span style=\"background-color:rgba(135,206,250,0.017202688);\">nebbiolo</span> <span style=\"background-color:rgba(135,206,250,0.023891022);\">spends</span> <span style=\"background-color:rgba(135,206,250,0.043309517);\">Štajerska</span> <span style=\"background-color:rgba(135,206,250,0.056633607);\">prisoners</span> <span style=\"background-color:rgba(135,206,250,0.015518271);\">milky</span> <span style=\"background-color:rgba(135,206,250,0.014946342);\">until</span> <span style=\"background-color:rgba(135,206,250,0.049097266);\">tiring</span> <span style=\"background-color:rgba(135,206,250,0.037886932);\">waves</span> <span style=\"background-color:rgba(135,206,250,0.016985616);\">as</span> <span style=\"background-color:rgba(135,206,250,0.050448835);\">herb</span> <span style=\"background-color:rgba(135,206,250,0.028410988);\">base</span> <span style=\"background-color:rgba(135,206,250,0.09301603);\">conner</span> <span style=\"background-color:rgba(135,206,250,0.033420842);\">buttercream</span> <span style=\"background-color:rgba(135,206,250,0.032120723);\">expected</span> <span style=\"background-color:rgba(135,206,250,0.040200535);\">heavier</span> <span style=\"background-color:rgba(135,206,250,0.064059384);\">serve</span> <span style=\"background-color:rgba(135,206,250,0.036514018);\">grab</span> <span style=\"background-color:rgba(135,206,250,0.09008709);\">dough</span> <span style=\"background-color:rgba(135,206,250,0.0706331);\">those</span> <span style=\"background-color:rgba(135,206,250,0.079319);\">japanese</span> <span style=\"background-color:rgba(135,206,250,0.027177846);\">24</span> <span style=\"background-color:rgba(135,206,250,0.4755901);\">carpentry</span> <span style=\"background-color:rgba(135,206,250,0.09713417);\">margherita</span> <span style=\"background-color:rgba(135,206,250,0.1100186);\">grow</span> <span style=\"background-color:rgba(135,206,250,0.09048911);\">cocoa</span> <span style=\"background-color:rgba(135,206,250,0.13745815);\">raisiny</span> <span style=\"background-color:rgba(135,206,250,0.10742293);\">explodes</span> <span style=\"background-color:rgba(135,206,250,0.20756383);\">suit</span> <span style=\"background-color:rgba(135,206,250,1.0);\">rex</span>"
            ]
          },
          "metadata": {}
        },
        {
          "output_type": "stream",
          "name": "stdout",
          "text": [
            "bordeaux:   \t0.14000000059604645%\n",
            "merlot:   \t0.09000000357627869%\n",
            "[UNK]:   \t0.09000000357627869%\n",
            "cabernet:   \t0.09000000357627869%\n",
            "sauvignon:   \t0.09000000357627869%\n",
            "--------\n",
            "\n"
          ]
        },
        {
          "output_type": "display_data",
          "data": {
            "text/plain": [
              "<IPython.core.display.HTML object>"
            ],
            "text/html": [
              "<span style=\"background-color:rgba(135,206,250,0.68517023);\">wine</span> <span style=\"background-color:rgba(135,206,250,0.5680041);\">review</span> <span style=\"background-color:rgba(135,206,250,0.2785888);\">:</span> <span style=\"background-color:rgba(135,206,250,0.48656103);\">italy</span> <span style=\"background-color:rgba(135,206,250,0.63346994);\">component</span> <span style=\"background-color:rgba(135,206,250,0.47011822);\">monster</span> <span style=\"background-color:rgba(135,206,250,0.45477167);\">week</span> <span style=\"background-color:rgba(135,206,250,0.6531931);\">preserving</span> <span style=\"background-color:rgba(135,206,250,0.3010417);\">lightweight</span> <span style=\"background-color:rgba(135,206,250,0.17695509);\">macerated</span> <span style=\"background-color:rgba(135,206,250,0.104538456);\">lithe</span> <span style=\"background-color:rgba(135,206,250,0.23561771);\">outside</span> <span style=\"background-color:rgba(135,206,250,0.22792755);\">handful</span> <span style=\"background-color:rgba(135,206,250,0.20160225);\">chubby</span> <span style=\"background-color:rgba(135,206,250,0.0903347);\">wimpy</span> <span style=\"background-color:rgba(135,206,250,0.15308562);\">find</span> <span style=\"background-color:rgba(135,206,250,0.05871072);\">jammy</span> <span style=\"background-color:rgba(135,206,250,0.16980048);\">resembling</span> <span style=\"background-color:rgba(135,206,250,0.06989157);\">wilson</span> <span style=\"background-color:rgba(135,206,250,0.08257191);\">champagnes</span> <span style=\"background-color:rgba(135,206,250,0.04238153);\">nebbiolo</span> <span style=\"background-color:rgba(135,206,250,0.20171906);\">spends</span> <span style=\"background-color:rgba(135,206,250,0.0907385);\">Štajerska</span> <span style=\"background-color:rgba(135,206,250,0.11292493);\">prisoners</span> <span style=\"background-color:rgba(135,206,250,0.051096313);\">milky</span> <span style=\"background-color:rgba(135,206,250,0.10011578);\">until</span> <span style=\"background-color:rgba(135,206,250,0.16750479);\">tiring</span> <span style=\"background-color:rgba(135,206,250,0.14997324);\">waves</span> <span style=\"background-color:rgba(135,206,250,0.124858886);\">as</span> <span style=\"background-color:rgba(135,206,250,0.09779139);\">herb</span> <span style=\"background-color:rgba(135,206,250,0.113099895);\">base</span> <span style=\"background-color:rgba(135,206,250,0.18891151);\">conner</span> <span style=\"background-color:rgba(135,206,250,0.08390713);\">buttercream</span> <span style=\"background-color:rgba(135,206,250,0.12985662);\">expected</span> <span style=\"background-color:rgba(135,206,250,0.14410904);\">heavier</span> <span style=\"background-color:rgba(135,206,250,0.21283457);\">serve</span> <span style=\"background-color:rgba(135,206,250,0.14502314);\">grab</span> <span style=\"background-color:rgba(135,206,250,0.22980495);\">dough</span> <span style=\"background-color:rgba(135,206,250,0.26547596);\">those</span> <span style=\"background-color:rgba(135,206,250,0.17163542);\">japanese</span> <span style=\"background-color:rgba(135,206,250,0.14320637);\">24</span> <span style=\"background-color:rgba(135,206,250,0.5656501);\">carpentry</span> <span style=\"background-color:rgba(135,206,250,0.19660361);\">margherita</span> <span style=\"background-color:rgba(135,206,250,0.4380762);\">grow</span> <span style=\"background-color:rgba(135,206,250,0.20070674);\">cocoa</span> <span style=\"background-color:rgba(135,206,250,0.291671);\">raisiny</span> <span style=\"background-color:rgba(135,206,250,0.41603097);\">explodes</span> <span style=\"background-color:rgba(135,206,250,0.30799967);\">suit</span> <span style=\"background-color:rgba(135,206,250,1.0);\">rex</span> <span style=\"background-color:rgba(135,206,250,0.77179563);\">dalla</span>"
            ]
          },
          "metadata": {}
        },
        {
          "output_type": "stream",
          "name": "stdout",
          "text": [
            ".:   \t0.10999999940395355%\n",
            "cabernet:   \t0.10000000149011612%\n",
            "tannat:   \t0.10000000149011612%\n",
            "[UNK]:   \t0.10000000149011612%\n",
            "merlot:   \t0.09000000357627869%\n",
            "--------\n",
            "\n"
          ]
        },
        {
          "output_type": "display_data",
          "data": {
            "text/plain": [
              "<IPython.core.display.HTML object>"
            ],
            "text/html": [
              "<span style=\"background-color:rgba(135,206,250,0.030455375);\">wine</span> <span style=\"background-color:rgba(135,206,250,0.07119323);\">review</span> <span style=\"background-color:rgba(135,206,250,0.014562435);\">:</span> <span style=\"background-color:rgba(135,206,250,0.06253665);\">italy</span> <span style=\"background-color:rgba(135,206,250,0.077343605);\">component</span> <span style=\"background-color:rgba(135,206,250,0.076292306);\">monster</span> <span style=\"background-color:rgba(135,206,250,0.05239852);\">week</span> <span style=\"background-color:rgba(135,206,250,0.09295826);\">preserving</span> <span style=\"background-color:rgba(135,206,250,0.055571765);\">lightweight</span> <span style=\"background-color:rgba(135,206,250,0.026822392);\">macerated</span> <span style=\"background-color:rgba(135,206,250,0.024773682);\">lithe</span> <span style=\"background-color:rgba(135,206,250,0.044283886);\">outside</span> <span style=\"background-color:rgba(135,206,250,0.03875415);\">handful</span> <span style=\"background-color:rgba(135,206,250,0.019952642);\">chubby</span> <span style=\"background-color:rgba(135,206,250,0.018976629);\">wimpy</span> <span style=\"background-color:rgba(135,206,250,0.014384373);\">find</span> <span style=\"background-color:rgba(135,206,250,0.008097399);\">jammy</span> <span style=\"background-color:rgba(135,206,250,0.04617319);\">resembling</span> <span style=\"background-color:rgba(135,206,250,0.014412999);\">wilson</span> <span style=\"background-color:rgba(135,206,250,0.027454196);\">champagnes</span> <span style=\"background-color:rgba(135,206,250,0.0083503425);\">nebbiolo</span> <span style=\"background-color:rgba(135,206,250,0.020717861);\">spends</span> <span style=\"background-color:rgba(135,206,250,0.028114278);\">Štajerska</span> <span style=\"background-color:rgba(135,206,250,0.061311834);\">prisoners</span> <span style=\"background-color:rgba(135,206,250,0.010946089);\">milky</span> <span style=\"background-color:rgba(135,206,250,0.01581317);\">until</span> <span style=\"background-color:rgba(135,206,250,0.031973965);\">tiring</span> <span style=\"background-color:rgba(135,206,250,0.026325045);\">waves</span> <span style=\"background-color:rgba(135,206,250,0.008094604);\">as</span> <span style=\"background-color:rgba(135,206,250,0.02038232);\">herb</span> <span style=\"background-color:rgba(135,206,250,0.02628547);\">base</span> <span style=\"background-color:rgba(135,206,250,0.030665213);\">conner</span> <span style=\"background-color:rgba(135,206,250,0.031533994);\">buttercream</span> <span style=\"background-color:rgba(135,206,250,0.036463283);\">expected</span> <span style=\"background-color:rgba(135,206,250,0.03445772);\">heavier</span> <span style=\"background-color:rgba(135,206,250,0.051857617);\">serve</span> <span style=\"background-color:rgba(135,206,250,0.050777297);\">grab</span> <span style=\"background-color:rgba(135,206,250,0.04436912);\">dough</span> <span style=\"background-color:rgba(135,206,250,0.042686917);\">those</span> <span style=\"background-color:rgba(135,206,250,0.032050263);\">japanese</span> <span style=\"background-color:rgba(135,206,250,0.050743096);\">24</span> <span style=\"background-color:rgba(135,206,250,0.11230271);\">carpentry</span> <span style=\"background-color:rgba(135,206,250,0.11366623);\">margherita</span> <span style=\"background-color:rgba(135,206,250,0.1368515);\">grow</span> <span style=\"background-color:rgba(135,206,250,0.07964493);\">cocoa</span> <span style=\"background-color:rgba(135,206,250,0.08536288);\">raisiny</span> <span style=\"background-color:rgba(135,206,250,0.18208203);\">explodes</span> <span style=\"background-color:rgba(135,206,250,0.16434534);\">suit</span> <span style=\"background-color:rgba(135,206,250,0.7227958);\">rex</span> <span style=\"background-color:rgba(135,206,250,1.0);\">dalla</span> <span style=\"background-color:rgba(135,206,250,0.083317965);\">cloying</span>"
            ]
          },
          "metadata": {}
        },
        {
          "output_type": "stream",
          "name": "stdout",
          "text": [
            ".:   \t0.2800000011920929%\n",
            "on:   \t0.14000000059604645%\n",
            ",:   \t0.11999999731779099%\n",
            "palate:   \t0.11999999731779099%\n",
            "in:   \t0.10999999940395355%\n",
            "--------\n",
            "\n"
          ]
        },
        {
          "output_type": "display_data",
          "data": {
            "text/plain": [
              "<IPython.core.display.HTML object>"
            ],
            "text/html": [
              "<span style=\"background-color:rgba(135,206,250,0.039426118);\">wine</span> <span style=\"background-color:rgba(135,206,250,0.062416736);\">review</span> <span style=\"background-color:rgba(135,206,250,0.024750907);\">:</span> <span style=\"background-color:rgba(135,206,250,0.082199186);\">italy</span> <span style=\"background-color:rgba(135,206,250,0.14004184);\">component</span> <span style=\"background-color:rgba(135,206,250,0.17537378);\">monster</span> <span style=\"background-color:rgba(135,206,250,0.16906564);\">week</span> <span style=\"background-color:rgba(135,206,250,0.15413807);\">preserving</span> <span style=\"background-color:rgba(135,206,250,0.078958854);\">lightweight</span> <span style=\"background-color:rgba(135,206,250,0.07850185);\">macerated</span> <span style=\"background-color:rgba(135,206,250,0.03562694);\">lithe</span> <span style=\"background-color:rgba(135,206,250,0.051167835);\">outside</span> <span style=\"background-color:rgba(135,206,250,0.02808213);\">handful</span> <span style=\"background-color:rgba(135,206,250,0.06150542);\">chubby</span> <span style=\"background-color:rgba(135,206,250,0.04956783);\">wimpy</span> <span style=\"background-color:rgba(135,206,250,0.020934928);\">find</span> <span style=\"background-color:rgba(135,206,250,0.01051265);\">jammy</span> <span style=\"background-color:rgba(135,206,250,0.042372264);\">resembling</span> <span style=\"background-color:rgba(135,206,250,0.023376003);\">wilson</span> <span style=\"background-color:rgba(135,206,250,0.040084977);\">champagnes</span> <span style=\"background-color:rgba(135,206,250,0.008875783);\">nebbiolo</span> <span style=\"background-color:rgba(135,206,250,0.028416619);\">spends</span> <span style=\"background-color:rgba(135,206,250,0.03364311);\">Štajerska</span> <span style=\"background-color:rgba(135,206,250,0.04308761);\">prisoners</span> <span style=\"background-color:rgba(135,206,250,0.012004766);\">milky</span> <span style=\"background-color:rgba(135,206,250,0.011006414);\">until</span> <span style=\"background-color:rgba(135,206,250,0.044101372);\">tiring</span> <span style=\"background-color:rgba(135,206,250,0.05206113);\">waves</span> <span style=\"background-color:rgba(135,206,250,0.010018222);\">as</span> <span style=\"background-color:rgba(135,206,250,0.018910024);\">herb</span> <span style=\"background-color:rgba(135,206,250,0.031915467);\">base</span> <span style=\"background-color:rgba(135,206,250,0.043955013);\">conner</span> <span style=\"background-color:rgba(135,206,250,0.015311154);\">buttercream</span> <span style=\"background-color:rgba(135,206,250,0.03417307);\">expected</span> <span style=\"background-color:rgba(135,206,250,0.036275882);\">heavier</span> <span style=\"background-color:rgba(135,206,250,0.060195565);\">serve</span> <span style=\"background-color:rgba(135,206,250,0.047352985);\">grab</span> <span style=\"background-color:rgba(135,206,250,0.039181624);\">dough</span> <span style=\"background-color:rgba(135,206,250,0.06113927);\">those</span> <span style=\"background-color:rgba(135,206,250,0.026635656);\">japanese</span> <span style=\"background-color:rgba(135,206,250,0.040795885);\">24</span> <span style=\"background-color:rgba(135,206,250,0.19902205);\">carpentry</span> <span style=\"background-color:rgba(135,206,250,0.18464705);\">margherita</span> <span style=\"background-color:rgba(135,206,250,0.13678387);\">grow</span> <span style=\"background-color:rgba(135,206,250,0.050635137);\">cocoa</span> <span style=\"background-color:rgba(135,206,250,0.10165036);\">raisiny</span> <span style=\"background-color:rgba(135,206,250,0.2891252);\">explodes</span> <span style=\"background-color:rgba(135,206,250,0.16721143);\">suit</span> <span style=\"background-color:rgba(135,206,250,1.0);\">rex</span> <span style=\"background-color:rgba(135,206,250,0.8974082);\">dalla</span> <span style=\"background-color:rgba(135,206,250,0.14038849);\">cloying</span> <span style=\"background-color:rgba(135,206,250,0.114702605);\">kabinett</span>"
            ]
          },
          "metadata": {}
        },
        {
          "output_type": "stream",
          "name": "stdout",
          "text": [
            ".:   \t0.30000001192092896%\n",
            "on:   \t0.11999999731779099%\n",
            "':   \t0.10999999940395355%\n",
            "with:   \t0.10999999940395355%\n",
            "in:   \t0.10000000149011612%\n",
            "--------\n",
            "\n"
          ]
        },
        {
          "output_type": "display_data",
          "data": {
            "text/plain": [
              "<IPython.core.display.HTML object>"
            ],
            "text/html": [
              "<span style=\"background-color:rgba(135,206,250,0.18351342);\">wine</span> <span style=\"background-color:rgba(135,206,250,0.17254451);\">review</span> <span style=\"background-color:rgba(135,206,250,0.13420604);\">:</span> <span style=\"background-color:rgba(135,206,250,0.1875758);\">italy</span> <span style=\"background-color:rgba(135,206,250,0.3145052);\">component</span> <span style=\"background-color:rgba(135,206,250,0.114740744);\">monster</span> <span style=\"background-color:rgba(135,206,250,0.07962034);\">week</span> <span style=\"background-color:rgba(135,206,250,0.13043192);\">preserving</span> <span style=\"background-color:rgba(135,206,250,0.04983862);\">lightweight</span> <span style=\"background-color:rgba(135,206,250,0.011839481);\">macerated</span> <span style=\"background-color:rgba(135,206,250,0.013727012);\">lithe</span> <span style=\"background-color:rgba(135,206,250,0.09363496);\">outside</span> <span style=\"background-color:rgba(135,206,250,0.07312329);\">handful</span> <span style=\"background-color:rgba(135,206,250,0.04019895);\">chubby</span> <span style=\"background-color:rgba(135,206,250,0.02602069);\">wimpy</span> <span style=\"background-color:rgba(135,206,250,0.02569949);\">find</span> <span style=\"background-color:rgba(135,206,250,0.01562207);\">jammy</span> <span style=\"background-color:rgba(135,206,250,0.062096447);\">resembling</span> <span style=\"background-color:rgba(135,206,250,0.017026212);\">wilson</span> <span style=\"background-color:rgba(135,206,250,0.016863788);\">champagnes</span> <span style=\"background-color:rgba(135,206,250,0.018349202);\">nebbiolo</span> <span style=\"background-color:rgba(135,206,250,0.03320245);\">spends</span> <span style=\"background-color:rgba(135,206,250,0.035433043);\">Štajerska</span> <span style=\"background-color:rgba(135,206,250,0.03924989);\">prisoners</span> <span style=\"background-color:rgba(135,206,250,0.013512729);\">milky</span> <span style=\"background-color:rgba(135,206,250,0.017819181);\">until</span> <span style=\"background-color:rgba(135,206,250,0.042095013);\">tiring</span> <span style=\"background-color:rgba(135,206,250,0.034853894);\">waves</span> <span style=\"background-color:rgba(135,206,250,0.024495924);\">as</span> <span style=\"background-color:rgba(135,206,250,0.03383507);\">herb</span> <span style=\"background-color:rgba(135,206,250,0.028230485);\">base</span> <span style=\"background-color:rgba(135,206,250,0.052456077);\">conner</span> <span style=\"background-color:rgba(135,206,250,0.026984397);\">buttercream</span> <span style=\"background-color:rgba(135,206,250,0.025539154);\">expected</span> <span style=\"background-color:rgba(135,206,250,0.04380676);\">heavier</span> <span style=\"background-color:rgba(135,206,250,0.072125055);\">serve</span> <span style=\"background-color:rgba(135,206,250,0.02927245);\">grab</span> <span style=\"background-color:rgba(135,206,250,0.06285768);\">dough</span> <span style=\"background-color:rgba(135,206,250,0.072252415);\">those</span> <span style=\"background-color:rgba(135,206,250,0.069189645);\">japanese</span> <span style=\"background-color:rgba(135,206,250,0.030971281);\">24</span> <span style=\"background-color:rgba(135,206,250,0.19069968);\">carpentry</span> <span style=\"background-color:rgba(135,206,250,0.07113821);\">margherita</span> <span style=\"background-color:rgba(135,206,250,0.07184495);\">grow</span> <span style=\"background-color:rgba(135,206,250,0.040545847);\">cocoa</span> <span style=\"background-color:rgba(135,206,250,0.063128695);\">raisiny</span> <span style=\"background-color:rgba(135,206,250,0.08757525);\">explodes</span> <span style=\"background-color:rgba(135,206,250,0.10635714);\">suit</span> <span style=\"background-color:rgba(135,206,250,1.0);\">rex</span> <span style=\"background-color:rgba(135,206,250,0.75640696);\">dalla</span> <span style=\"background-color:rgba(135,206,250,0.069388576);\">cloying</span> <span style=\"background-color:rgba(135,206,250,0.2832103);\">kabinett</span> <span style=\"background-color:rgba(135,206,250,0.13295084);\">everywhere</span>"
            ]
          },
          "metadata": {}
        },
        {
          "output_type": "stream",
          "name": "stdout",
          "text": [
            ".:   \t0.3799999952316284%\n",
            "in:   \t0.12999999523162842%\n",
            "on:   \t0.12999999523162842%\n",
            "with:   \t0.11999999731779099%\n",
            "from:   \t0.10000000149011612%\n",
            "--------\n",
            "\n"
          ]
        },
        {
          "output_type": "display_data",
          "data": {
            "text/plain": [
              "<IPython.core.display.HTML object>"
            ],
            "text/html": [
              "<span style=\"background-color:rgba(135,206,250,0.044391673);\">wine</span> <span style=\"background-color:rgba(135,206,250,0.096331716);\">review</span> <span style=\"background-color:rgba(135,206,250,0.016078107);\">:</span> <span style=\"background-color:rgba(135,206,250,0.036381155);\">italy</span> <span style=\"background-color:rgba(135,206,250,0.08335634);\">component</span> <span style=\"background-color:rgba(135,206,250,0.07833765);\">monster</span> <span style=\"background-color:rgba(135,206,250,0.0919788);\">week</span> <span style=\"background-color:rgba(135,206,250,0.06217014);\">preserving</span> <span style=\"background-color:rgba(135,206,250,0.06317029);\">lightweight</span> <span style=\"background-color:rgba(135,206,250,0.0172143);\">macerated</span> <span style=\"background-color:rgba(135,206,250,0.018632606);\">lithe</span> <span style=\"background-color:rgba(135,206,250,0.018317938);\">outside</span> <span style=\"background-color:rgba(135,206,250,0.03307974);\">handful</span> <span style=\"background-color:rgba(135,206,250,0.038770966);\">chubby</span> <span style=\"background-color:rgba(135,206,250,0.0147074);\">wimpy</span> <span style=\"background-color:rgba(135,206,250,0.008548321);\">find</span> <span style=\"background-color:rgba(135,206,250,0.010216583);\">jammy</span> <span style=\"background-color:rgba(135,206,250,0.020516818);\">resembling</span> <span style=\"background-color:rgba(135,206,250,0.012785875);\">wilson</span> <span style=\"background-color:rgba(135,206,250,0.0124160545);\">champagnes</span> <span style=\"background-color:rgba(135,206,250,0.008484632);\">nebbiolo</span> <span style=\"background-color:rgba(135,206,250,0.019918356);\">spends</span> <span style=\"background-color:rgba(135,206,250,0.025219535);\">Štajerska</span> <span style=\"background-color:rgba(135,206,250,0.050911203);\">prisoners</span> <span style=\"background-color:rgba(135,206,250,0.013474113);\">milky</span> <span style=\"background-color:rgba(135,206,250,0.0100735985);\">until</span> <span style=\"background-color:rgba(135,206,250,0.03257625);\">tiring</span> <span style=\"background-color:rgba(135,206,250,0.024742778);\">waves</span> <span style=\"background-color:rgba(135,206,250,0.008800063);\">as</span> <span style=\"background-color:rgba(135,206,250,0.019112399);\">herb</span> <span style=\"background-color:rgba(135,206,250,0.024601419);\">base</span> <span style=\"background-color:rgba(135,206,250,0.05437134);\">conner</span> <span style=\"background-color:rgba(135,206,250,0.01967445);\">buttercream</span> <span style=\"background-color:rgba(135,206,250,0.027554605);\">expected</span> <span style=\"background-color:rgba(135,206,250,0.023974827);\">heavier</span> <span style=\"background-color:rgba(135,206,250,0.02612771);\">serve</span> <span style=\"background-color:rgba(135,206,250,0.032470886);\">grab</span> <span style=\"background-color:rgba(135,206,250,0.057043348);\">dough</span> <span style=\"background-color:rgba(135,206,250,0.023425428);\">those</span> <span style=\"background-color:rgba(135,206,250,0.04158688);\">japanese</span> <span style=\"background-color:rgba(135,206,250,0.019303787);\">24</span> <span style=\"background-color:rgba(135,206,250,0.12588605);\">carpentry</span> <span style=\"background-color:rgba(135,206,250,0.06907818);\">margherita</span> <span style=\"background-color:rgba(135,206,250,0.05564705);\">grow</span> <span style=\"background-color:rgba(135,206,250,0.030235391);\">cocoa</span> <span style=\"background-color:rgba(135,206,250,0.052106027);\">raisiny</span> <span style=\"background-color:rgba(135,206,250,0.0697966);\">explodes</span> <span style=\"background-color:rgba(135,206,250,0.06215819);\">suit</span> <span style=\"background-color:rgba(135,206,250,0.41332826);\">rex</span> <span style=\"background-color:rgba(135,206,250,1.0);\">dalla</span> <span style=\"background-color:rgba(135,206,250,0.13485532);\">cloying</span> <span style=\"background-color:rgba(135,206,250,0.3786134);\">kabinett</span> <span style=\"background-color:rgba(135,206,250,0.15385136);\">everywhere</span> <span style=\"background-color:rgba(135,206,250,0.120606214);\">effectively</span>"
            ]
          },
          "metadata": {}
        },
        {
          "output_type": "stream",
          "name": "stdout",
          "text": [
            ".:   \t0.2199999988079071%\n",
            "continuing:   \t0.09000000357627869%\n",
            "and:   \t0.09000000357627869%\n",
            "a:   \t0.07999999821186066%\n",
            ";:   \t0.07999999821186066%\n",
            "--------\n",
            "\n"
          ]
        },
        {
          "output_type": "display_data",
          "data": {
            "text/plain": [
              "<IPython.core.display.HTML object>"
            ],
            "text/html": [
              "<span style=\"background-color:rgba(135,206,250,0.0870088);\">wine</span> <span style=\"background-color:rgba(135,206,250,0.08737521);\">review</span> <span style=\"background-color:rgba(135,206,250,0.054415166);\">:</span> <span style=\"background-color:rgba(135,206,250,0.12584658);\">italy</span> <span style=\"background-color:rgba(135,206,250,0.16121204);\">component</span> <span style=\"background-color:rgba(135,206,250,0.1690467);\">monster</span> <span style=\"background-color:rgba(135,206,250,0.13078053);\">week</span> <span style=\"background-color:rgba(135,206,250,0.12546787);\">preserving</span> <span style=\"background-color:rgba(135,206,250,0.073230825);\">lightweight</span> <span style=\"background-color:rgba(135,206,250,0.061869707);\">macerated</span> <span style=\"background-color:rgba(135,206,250,0.03906131);\">lithe</span> <span style=\"background-color:rgba(135,206,250,0.06833745);\">outside</span> <span style=\"background-color:rgba(135,206,250,0.044386655);\">handful</span> <span style=\"background-color:rgba(135,206,250,0.06419341);\">chubby</span> <span style=\"background-color:rgba(135,206,250,0.034018267);\">wimpy</span> <span style=\"background-color:rgba(135,206,250,0.030865667);\">find</span> <span style=\"background-color:rgba(135,206,250,0.013665933);\">jammy</span> <span style=\"background-color:rgba(135,206,250,0.048938125);\">resembling</span> <span style=\"background-color:rgba(135,206,250,0.032722775);\">wilson</span> <span style=\"background-color:rgba(135,206,250,0.03402872);\">champagnes</span> <span style=\"background-color:rgba(135,206,250,0.03121512);\">nebbiolo</span> <span style=\"background-color:rgba(135,206,250,0.034942336);\">spends</span> <span style=\"background-color:rgba(135,206,250,0.04203268);\">Štajerska</span> <span style=\"background-color:rgba(135,206,250,0.055768684);\">prisoners</span> <span style=\"background-color:rgba(135,206,250,0.01624669);\">milky</span> <span style=\"background-color:rgba(135,206,250,0.018511804);\">until</span> <span style=\"background-color:rgba(135,206,250,0.04472546);\">tiring</span> <span style=\"background-color:rgba(135,206,250,0.04594054);\">waves</span> <span style=\"background-color:rgba(135,206,250,0.017487025);\">as</span> <span style=\"background-color:rgba(135,206,250,0.024007343);\">herb</span> <span style=\"background-color:rgba(135,206,250,0.029549848);\">base</span> <span style=\"background-color:rgba(135,206,250,0.049881384);\">conner</span> <span style=\"background-color:rgba(135,206,250,0.029976942);\">buttercream</span> <span style=\"background-color:rgba(135,206,250,0.04030046);\">expected</span> <span style=\"background-color:rgba(135,206,250,0.034704182);\">heavier</span> <span style=\"background-color:rgba(135,206,250,0.048180047);\">serve</span> <span style=\"background-color:rgba(135,206,250,0.037802566);\">grab</span> <span style=\"background-color:rgba(135,206,250,0.036652207);\">dough</span> <span style=\"background-color:rgba(135,206,250,0.05220355);\">those</span> <span style=\"background-color:rgba(135,206,250,0.034298163);\">japanese</span> <span style=\"background-color:rgba(135,206,250,0.03684517);\">24</span> <span style=\"background-color:rgba(135,206,250,0.18378453);\">carpentry</span> <span style=\"background-color:rgba(135,206,250,0.057384074);\">margherita</span> <span style=\"background-color:rgba(135,206,250,0.092740715);\">grow</span> <span style=\"background-color:rgba(135,206,250,0.042552005);\">cocoa</span> <span style=\"background-color:rgba(135,206,250,0.05475886);\">raisiny</span> <span style=\"background-color:rgba(135,206,250,0.11376499);\">explodes</span> <span style=\"background-color:rgba(135,206,250,0.08094517);\">suit</span> <span style=\"background-color:rgba(135,206,250,0.5021072);\">rex</span> <span style=\"background-color:rgba(135,206,250,0.5676849);\">dalla</span> <span style=\"background-color:rgba(135,206,250,0.10141429);\">cloying</span> <span style=\"background-color:rgba(135,206,250,0.12362718);\">kabinett</span> <span style=\"background-color:rgba(135,206,250,0.10969876);\">everywhere</span> <span style=\"background-color:rgba(135,206,250,0.2758832);\">effectively</span> <span style=\"background-color:rgba(135,206,250,1.0);\">samples</span>"
            ]
          },
          "metadata": {}
        },
        {
          "output_type": "stream",
          "name": "stdout",
          "text": [
            ".:   \t0.27000001072883606%\n",
            "while:   \t0.14000000059604645%\n",
            "but:   \t0.14000000059604645%\n",
            ",:   \t0.12999999523162842%\n",
            ";:   \t0.11999999731779099%\n",
            "--------\n",
            "\n"
          ]
        },
        {
          "output_type": "display_data",
          "data": {
            "text/plain": [
              "<IPython.core.display.HTML object>"
            ],
            "text/html": [
              "<span style=\"background-color:rgba(135,206,250,0.0674135);\">wine</span> <span style=\"background-color:rgba(135,206,250,0.10196518);\">review</span> <span style=\"background-color:rgba(135,206,250,0.03431834);\">:</span> <span style=\"background-color:rgba(135,206,250,0.054911524);\">italy</span> <span style=\"background-color:rgba(135,206,250,0.07207672);\">component</span> <span style=\"background-color:rgba(135,206,250,0.06764253);\">monster</span> <span style=\"background-color:rgba(135,206,250,0.054188546);\">week</span> <span style=\"background-color:rgba(135,206,250,0.08956852);\">preserving</span> <span style=\"background-color:rgba(135,206,250,0.026355436);\">lightweight</span> <span style=\"background-color:rgba(135,206,250,0.014452905);\">macerated</span> <span style=\"background-color:rgba(135,206,250,0.008417017);\">lithe</span> <span style=\"background-color:rgba(135,206,250,0.03825551);\">outside</span> <span style=\"background-color:rgba(135,206,250,0.02999296);\">handful</span> <span style=\"background-color:rgba(135,206,250,0.015699152);\">chubby</span> <span style=\"background-color:rgba(135,206,250,0.009249391);\">wimpy</span> <span style=\"background-color:rgba(135,206,250,0.011893551);\">find</span> <span style=\"background-color:rgba(135,206,250,0.007383036);\">jammy</span> <span style=\"background-color:rgba(135,206,250,0.030155545);\">resembling</span> <span style=\"background-color:rgba(135,206,250,0.007507599);\">wilson</span> <span style=\"background-color:rgba(135,206,250,0.011726908);\">champagnes</span> <span style=\"background-color:rgba(135,206,250,0.0075466232);\">nebbiolo</span> <span style=\"background-color:rgba(135,206,250,0.0316618);\">spends</span> <span style=\"background-color:rgba(135,206,250,0.016731624);\">Štajerska</span> <span style=\"background-color:rgba(135,206,250,0.028997412);\">prisoners</span> <span style=\"background-color:rgba(135,206,250,0.007916582);\">milky</span> <span style=\"background-color:rgba(135,206,250,0.012797033);\">until</span> <span style=\"background-color:rgba(135,206,250,0.02505028);\">tiring</span> <span style=\"background-color:rgba(135,206,250,0.027160166);\">waves</span> <span style=\"background-color:rgba(135,206,250,0.00997597);\">as</span> <span style=\"background-color:rgba(135,206,250,0.016064636);\">herb</span> <span style=\"background-color:rgba(135,206,250,0.015494736);\">base</span> <span style=\"background-color:rgba(135,206,250,0.04840299);\">conner</span> <span style=\"background-color:rgba(135,206,250,0.014536781);\">buttercream</span> <span style=\"background-color:rgba(135,206,250,0.024499677);\">expected</span> <span style=\"background-color:rgba(135,206,250,0.028182238);\">heavier</span> <span style=\"background-color:rgba(135,206,250,0.03408722);\">serve</span> <span style=\"background-color:rgba(135,206,250,0.023117848);\">grab</span> <span style=\"background-color:rgba(135,206,250,0.029842967);\">dough</span> <span style=\"background-color:rgba(135,206,250,0.049567215);\">those</span> <span style=\"background-color:rgba(135,206,250,0.023918414);\">japanese</span> <span style=\"background-color:rgba(135,206,250,0.018083174);\">24</span> <span style=\"background-color:rgba(135,206,250,0.07845192);\">carpentry</span> <span style=\"background-color:rgba(135,206,250,0.045861937);\">margherita</span> <span style=\"background-color:rgba(135,206,250,0.05509146);\">grow</span> <span style=\"background-color:rgba(135,206,250,0.022731911);\">cocoa</span> <span style=\"background-color:rgba(135,206,250,0.0392691);\">raisiny</span> <span style=\"background-color:rgba(135,206,250,0.06816437);\">explodes</span> <span style=\"background-color:rgba(135,206,250,0.047419406);\">suit</span> <span style=\"background-color:rgba(135,206,250,0.23498617);\">rex</span> <span style=\"background-color:rgba(135,206,250,0.24391477);\">dalla</span> <span style=\"background-color:rgba(135,206,250,0.043828364);\">cloying</span> <span style=\"background-color:rgba(135,206,250,0.074069574);\">kabinett</span> <span style=\"background-color:rgba(135,206,250,0.12063573);\">everywhere</span> <span style=\"background-color:rgba(135,206,250,0.1746116);\">effectively</span> <span style=\"background-color:rgba(135,206,250,1.0);\">samples</span> <span style=\"background-color:rgba(135,206,250,0.04305155);\">difficulty</span>"
            ]
          },
          "metadata": {}
        },
        {
          "output_type": "stream",
          "name": "stdout",
          "text": [
            ".:   \t0.18000000715255737%\n",
            "done:   \t0.10999999940395355%\n",
            "so:   \t0.10999999940395355%\n",
            "':   \t0.10000000149011612%\n",
            "of:   \t0.10000000149011612%\n",
            "--------\n",
            "\n"
          ]
        },
        {
          "output_type": "display_data",
          "data": {
            "text/plain": [
              "<IPython.core.display.HTML object>"
            ],
            "text/html": [
              "<span style=\"background-color:rgba(135,206,250,0.038920227);\">wine</span> <span style=\"background-color:rgba(135,206,250,0.047708336);\">review</span> <span style=\"background-color:rgba(135,206,250,0.029773543);\">:</span> <span style=\"background-color:rgba(135,206,250,0.04772867);\">italy</span> <span style=\"background-color:rgba(135,206,250,0.094296984);\">component</span> <span style=\"background-color:rgba(135,206,250,0.10638843);\">monster</span> <span style=\"background-color:rgba(135,206,250,0.102927715);\">week</span> <span style=\"background-color:rgba(135,206,250,0.070825964);\">preserving</span> <span style=\"background-color:rgba(135,206,250,0.06882974);\">lightweight</span> <span style=\"background-color:rgba(135,206,250,0.01980958);\">macerated</span> <span style=\"background-color:rgba(135,206,250,0.028496226);\">lithe</span> <span style=\"background-color:rgba(135,206,250,0.028457064);\">outside</span> <span style=\"background-color:rgba(135,206,250,0.026751945);\">handful</span> <span style=\"background-color:rgba(135,206,250,0.050116);\">chubby</span> <span style=\"background-color:rgba(135,206,250,0.023207048);\">wimpy</span> <span style=\"background-color:rgba(135,206,250,0.005492131);\">find</span> <span style=\"background-color:rgba(135,206,250,0.00503483);\">jammy</span> <span style=\"background-color:rgba(135,206,250,0.024453124);\">resembling</span> <span style=\"background-color:rgba(135,206,250,0.012685097);\">wilson</span> <span style=\"background-color:rgba(135,206,250,0.018060774);\">champagnes</span> <span style=\"background-color:rgba(135,206,250,0.0055023553);\">nebbiolo</span> <span style=\"background-color:rgba(135,206,250,0.013502607);\">spends</span> <span style=\"background-color:rgba(135,206,250,0.014618158);\">Štajerska</span> <span style=\"background-color:rgba(135,206,250,0.04527838);\">prisoners</span> <span style=\"background-color:rgba(135,206,250,0.0074942173);\">milky</span> <span style=\"background-color:rgba(135,206,250,0.009722786);\">until</span> <span style=\"background-color:rgba(135,206,250,0.027759377);\">tiring</span> <span style=\"background-color:rgba(135,206,250,0.019431269);\">waves</span> <span style=\"background-color:rgba(135,206,250,0.008355723);\">as</span> <span style=\"background-color:rgba(135,206,250,0.011522344);\">herb</span> <span style=\"background-color:rgba(135,206,250,0.013281309);\">base</span> <span style=\"background-color:rgba(135,206,250,0.03237137);\">conner</span> <span style=\"background-color:rgba(135,206,250,0.011125196);\">buttercream</span> <span style=\"background-color:rgba(135,206,250,0.015795777);\">expected</span> <span style=\"background-color:rgba(135,206,250,0.0135023035);\">heavier</span> <span style=\"background-color:rgba(135,206,250,0.027915651);\">serve</span> <span style=\"background-color:rgba(135,206,250,0.017690554);\">grab</span> <span style=\"background-color:rgba(135,206,250,0.02654576);\">dough</span> <span style=\"background-color:rgba(135,206,250,0.009452763);\">those</span> <span style=\"background-color:rgba(135,206,250,0.033990655);\">japanese</span> <span style=\"background-color:rgba(135,206,250,0.017386544);\">24</span> <span style=\"background-color:rgba(135,206,250,0.11246486);\">carpentry</span> <span style=\"background-color:rgba(135,206,250,0.054848295);\">margherita</span> <span style=\"background-color:rgba(135,206,250,0.025957027);\">grow</span> <span style=\"background-color:rgba(135,206,250,0.016619341);\">cocoa</span> <span style=\"background-color:rgba(135,206,250,0.01604841);\">raisiny</span> <span style=\"background-color:rgba(135,206,250,0.021041805);\">explodes</span> <span style=\"background-color:rgba(135,206,250,0.031040885);\">suit</span> <span style=\"background-color:rgba(135,206,250,0.27581692);\">rex</span> <span style=\"background-color:rgba(135,206,250,0.26788434);\">dalla</span> <span style=\"background-color:rgba(135,206,250,0.04224252);\">cloying</span> <span style=\"background-color:rgba(135,206,250,0.119078495);\">kabinett</span> <span style=\"background-color:rgba(135,206,250,0.09036416);\">everywhere</span> <span style=\"background-color:rgba(135,206,250,0.08807155);\">effectively</span> <span style=\"background-color:rgba(135,206,250,1.0);\">samples</span> <span style=\"background-color:rgba(135,206,250,0.07163983);\">difficulty</span> <span style=\"background-color:rgba(135,206,250,0.09500497);\">represents</span>"
            ]
          },
          "metadata": {}
        },
        {
          "output_type": "stream",
          "name": "stdout",
          "text": [
            "the:   \t0.15000000596046448%\n",
            ".:   \t0.14000000059604645%\n",
            "a:   \t0.10000000149011612%\n",
            "[UNK]:   \t0.09000000357627869%\n",
            "to:   \t0.09000000357627869%\n",
            "--------\n",
            "\n"
          ]
        },
        {
          "output_type": "display_data",
          "data": {
            "text/plain": [
              "<IPython.core.display.HTML object>"
            ],
            "text/html": [
              "<span style=\"background-color:rgba(135,206,250,0.050431352);\">wine</span> <span style=\"background-color:rgba(135,206,250,0.08348412);\">review</span> <span style=\"background-color:rgba(135,206,250,0.019483037);\">:</span> <span style=\"background-color:rgba(135,206,250,0.054004252);\">italy</span> <span style=\"background-color:rgba(135,206,250,0.079526335);\">component</span> <span style=\"background-color:rgba(135,206,250,0.08916891);\">monster</span> <span style=\"background-color:rgba(135,206,250,0.051172227);\">week</span> <span style=\"background-color:rgba(135,206,250,0.16565035);\">preserving</span> <span style=\"background-color:rgba(135,206,250,0.042463083);\">lightweight</span> <span style=\"background-color:rgba(135,206,250,0.020645913);\">macerated</span> <span style=\"background-color:rgba(135,206,250,0.014528786);\">lithe</span> <span style=\"background-color:rgba(135,206,250,0.052214716);\">outside</span> <span style=\"background-color:rgba(135,206,250,0.052185643);\">handful</span> <span style=\"background-color:rgba(135,206,250,0.019477338);\">chubby</span> <span style=\"background-color:rgba(135,206,250,0.012730763);\">wimpy</span> <span style=\"background-color:rgba(135,206,250,0.013463733);\">find</span> <span style=\"background-color:rgba(135,206,250,0.0056537683);\">jammy</span> <span style=\"background-color:rgba(135,206,250,0.035329208);\">resembling</span> <span style=\"background-color:rgba(135,206,250,0.010913514);\">wilson</span> <span style=\"background-color:rgba(135,206,250,0.01749715);\">champagnes</span> <span style=\"background-color:rgba(135,206,250,0.0063792905);\">nebbiolo</span> <span style=\"background-color:rgba(135,206,250,0.027728172);\">spends</span> <span style=\"background-color:rgba(135,206,250,0.0123270545);\">Štajerska</span> <span style=\"background-color:rgba(135,206,250,0.01455854);\">prisoners</span> <span style=\"background-color:rgba(135,206,250,0.0071737);\">milky</span> <span style=\"background-color:rgba(135,206,250,0.010421544);\">until</span> <span style=\"background-color:rgba(135,206,250,0.020694321);\">tiring</span> <span style=\"background-color:rgba(135,206,250,0.023132833);\">waves</span> <span style=\"background-color:rgba(135,206,250,0.014233009);\">as</span> <span style=\"background-color:rgba(135,206,250,0.011241281);\">herb</span> <span style=\"background-color:rgba(135,206,250,0.014943115);\">base</span> <span style=\"background-color:rgba(135,206,250,0.035354987);\">conner</span> <span style=\"background-color:rgba(135,206,250,0.014024466);\">buttercream</span> <span style=\"background-color:rgba(135,206,250,0.019515032);\">expected</span> <span style=\"background-color:rgba(135,206,250,0.020215143);\">heavier</span> <span style=\"background-color:rgba(135,206,250,0.03663794);\">serve</span> <span style=\"background-color:rgba(135,206,250,0.01999669);\">grab</span> <span style=\"background-color:rgba(135,206,250,0.017932592);\">dough</span> <span style=\"background-color:rgba(135,206,250,0.030991139);\">those</span> <span style=\"background-color:rgba(135,206,250,0.018055793);\">japanese</span> <span style=\"background-color:rgba(135,206,250,0.017695108);\">24</span> <span style=\"background-color:rgba(135,206,250,0.065081924);\">carpentry</span> <span style=\"background-color:rgba(135,206,250,0.042291414);\">margherita</span> <span style=\"background-color:rgba(135,206,250,0.047899682);\">grow</span> <span style=\"background-color:rgba(135,206,250,0.021672865);\">cocoa</span> <span style=\"background-color:rgba(135,206,250,0.020606244);\">raisiny</span> <span style=\"background-color:rgba(135,206,250,0.053531274);\">explodes</span> <span style=\"background-color:rgba(135,206,250,0.049775906);\">suit</span> <span style=\"background-color:rgba(135,206,250,0.17482667);\">rex</span> <span style=\"background-color:rgba(135,206,250,0.20961696);\">dalla</span> <span style=\"background-color:rgba(135,206,250,0.028048573);\">cloying</span> <span style=\"background-color:rgba(135,206,250,0.072485566);\">kabinett</span> <span style=\"background-color:rgba(135,206,250,0.06794856);\">everywhere</span> <span style=\"background-color:rgba(135,206,250,0.14183189);\">effectively</span> <span style=\"background-color:rgba(135,206,250,1.0);\">samples</span> <span style=\"background-color:rgba(135,206,250,0.080663316);\">difficulty</span> <span style=\"background-color:rgba(135,206,250,0.7057541);\">represents</span> <span style=\"background-color:rgba(135,206,250,0.1820961);\">margaux</span>"
            ]
          },
          "metadata": {}
        },
        {
          "output_type": "stream",
          "name": "stdout",
          "text": [
            ".:   \t0.17000000178813934%\n",
            "in:   \t0.10999999940395355%\n",
            "done:   \t0.10000000149011612%\n",
            ",:   \t0.10000000149011612%\n",
            "that:   \t0.07999999821186066%\n",
            "--------\n",
            "\n"
          ]
        },
        {
          "output_type": "display_data",
          "data": {
            "text/plain": [
              "<IPython.core.display.HTML object>"
            ],
            "text/html": [
              "<span style=\"background-color:rgba(135,206,250,0.2540165);\">wine</span> <span style=\"background-color:rgba(135,206,250,0.21811564);\">review</span> <span style=\"background-color:rgba(135,206,250,0.17826074);\">:</span> <span style=\"background-color:rgba(135,206,250,0.20176776);\">italy</span> <span style=\"background-color:rgba(135,206,250,0.29070762);\">component</span> <span style=\"background-color:rgba(135,206,250,0.34881637);\">monster</span> <span style=\"background-color:rgba(135,206,250,0.24851546);\">week</span> <span style=\"background-color:rgba(135,206,250,0.29429418);\">preserving</span> <span style=\"background-color:rgba(135,206,250,0.118957564);\">lightweight</span> <span style=\"background-color:rgba(135,206,250,0.04818143);\">macerated</span> <span style=\"background-color:rgba(135,206,250,0.034303796);\">lithe</span> <span style=\"background-color:rgba(135,206,250,0.1411665);\">outside</span> <span style=\"background-color:rgba(135,206,250,0.07114374);\">handful</span> <span style=\"background-color:rgba(135,206,250,0.09946979);\">chubby</span> <span style=\"background-color:rgba(135,206,250,0.03049247);\">wimpy</span> <span style=\"background-color:rgba(135,206,250,0.037503477);\">find</span> <span style=\"background-color:rgba(135,206,250,0.015986385);\">jammy</span> <span style=\"background-color:rgba(135,206,250,0.06255324);\">resembling</span> <span style=\"background-color:rgba(135,206,250,0.03050235);\">wilson</span> <span style=\"background-color:rgba(135,206,250,0.036236424);\">champagnes</span> <span style=\"background-color:rgba(135,206,250,0.024048809);\">nebbiolo</span> <span style=\"background-color:rgba(135,206,250,0.043905422);\">spends</span> <span style=\"background-color:rgba(135,206,250,0.05043084);\">Štajerska</span> <span style=\"background-color:rgba(135,206,250,0.033381406);\">prisoners</span> <span style=\"background-color:rgba(135,206,250,0.014948685);\">milky</span> <span style=\"background-color:rgba(135,206,250,0.01679091);\">until</span> <span style=\"background-color:rgba(135,206,250,0.05377467);\">tiring</span> <span style=\"background-color:rgba(135,206,250,0.069257535);\">waves</span> <span style=\"background-color:rgba(135,206,250,0.035444647);\">as</span> <span style=\"background-color:rgba(135,206,250,0.037133824);\">herb</span> <span style=\"background-color:rgba(135,206,250,0.036438677);\">base</span> <span style=\"background-color:rgba(135,206,250,0.09223372);\">conner</span> <span style=\"background-color:rgba(135,206,250,0.026743477);\">buttercream</span> <span style=\"background-color:rgba(135,206,250,0.039760552);\">expected</span> <span style=\"background-color:rgba(135,206,250,0.03543453);\">heavier</span> <span style=\"background-color:rgba(135,206,250,0.07555109);\">serve</span> <span style=\"background-color:rgba(135,206,250,0.03281385);\">grab</span> <span style=\"background-color:rgba(135,206,250,0.041922882);\">dough</span> <span style=\"background-color:rgba(135,206,250,0.07870429);\">those</span> <span style=\"background-color:rgba(135,206,250,0.053891093);\">japanese</span> <span style=\"background-color:rgba(135,206,250,0.026215477);\">24</span> <span style=\"background-color:rgba(135,206,250,0.23529556);\">carpentry</span> <span style=\"background-color:rgba(135,206,250,0.04850384);\">margherita</span> <span style=\"background-color:rgba(135,206,250,0.09978643);\">grow</span> <span style=\"background-color:rgba(135,206,250,0.041817464);\">cocoa</span> <span style=\"background-color:rgba(135,206,250,0.035632152);\">raisiny</span> <span style=\"background-color:rgba(135,206,250,0.08291947);\">explodes</span> <span style=\"background-color:rgba(135,206,250,0.08945984);\">suit</span> <span style=\"background-color:rgba(135,206,250,0.29049334);\">rex</span> <span style=\"background-color:rgba(135,206,250,0.5430573);\">dalla</span> <span style=\"background-color:rgba(135,206,250,0.07132663);\">cloying</span> <span style=\"background-color:rgba(135,206,250,0.10285036);\">kabinett</span> <span style=\"background-color:rgba(135,206,250,0.088185035);\">everywhere</span> <span style=\"background-color:rgba(135,206,250,0.25380588);\">effectively</span> <span style=\"background-color:rgba(135,206,250,0.978877);\">samples</span> <span style=\"background-color:rgba(135,206,250,0.08031192);\">difficulty</span> <span style=\"background-color:rgba(135,206,250,0.5222107);\">represents</span> <span style=\"background-color:rgba(135,206,250,0.52252126);\">margaux</span> <span style=\"background-color:rgba(135,206,250,1.0);\">2027</span>"
            ]
          },
          "metadata": {}
        },
        {
          "output_type": "stream",
          "name": "stdout",
          "text": [
            ".:   \t0.550000011920929%\n",
            "in:   \t0.10999999940395355%\n",
            "::   \t0.10999999940395355%\n",
            "while:   \t0.10000000149011612%\n",
            ",:   \t0.10000000149011612%\n",
            "--------\n",
            "\n"
          ]
        },
        {
          "output_type": "display_data",
          "data": {
            "text/plain": [
              "<IPython.core.display.HTML object>"
            ],
            "text/html": [
              "<span style=\"background-color:rgba(135,206,250,0.094250485);\">wine</span> <span style=\"background-color:rgba(135,206,250,0.11717092);\">review</span> <span style=\"background-color:rgba(135,206,250,0.04502544);\">:</span> <span style=\"background-color:rgba(135,206,250,0.077650994);\">italy</span> <span style=\"background-color:rgba(135,206,250,0.20127472);\">component</span> <span style=\"background-color:rgba(135,206,250,0.123759486);\">monster</span> <span style=\"background-color:rgba(135,206,250,0.090925865);\">week</span> <span style=\"background-color:rgba(135,206,250,0.21309957);\">preserving</span> <span style=\"background-color:rgba(135,206,250,0.09678361);\">lightweight</span> <span style=\"background-color:rgba(135,206,250,0.03138108);\">macerated</span> <span style=\"background-color:rgba(135,206,250,0.029506078);\">lithe</span> <span style=\"background-color:rgba(135,206,250,0.06762201);\">outside</span> <span style=\"background-color:rgba(135,206,250,0.062307898);\">handful</span> <span style=\"background-color:rgba(135,206,250,0.047642354);\">chubby</span> <span style=\"background-color:rgba(135,206,250,0.021820607);\">wimpy</span> <span style=\"background-color:rgba(135,206,250,0.02222363);\">find</span> <span style=\"background-color:rgba(135,206,250,0.011577669);\">jammy</span> <span style=\"background-color:rgba(135,206,250,0.044818453);\">resembling</span> <span style=\"background-color:rgba(135,206,250,0.019936921);\">wilson</span> <span style=\"background-color:rgba(135,206,250,0.027567437);\">champagnes</span> <span style=\"background-color:rgba(135,206,250,0.011538616);\">nebbiolo</span> <span style=\"background-color:rgba(135,206,250,0.0403293);\">spends</span> <span style=\"background-color:rgba(135,206,250,0.025528567);\">Štajerska</span> <span style=\"background-color:rgba(135,206,250,0.020032188);\">prisoners</span> <span style=\"background-color:rgba(135,206,250,0.01454534);\">milky</span> <span style=\"background-color:rgba(135,206,250,0.01403628);\">until</span> <span style=\"background-color:rgba(135,206,250,0.036936197);\">tiring</span> <span style=\"background-color:rgba(135,206,250,0.046715807);\">waves</span> <span style=\"background-color:rgba(135,206,250,0.02574505);\">as</span> <span style=\"background-color:rgba(135,206,250,0.02448521);\">herb</span> <span style=\"background-color:rgba(135,206,250,0.0287897);\">base</span> <span style=\"background-color:rgba(135,206,250,0.05976332);\">conner</span> <span style=\"background-color:rgba(135,206,250,0.018954173);\">buttercream</span> <span style=\"background-color:rgba(135,206,250,0.028324438);\">expected</span> <span style=\"background-color:rgba(135,206,250,0.029491594);\">heavier</span> <span style=\"background-color:rgba(135,206,250,0.04599496);\">serve</span> <span style=\"background-color:rgba(135,206,250,0.028476337);\">grab</span> <span style=\"background-color:rgba(135,206,250,0.034259595);\">dough</span> <span style=\"background-color:rgba(135,206,250,0.040603697);\">those</span> <span style=\"background-color:rgba(135,206,250,0.03458012);\">japanese</span> <span style=\"background-color:rgba(135,206,250,0.024251724);\">24</span> <span style=\"background-color:rgba(135,206,250,0.08323311);\">carpentry</span> <span style=\"background-color:rgba(135,206,250,0.057926685);\">margherita</span> <span style=\"background-color:rgba(135,206,250,0.065175295);\">grow</span> <span style=\"background-color:rgba(135,206,250,0.03524429);\">cocoa</span> <span style=\"background-color:rgba(135,206,250,0.032483675);\">raisiny</span> <span style=\"background-color:rgba(135,206,250,0.07129436);\">explodes</span> <span style=\"background-color:rgba(135,206,250,0.05274827);\">suit</span> <span style=\"background-color:rgba(135,206,250,0.22233728);\">rex</span> <span style=\"background-color:rgba(135,206,250,0.220768);\">dalla</span> <span style=\"background-color:rgba(135,206,250,0.03919929);\">cloying</span> <span style=\"background-color:rgba(135,206,250,0.08129602);\">kabinett</span> <span style=\"background-color:rgba(135,206,250,0.07593043);\">everywhere</span> <span style=\"background-color:rgba(135,206,250,0.1535464);\">effectively</span> <span style=\"background-color:rgba(135,206,250,1.0);\">samples</span> <span style=\"background-color:rgba(135,206,250,0.07602265);\">difficulty</span> <span style=\"background-color:rgba(135,206,250,0.5317801);\">represents</span> <span style=\"background-color:rgba(135,206,250,0.38622153);\">margaux</span> <span style=\"background-color:rgba(135,206,250,0.6380921);\">2027</span> <span style=\"background-color:rgba(135,206,250,0.53216755);\">markets</span>"
            ]
          },
          "metadata": {}
        },
        {
          "output_type": "stream",
          "name": "stdout",
          "text": [
            ".:   \t0.3499999940395355%\n",
            "in:   \t0.14000000059604645%\n",
            "on:   \t0.11999999731779099%\n",
            ",:   \t0.10999999940395355%\n",
            "when:   \t0.10999999940395355%\n",
            "--------\n",
            "\n"
          ]
        },
        {
          "output_type": "display_data",
          "data": {
            "text/plain": [
              "<IPython.core.display.HTML object>"
            ],
            "text/html": [
              "<span style=\"background-color:rgba(135,206,250,0.08817564);\">wine</span> <span style=\"background-color:rgba(135,206,250,0.12607974);\">review</span> <span style=\"background-color:rgba(135,206,250,0.03884523);\">:</span> <span style=\"background-color:rgba(135,206,250,0.09302655);\">italy</span> <span style=\"background-color:rgba(135,206,250,0.12639953);\">component</span> <span style=\"background-color:rgba(135,206,250,0.14437287);\">monster</span> <span style=\"background-color:rgba(135,206,250,0.13243374);\">week</span> <span style=\"background-color:rgba(135,206,250,0.1584283);\">preserving</span> <span style=\"background-color:rgba(135,206,250,0.0935202);\">lightweight</span> <span style=\"background-color:rgba(135,206,250,0.043285575);\">macerated</span> <span style=\"background-color:rgba(135,206,250,0.04150826);\">lithe</span> <span style=\"background-color:rgba(135,206,250,0.09277872);\">outside</span> <span style=\"background-color:rgba(135,206,250,0.08080129);\">handful</span> <span style=\"background-color:rgba(135,206,250,0.052499775);\">chubby</span> <span style=\"background-color:rgba(135,206,250,0.027996648);\">wimpy</span> <span style=\"background-color:rgba(135,206,250,0.024627501);\">find</span> <span style=\"background-color:rgba(135,206,250,0.012121946);\">jammy</span> <span style=\"background-color:rgba(135,206,250,0.052821435);\">resembling</span> <span style=\"background-color:rgba(135,206,250,0.02343226);\">wilson</span> <span style=\"background-color:rgba(135,206,250,0.031669956);\">champagnes</span> <span style=\"background-color:rgba(135,206,250,0.014199984);\">nebbiolo</span> <span style=\"background-color:rgba(135,206,250,0.04905506);\">spends</span> <span style=\"background-color:rgba(135,206,250,0.029382912);\">Štajerska</span> <span style=\"background-color:rgba(135,206,250,0.0691756);\">prisoners</span> <span style=\"background-color:rgba(135,206,250,0.013673428);\">milky</span> <span style=\"background-color:rgba(135,206,250,0.023967024);\">until</span> <span style=\"background-color:rgba(135,206,250,0.054321136);\">tiring</span> <span style=\"background-color:rgba(135,206,250,0.032719314);\">waves</span> <span style=\"background-color:rgba(135,206,250,0.022019139);\">as</span> <span style=\"background-color:rgba(135,206,250,0.023795132);\">herb</span> <span style=\"background-color:rgba(135,206,250,0.03655694);\">base</span> <span style=\"background-color:rgba(135,206,250,0.06914095);\">conner</span> <span style=\"background-color:rgba(135,206,250,0.043119892);\">buttercream</span> <span style=\"background-color:rgba(135,206,250,0.039561346);\">expected</span> <span style=\"background-color:rgba(135,206,250,0.037668563);\">heavier</span> <span style=\"background-color:rgba(135,206,250,0.05543055);\">serve</span> <span style=\"background-color:rgba(135,206,250,0.04543194);\">grab</span> <span style=\"background-color:rgba(135,206,250,0.05361684);\">dough</span> <span style=\"background-color:rgba(135,206,250,0.048652627);\">those</span> <span style=\"background-color:rgba(135,206,250,0.050382406);\">japanese</span> <span style=\"background-color:rgba(135,206,250,0.03735665);\">24</span> <span style=\"background-color:rgba(135,206,250,0.16731744);\">carpentry</span> <span style=\"background-color:rgba(135,206,250,0.08043622);\">margherita</span> <span style=\"background-color:rgba(135,206,250,0.09735739);\">grow</span> <span style=\"background-color:rgba(135,206,250,0.05400371);\">cocoa</span> <span style=\"background-color:rgba(135,206,250,0.06163162);\">raisiny</span> <span style=\"background-color:rgba(135,206,250,0.14765558);\">explodes</span> <span style=\"background-color:rgba(135,206,250,0.09607691);\">suit</span> <span style=\"background-color:rgba(135,206,250,0.45345798);\">rex</span> <span style=\"background-color:rgba(135,206,250,0.46045247);\">dalla</span> <span style=\"background-color:rgba(135,206,250,0.16124842);\">cloying</span> <span style=\"background-color:rgba(135,206,250,0.13766457);\">kabinett</span> <span style=\"background-color:rgba(135,206,250,0.17096387);\">everywhere</span> <span style=\"background-color:rgba(135,206,250,0.4649254);\">effectively</span> <span style=\"background-color:rgba(135,206,250,0.81867963);\">samples</span> <span style=\"background-color:rgba(135,206,250,0.105062656);\">difficulty</span> <span style=\"background-color:rgba(135,206,250,0.7009559);\">represents</span> <span style=\"background-color:rgba(135,206,250,0.4706223);\">margaux</span> <span style=\"background-color:rgba(135,206,250,0.89365673);\">2027</span> <span style=\"background-color:rgba(135,206,250,1.0);\">markets</span> <span style=\"background-color:rgba(135,206,250,0.31748268);\">trimmings</span>"
            ]
          },
          "metadata": {}
        },
        {
          "output_type": "stream",
          "name": "stdout",
          "text": [
            ".:   \t0.36000001430511475%\n",
            "on:   \t0.18000000715255737%\n",
            ",:   \t0.1599999964237213%\n",
            "with:   \t0.15000000596046448%\n",
            "in:   \t0.15000000596046448%\n",
            "--------\n",
            "\n"
          ]
        },
        {
          "output_type": "display_data",
          "data": {
            "text/plain": [
              "<IPython.core.display.HTML object>"
            ],
            "text/html": [
              "<span style=\"background-color:rgba(135,206,250,0.052314095);\">wine</span> <span style=\"background-color:rgba(135,206,250,0.078393176);\">review</span> <span style=\"background-color:rgba(135,206,250,0.026105264);\">:</span> <span style=\"background-color:rgba(135,206,250,0.05779282);\">italy</span> <span style=\"background-color:rgba(135,206,250,0.08864023);\">component</span> <span style=\"background-color:rgba(135,206,250,0.08655903);\">monster</span> <span style=\"background-color:rgba(135,206,250,0.065461226);\">week</span> <span style=\"background-color:rgba(135,206,250,0.14946085);\">preserving</span> <span style=\"background-color:rgba(135,206,250,0.05949601);\">lightweight</span> <span style=\"background-color:rgba(135,206,250,0.030598855);\">macerated</span> <span style=\"background-color:rgba(135,206,250,0.019432552);\">lithe</span> <span style=\"background-color:rgba(135,206,250,0.0449653);\">outside</span> <span style=\"background-color:rgba(135,206,250,0.042355534);\">handful</span> <span style=\"background-color:rgba(135,206,250,0.028799765);\">chubby</span> <span style=\"background-color:rgba(135,206,250,0.0191476);\">wimpy</span> <span style=\"background-color:rgba(135,206,250,0.012542048);\">find</span> <span style=\"background-color:rgba(135,206,250,0.011605225);\">jammy</span> <span style=\"background-color:rgba(135,206,250,0.03108302);\">resembling</span> <span style=\"background-color:rgba(135,206,250,0.01311354);\">wilson</span> <span style=\"background-color:rgba(135,206,250,0.017423164);\">champagnes</span> <span style=\"background-color:rgba(135,206,250,0.0054323757);\">nebbiolo</span> <span style=\"background-color:rgba(135,206,250,0.021459842);\">spends</span> <span style=\"background-color:rgba(135,206,250,0.013524911);\">Štajerska</span> <span style=\"background-color:rgba(135,206,250,0.021859197);\">prisoners</span> <span style=\"background-color:rgba(135,206,250,0.0102742);\">milky</span> <span style=\"background-color:rgba(135,206,250,0.011005215);\">until</span> <span style=\"background-color:rgba(135,206,250,0.022858389);\">tiring</span> <span style=\"background-color:rgba(135,206,250,0.024330024);\">waves</span> <span style=\"background-color:rgba(135,206,250,0.010969465);\">as</span> <span style=\"background-color:rgba(135,206,250,0.017071093);\">herb</span> <span style=\"background-color:rgba(135,206,250,0.014424976);\">base</span> <span style=\"background-color:rgba(135,206,250,0.04158821);\">conner</span> <span style=\"background-color:rgba(135,206,250,0.014995081);\">buttercream</span> <span style=\"background-color:rgba(135,206,250,0.019316621);\">expected</span> <span style=\"background-color:rgba(135,206,250,0.024634914);\">heavier</span> <span style=\"background-color:rgba(135,206,250,0.030239653);\">serve</span> <span style=\"background-color:rgba(135,206,250,0.020618333);\">grab</span> <span style=\"background-color:rgba(135,206,250,0.029082555);\">dough</span> <span style=\"background-color:rgba(135,206,250,0.034463316);\">those</span> <span style=\"background-color:rgba(135,206,250,0.023017084);\">japanese</span> <span style=\"background-color:rgba(135,206,250,0.01722407);\">24</span> <span style=\"background-color:rgba(135,206,250,0.06313772);\">carpentry</span> <span style=\"background-color:rgba(135,206,250,0.04806751);\">margherita</span> <span style=\"background-color:rgba(135,206,250,0.038235158);\">grow</span> <span style=\"background-color:rgba(135,206,250,0.020683829);\">cocoa</span> <span style=\"background-color:rgba(135,206,250,0.033971168);\">raisiny</span> <span style=\"background-color:rgba(135,206,250,0.049839467);\">explodes</span> <span style=\"background-color:rgba(135,206,250,0.038576275);\">suit</span> <span style=\"background-color:rgba(135,206,250,0.12330011);\">rex</span> <span style=\"background-color:rgba(135,206,250,0.13487403);\">dalla</span> <span style=\"background-color:rgba(135,206,250,0.03870281);\">cloying</span> <span style=\"background-color:rgba(135,206,250,0.059011854);\">kabinett</span> <span style=\"background-color:rgba(135,206,250,0.08772357);\">everywhere</span> <span style=\"background-color:rgba(135,206,250,0.098629534);\">effectively</span> <span style=\"background-color:rgba(135,206,250,0.47654176);\">samples</span> <span style=\"background-color:rgba(135,206,250,0.072420426);\">difficulty</span> <span style=\"background-color:rgba(135,206,250,0.3209941);\">represents</span> <span style=\"background-color:rgba(135,206,250,0.103409484);\">margaux</span> <span style=\"background-color:rgba(135,206,250,0.35136244);\">2027</span> <span style=\"background-color:rgba(135,206,250,0.33469176);\">markets</span> <span style=\"background-color:rgba(135,206,250,1.0);\">trimmings</span> <span style=\"background-color:rgba(135,206,250,0.16176046);\">victoire</span>"
            ]
          },
          "metadata": {}
        },
        {
          "output_type": "stream",
          "name": "stdout",
          "text": [
            ".:   \t0.12999999523162842%\n",
            "winemaking:   \t0.11999999731779099%\n",
            "imports:   \t0.10999999940395355%\n",
            "in:   \t0.09000000357627869%\n",
            "':   \t0.07999999821186066%\n",
            "--------\n",
            "\n"
          ]
        },
        {
          "output_type": "display_data",
          "data": {
            "text/plain": [
              "<IPython.core.display.HTML object>"
            ],
            "text/html": [
              "<span style=\"background-color:rgba(135,206,250,0.020920848);\">wine</span> <span style=\"background-color:rgba(135,206,250,0.036633026);\">review</span> <span style=\"background-color:rgba(135,206,250,0.018891431);\">:</span> <span style=\"background-color:rgba(135,206,250,0.06740145);\">italy</span> <span style=\"background-color:rgba(135,206,250,0.06733701);\">component</span> <span style=\"background-color:rgba(135,206,250,0.061078586);\">monster</span> <span style=\"background-color:rgba(135,206,250,0.08210272);\">week</span> <span style=\"background-color:rgba(135,206,250,0.040704966);\">preserving</span> <span style=\"background-color:rgba(135,206,250,0.0722784);\">lightweight</span> <span style=\"background-color:rgba(135,206,250,0.02604572);\">macerated</span> <span style=\"background-color:rgba(135,206,250,0.033310853);\">lithe</span> <span style=\"background-color:rgba(135,206,250,0.021757515);\">outside</span> <span style=\"background-color:rgba(135,206,250,0.026356608);\">handful</span> <span style=\"background-color:rgba(135,206,250,0.047305033);\">chubby</span> <span style=\"background-color:rgba(135,206,250,0.037716404);\">wimpy</span> <span style=\"background-color:rgba(135,206,250,0.008671071);\">find</span> <span style=\"background-color:rgba(135,206,250,0.010486461);\">jammy</span> <span style=\"background-color:rgba(135,206,250,0.021035772);\">resembling</span> <span style=\"background-color:rgba(135,206,250,0.018895846);\">wilson</span> <span style=\"background-color:rgba(135,206,250,0.023064679);\">champagnes</span> <span style=\"background-color:rgba(135,206,250,0.010254213);\">nebbiolo</span> <span style=\"background-color:rgba(135,206,250,0.010624296);\">spends</span> <span style=\"background-color:rgba(135,206,250,0.020207858);\">Štajerska</span> <span style=\"background-color:rgba(135,206,250,0.095271155);\">prisoners</span> <span style=\"background-color:rgba(135,206,250,0.01295242);\">milky</span> <span style=\"background-color:rgba(135,206,250,0.015558595);\">until</span> <span style=\"background-color:rgba(135,206,250,0.03293986);\">tiring</span> <span style=\"background-color:rgba(135,206,250,0.0218962);\">waves</span> <span style=\"background-color:rgba(135,206,250,0.009379567);\">as</span> <span style=\"background-color:rgba(135,206,250,0.021537982);\">herb</span> <span style=\"background-color:rgba(135,206,250,0.022547262);\">base</span> <span style=\"background-color:rgba(135,206,250,0.03626277);\">conner</span> <span style=\"background-color:rgba(135,206,250,0.028676262);\">buttercream</span> <span style=\"background-color:rgba(135,206,250,0.019159125);\">expected</span> <span style=\"background-color:rgba(135,206,250,0.022837041);\">heavier</span> <span style=\"background-color:rgba(135,206,250,0.033375997);\">serve</span> <span style=\"background-color:rgba(135,206,250,0.020133862);\">grab</span> <span style=\"background-color:rgba(135,206,250,0.049399428);\">dough</span> <span style=\"background-color:rgba(135,206,250,0.012947312);\">those</span> <span style=\"background-color:rgba(135,206,250,0.04054566);\">japanese</span> <span style=\"background-color:rgba(135,206,250,0.027972657);\">24</span> <span style=\"background-color:rgba(135,206,250,0.074821405);\">carpentry</span> <span style=\"background-color:rgba(135,206,250,0.06328039);\">margherita</span> <span style=\"background-color:rgba(135,206,250,0.024656689);\">grow</span> <span style=\"background-color:rgba(135,206,250,0.02385408);\">cocoa</span> <span style=\"background-color:rgba(135,206,250,0.034624353);\">raisiny</span> <span style=\"background-color:rgba(135,206,250,0.031233778);\">explodes</span> <span style=\"background-color:rgba(135,206,250,0.04474988);\">suit</span> <span style=\"background-color:rgba(135,206,250,0.17691024);\">rex</span> <span style=\"background-color:rgba(135,206,250,0.19835444);\">dalla</span> <span style=\"background-color:rgba(135,206,250,0.05057912);\">cloying</span> <span style=\"background-color:rgba(135,206,250,0.10215875);\">kabinett</span> <span style=\"background-color:rgba(135,206,250,0.24759297);\">everywhere</span> <span style=\"background-color:rgba(135,206,250,0.07545336);\">effectively</span> <span style=\"background-color:rgba(135,206,250,0.97818875);\">samples</span> <span style=\"background-color:rgba(135,206,250,0.076551236);\">difficulty</span> <span style=\"background-color:rgba(135,206,250,0.097640604);\">represents</span> <span style=\"background-color:rgba(135,206,250,0.13252942);\">margaux</span> <span style=\"background-color:rgba(135,206,250,1.0);\">2027</span> <span style=\"background-color:rgba(135,206,250,0.46409187);\">markets</span> <span style=\"background-color:rgba(135,206,250,0.49152067);\">trimmings</span> <span style=\"background-color:rgba(135,206,250,0.3218379);\">victoire</span> <span style=\"background-color:rgba(135,206,250,0.2335158);\">matching</span>"
            ]
          },
          "metadata": {}
        },
        {
          "output_type": "stream",
          "name": "stdout",
          "text": [
            ".:   \t0.15000000596046448%\n",
            "the:   \t0.12999999523162842%\n",
            "to:   \t0.10000000149011612%\n",
            "its:   \t0.10000000149011612%\n",
            "[UNK]:   \t0.09000000357627869%\n",
            "--------\n",
            "\n"
          ]
        },
        {
          "output_type": "display_data",
          "data": {
            "text/plain": [
              "<IPython.core.display.HTML object>"
            ],
            "text/html": [
              "<span style=\"background-color:rgba(135,206,250,0.041221924);\">wine</span> <span style=\"background-color:rgba(135,206,250,0.05792955);\">review</span> <span style=\"background-color:rgba(135,206,250,0.0140721975);\">:</span> <span style=\"background-color:rgba(135,206,250,0.04122672);\">italy</span> <span style=\"background-color:rgba(135,206,250,0.113734275);\">component</span> <span style=\"background-color:rgba(135,206,250,0.19624268);\">monster</span> <span style=\"background-color:rgba(135,206,250,0.15129888);\">week</span> <span style=\"background-color:rgba(135,206,250,0.21926135);\">preserving</span> <span style=\"background-color:rgba(135,206,250,0.12350831);\">lightweight</span> <span style=\"background-color:rgba(135,206,250,0.06252193);\">macerated</span> <span style=\"background-color:rgba(135,206,250,0.03841261);\">lithe</span> <span style=\"background-color:rgba(135,206,250,0.035912406);\">outside</span> <span style=\"background-color:rgba(135,206,250,0.02748214);\">handful</span> <span style=\"background-color:rgba(135,206,250,0.04679437);\">chubby</span> <span style=\"background-color:rgba(135,206,250,0.015764784);\">wimpy</span> <span style=\"background-color:rgba(135,206,250,0.007306532);\">find</span> <span style=\"background-color:rgba(135,206,250,0.0039770217);\">jammy</span> <span style=\"background-color:rgba(135,206,250,0.031603236);\">resembling</span> <span style=\"background-color:rgba(135,206,250,0.021633537);\">wilson</span> <span style=\"background-color:rgba(135,206,250,0.02709818);\">champagnes</span> <span style=\"background-color:rgba(135,206,250,0.0045547583);\">nebbiolo</span> <span style=\"background-color:rgba(135,206,250,0.015633615);\">spends</span> <span style=\"background-color:rgba(135,206,250,0.013260561);\">Štajerska</span> <span style=\"background-color:rgba(135,206,250,0.019756904);\">prisoners</span> <span style=\"background-color:rgba(135,206,250,0.009011881);\">milky</span> <span style=\"background-color:rgba(135,206,250,0.0059543415);\">until</span> <span style=\"background-color:rgba(135,206,250,0.01646844);\">tiring</span> <span style=\"background-color:rgba(135,206,250,0.027619617);\">waves</span> <span style=\"background-color:rgba(135,206,250,0.005852524);\">as</span> <span style=\"background-color:rgba(135,206,250,0.010144604);\">herb</span> <span style=\"background-color:rgba(135,206,250,0.009043129);\">base</span> <span style=\"background-color:rgba(135,206,250,0.038996235);\">conner</span> <span style=\"background-color:rgba(135,206,250,0.0117195);\">buttercream</span> <span style=\"background-color:rgba(135,206,250,0.022072447);\">expected</span> <span style=\"background-color:rgba(135,206,250,0.013420907);\">heavier</span> <span style=\"background-color:rgba(135,206,250,0.02577193);\">serve</span> <span style=\"background-color:rgba(135,206,250,0.015164616);\">grab</span> <span style=\"background-color:rgba(135,206,250,0.01443506);\">dough</span> <span style=\"background-color:rgba(135,206,250,0.012695973);\">those</span> <span style=\"background-color:rgba(135,206,250,0.015463655);\">japanese</span> <span style=\"background-color:rgba(135,206,250,0.01800631);\">24</span> <span style=\"background-color:rgba(135,206,250,0.07081944);\">carpentry</span> <span style=\"background-color:rgba(135,206,250,0.039973896);\">margherita</span> <span style=\"background-color:rgba(135,206,250,0.036687117);\">grow</span> <span style=\"background-color:rgba(135,206,250,0.01659019);\">cocoa</span> <span style=\"background-color:rgba(135,206,250,0.013169513);\">raisiny</span> <span style=\"background-color:rgba(135,206,250,0.038610343);\">explodes</span> <span style=\"background-color:rgba(135,206,250,0.023954988);\">suit</span> <span style=\"background-color:rgba(135,206,250,0.0801207);\">rex</span> <span style=\"background-color:rgba(135,206,250,0.16673468);\">dalla</span> <span style=\"background-color:rgba(135,206,250,0.027326515);\">cloying</span> <span style=\"background-color:rgba(135,206,250,0.05475399);\">kabinett</span> <span style=\"background-color:rgba(135,206,250,0.085801765);\">everywhere</span> <span style=\"background-color:rgba(135,206,250,0.062333006);\">effectively</span> <span style=\"background-color:rgba(135,206,250,0.27497247);\">samples</span> <span style=\"background-color:rgba(135,206,250,0.09180742);\">difficulty</span> <span style=\"background-color:rgba(135,206,250,0.24775472);\">represents</span> <span style=\"background-color:rgba(135,206,250,0.14390004);\">margaux</span> <span style=\"background-color:rgba(135,206,250,0.32533154);\">2027</span> <span style=\"background-color:rgba(135,206,250,0.30256656);\">markets</span> <span style=\"background-color:rgba(135,206,250,1.0);\">trimmings</span> <span style=\"background-color:rgba(135,206,250,0.31882843);\">victoire</span> <span style=\"background-color:rgba(135,206,250,0.5047999);\">matching</span> <span style=\"background-color:rgba(135,206,250,0.21873038);\">californian</span>"
            ]
          },
          "metadata": {}
        },
        {
          "output_type": "stream",
          "name": "stdout",
          "text": [
            ".:   \t0.14000000059604645%\n",
            "red:   \t0.10000000149011612%\n",
            "in:   \t0.09000000357627869%\n",
            "grape:   \t0.07999999821186066%\n",
            "sip:   \t0.07999999821186066%\n",
            "--------\n",
            "\n"
          ]
        },
        {
          "output_type": "display_data",
          "data": {
            "text/plain": [
              "<IPython.core.display.HTML object>"
            ],
            "text/html": [
              "<span style=\"background-color:rgba(135,206,250,0.12802465);\">wine</span> <span style=\"background-color:rgba(135,206,250,0.12946454);\">review</span> <span style=\"background-color:rgba(135,206,250,0.040199976);\">:</span> <span style=\"background-color:rgba(135,206,250,0.09110038);\">italy</span> <span style=\"background-color:rgba(135,206,250,0.17967424);\">component</span> <span style=\"background-color:rgba(135,206,250,0.15751307);\">monster</span> <span style=\"background-color:rgba(135,206,250,0.09833204);\">week</span> <span style=\"background-color:rgba(135,206,250,0.2907558);\">preserving</span> <span style=\"background-color:rgba(135,206,250,0.11415161);\">lightweight</span> <span style=\"background-color:rgba(135,206,250,0.037603054);\">macerated</span> <span style=\"background-color:rgba(135,206,250,0.031558067);\">lithe</span> <span style=\"background-color:rgba(135,206,250,0.074813634);\">outside</span> <span style=\"background-color:rgba(135,206,250,0.06506733);\">handful</span> <span style=\"background-color:rgba(135,206,250,0.050256938);\">chubby</span> <span style=\"background-color:rgba(135,206,250,0.02518697);\">wimpy</span> <span style=\"background-color:rgba(135,206,250,0.019576576);\">find</span> <span style=\"background-color:rgba(135,206,250,0.012220203);\">jammy</span> <span style=\"background-color:rgba(135,206,250,0.035734095);\">resembling</span> <span style=\"background-color:rgba(135,206,250,0.021359263);\">wilson</span> <span style=\"background-color:rgba(135,206,250,0.024952576);\">champagnes</span> <span style=\"background-color:rgba(135,206,250,0.008693204);\">nebbiolo</span> <span style=\"background-color:rgba(135,206,250,0.03359987);\">spends</span> <span style=\"background-color:rgba(135,206,250,0.024928398);\">Štajerska</span> <span style=\"background-color:rgba(135,206,250,0.0124781905);\">prisoners</span> <span style=\"background-color:rgba(135,206,250,0.0155881625);\">milky</span> <span style=\"background-color:rgba(135,206,250,0.011499192);\">until</span> <span style=\"background-color:rgba(135,206,250,0.041059885);\">tiring</span> <span style=\"background-color:rgba(135,206,250,0.034113757);\">waves</span> <span style=\"background-color:rgba(135,206,250,0.025042204);\">as</span> <span style=\"background-color:rgba(135,206,250,0.026259141);\">herb</span> <span style=\"background-color:rgba(135,206,250,0.023804253);\">base</span> <span style=\"background-color:rgba(135,206,250,0.066371426);\">conner</span> <span style=\"background-color:rgba(135,206,250,0.023282312);\">buttercream</span> <span style=\"background-color:rgba(135,206,250,0.02413159);\">expected</span> <span style=\"background-color:rgba(135,206,250,0.032520995);\">heavier</span> <span style=\"background-color:rgba(135,206,250,0.042336218);\">serve</span> <span style=\"background-color:rgba(135,206,250,0.024006769);\">grab</span> <span style=\"background-color:rgba(135,206,250,0.034217637);\">dough</span> <span style=\"background-color:rgba(135,206,250,0.045962017);\">those</span> <span style=\"background-color:rgba(135,206,250,0.03376631);\">japanese</span> <span style=\"background-color:rgba(135,206,250,0.017625503);\">24</span> <span style=\"background-color:rgba(135,206,250,0.09605923);\">carpentry</span> <span style=\"background-color:rgba(135,206,250,0.064023346);\">margherita</span> <span style=\"background-color:rgba(135,206,250,0.0605383);\">grow</span> <span style=\"background-color:rgba(135,206,250,0.03684309);\">cocoa</span> <span style=\"background-color:rgba(135,206,250,0.033246756);\">raisiny</span> <span style=\"background-color:rgba(135,206,250,0.06309523);\">explodes</span> <span style=\"background-color:rgba(135,206,250,0.049145438);\">suit</span> <span style=\"background-color:rgba(135,206,250,0.12939218);\">rex</span> <span style=\"background-color:rgba(135,206,250,0.19753993);\">dalla</span> <span style=\"background-color:rgba(135,206,250,0.04399528);\">cloying</span> <span style=\"background-color:rgba(135,206,250,0.08978946);\">kabinett</span> <span style=\"background-color:rgba(135,206,250,0.09709473);\">everywhere</span> <span style=\"background-color:rgba(135,206,250,0.14726043);\">effectively</span> <span style=\"background-color:rgba(135,206,250,0.32802638);\">samples</span> <span style=\"background-color:rgba(135,206,250,0.12252191);\">difficulty</span> <span style=\"background-color:rgba(135,206,250,0.30804047);\">represents</span> <span style=\"background-color:rgba(135,206,250,0.17535786);\">margaux</span> <span style=\"background-color:rgba(135,206,250,0.4135923);\">2027</span> <span style=\"background-color:rgba(135,206,250,0.32320482);\">markets</span> <span style=\"background-color:rgba(135,206,250,0.8599206);\">trimmings</span> <span style=\"background-color:rgba(135,206,250,0.43124866);\">victoire</span> <span style=\"background-color:rgba(135,206,250,1.0);\">matching</span> <span style=\"background-color:rgba(135,206,250,0.65583944);\">californian</span> <span style=\"background-color:rgba(135,206,250,0.70221734);\">corbières</span>"
            ]
          },
          "metadata": {}
        },
        {
          "output_type": "stream",
          "name": "stdout",
          "text": [
            ".:   \t0.18000000715255737%\n",
            "with:   \t0.10000000149011612%\n",
            "':   \t0.10000000149011612%\n",
            "roots:   \t0.09000000357627869%\n",
            "without:   \t0.09000000357627869%\n",
            "--------\n",
            "\n"
          ]
        },
        {
          "output_type": "display_data",
          "data": {
            "text/plain": [
              "<IPython.core.display.HTML object>"
            ],
            "text/html": [
              "<span style=\"background-color:rgba(135,206,250,0.053985145);\">wine</span> <span style=\"background-color:rgba(135,206,250,0.05814955);\">review</span> <span style=\"background-color:rgba(135,206,250,0.031920455);\">:</span> <span style=\"background-color:rgba(135,206,250,0.08404342);\">italy</span> <span style=\"background-color:rgba(135,206,250,0.1272245);\">component</span> <span style=\"background-color:rgba(135,206,250,0.13676608);\">monster</span> <span style=\"background-color:rgba(135,206,250,0.13974369);\">week</span> <span style=\"background-color:rgba(135,206,250,0.09543258);\">preserving</span> <span style=\"background-color:rgba(135,206,250,0.15138318);\">lightweight</span> <span style=\"background-color:rgba(135,206,250,0.047748704);\">macerated</span> <span style=\"background-color:rgba(135,206,250,0.049637694);\">lithe</span> <span style=\"background-color:rgba(135,206,250,0.045915164);\">outside</span> <span style=\"background-color:rgba(135,206,250,0.023168398);\">handful</span> <span style=\"background-color:rgba(135,206,250,0.060511198);\">chubby</span> <span style=\"background-color:rgba(135,206,250,0.021702135);\">wimpy</span> <span style=\"background-color:rgba(135,206,250,0.008380385);\">find</span> <span style=\"background-color:rgba(135,206,250,0.009147422);\">jammy</span> <span style=\"background-color:rgba(135,206,250,0.028834645);\">resembling</span> <span style=\"background-color:rgba(135,206,250,0.025575446);\">wilson</span> <span style=\"background-color:rgba(135,206,250,0.026620233);\">champagnes</span> <span style=\"background-color:rgba(135,206,250,0.013143859);\">nebbiolo</span> <span style=\"background-color:rgba(135,206,250,0.013145752);\">spends</span> <span style=\"background-color:rgba(135,206,250,0.024611434);\">Štajerska</span> <span style=\"background-color:rgba(135,206,250,0.030309672);\">prisoners</span> <span style=\"background-color:rgba(135,206,250,0.013692592);\">milky</span> <span style=\"background-color:rgba(135,206,250,0.00888724);\">until</span> <span style=\"background-color:rgba(135,206,250,0.031103946);\">tiring</span> <span style=\"background-color:rgba(135,206,250,0.024816623);\">waves</span> <span style=\"background-color:rgba(135,206,250,0.011070014);\">as</span> <span style=\"background-color:rgba(135,206,250,0.032445017);\">herb</span> <span style=\"background-color:rgba(135,206,250,0.022303035);\">base</span> <span style=\"background-color:rgba(135,206,250,0.053177513);\">conner</span> <span style=\"background-color:rgba(135,206,250,0.03512684);\">buttercream</span> <span style=\"background-color:rgba(135,206,250,0.026045622);\">expected</span> <span style=\"background-color:rgba(135,206,250,0.020590372);\">heavier</span> <span style=\"background-color:rgba(135,206,250,0.038696446);\">serve</span> <span style=\"background-color:rgba(135,206,250,0.021297073);\">grab</span> <span style=\"background-color:rgba(135,206,250,0.043331854);\">dough</span> <span style=\"background-color:rgba(135,206,250,0.019984327);\">those</span> <span style=\"background-color:rgba(135,206,250,0.04997613);\">japanese</span> <span style=\"background-color:rgba(135,206,250,0.031022731);\">24</span> <span style=\"background-color:rgba(135,206,250,0.11554103);\">carpentry</span> <span style=\"background-color:rgba(135,206,250,0.061407086);\">margherita</span> <span style=\"background-color:rgba(135,206,250,0.03861859);\">grow</span> <span style=\"background-color:rgba(135,206,250,0.037261654);\">cocoa</span> <span style=\"background-color:rgba(135,206,250,0.030308334);\">raisiny</span> <span style=\"background-color:rgba(135,206,250,0.050460245);\">explodes</span> <span style=\"background-color:rgba(135,206,250,0.033907086);\">suit</span> <span style=\"background-color:rgba(135,206,250,0.12503494);\">rex</span> <span style=\"background-color:rgba(135,206,250,0.1904759);\">dalla</span> <span style=\"background-color:rgba(135,206,250,0.06068344);\">cloying</span> <span style=\"background-color:rgba(135,206,250,0.102167726);\">kabinett</span> <span style=\"background-color:rgba(135,206,250,0.18048826);\">everywhere</span> <span style=\"background-color:rgba(135,206,250,0.099151365);\">effectively</span> <span style=\"background-color:rgba(135,206,250,0.42434606);\">samples</span> <span style=\"background-color:rgba(135,206,250,0.105662584);\">difficulty</span> <span style=\"background-color:rgba(135,206,250,0.24251391);\">represents</span> <span style=\"background-color:rgba(135,206,250,0.20228755);\">margaux</span> <span style=\"background-color:rgba(135,206,250,0.53769416);\">2027</span> <span style=\"background-color:rgba(135,206,250,0.48154277);\">markets</span> <span style=\"background-color:rgba(135,206,250,0.8536676);\">trimmings</span> <span style=\"background-color:rgba(135,206,250,0.4385875);\">victoire</span> <span style=\"background-color:rgba(135,206,250,0.43175444);\">matching</span> <span style=\"background-color:rgba(135,206,250,0.59911716);\">californian</span> <span style=\"background-color:rgba(135,206,250,1.0);\">corbières</span> <span style=\"background-color:rgba(135,206,250,0.19761942);\">drenched</span>"
            ]
          },
          "metadata": {}
        },
        {
          "output_type": "stream",
          "name": "stdout",
          "text": [
            "in:   \t0.17000000178813934%\n",
            ".:   \t0.10999999940395355%\n",
            "territory:   \t0.10999999940395355%\n",
            "on:   \t0.10000000149011612%\n",
            "':   \t0.10000000149011612%\n",
            "--------\n",
            "\n"
          ]
        },
        {
          "output_type": "display_data",
          "data": {
            "text/plain": [
              "<IPython.core.display.HTML object>"
            ],
            "text/html": [
              "<span style=\"background-color:rgba(135,206,250,0.036972247);\">wine</span> <span style=\"background-color:rgba(135,206,250,0.060668696);\">review</span> <span style=\"background-color:rgba(135,206,250,0.023302872);\">:</span> <span style=\"background-color:rgba(135,206,250,0.07329848);\">italy</span> <span style=\"background-color:rgba(135,206,250,0.05763637);\">component</span> <span style=\"background-color:rgba(135,206,250,0.12099694);\">monster</span> <span style=\"background-color:rgba(135,206,250,0.090882964);\">week</span> <span style=\"background-color:rgba(135,206,250,0.09355335);\">preserving</span> <span style=\"background-color:rgba(135,206,250,0.08461061);\">lightweight</span> <span style=\"background-color:rgba(135,206,250,0.02176963);\">macerated</span> <span style=\"background-color:rgba(135,206,250,0.024049655);\">lithe</span> <span style=\"background-color:rgba(135,206,250,0.03840772);\">outside</span> <span style=\"background-color:rgba(135,206,250,0.035968732);\">handful</span> <span style=\"background-color:rgba(135,206,250,0.04306017);\">chubby</span> <span style=\"background-color:rgba(135,206,250,0.022624338);\">wimpy</span> <span style=\"background-color:rgba(135,206,250,0.014175325);\">find</span> <span style=\"background-color:rgba(135,206,250,0.0058502103);\">jammy</span> <span style=\"background-color:rgba(135,206,250,0.032296866);\">resembling</span> <span style=\"background-color:rgba(135,206,250,0.012277774);\">wilson</span> <span style=\"background-color:rgba(135,206,250,0.020853216);\">champagnes</span> <span style=\"background-color:rgba(135,206,250,0.0055069053);\">nebbiolo</span> <span style=\"background-color:rgba(135,206,250,0.012963108);\">spends</span> <span style=\"background-color:rgba(135,206,250,0.014278194);\">Štajerska</span> <span style=\"background-color:rgba(135,206,250,0.044307183);\">prisoners</span> <span style=\"background-color:rgba(135,206,250,0.0067606024);\">milky</span> <span style=\"background-color:rgba(135,206,250,0.009780622);\">until</span> <span style=\"background-color:rgba(135,206,250,0.027941776);\">tiring</span> <span style=\"background-color:rgba(135,206,250,0.023160292);\">waves</span> <span style=\"background-color:rgba(135,206,250,0.010126479);\">as</span> <span style=\"background-color:rgba(135,206,250,0.010394013);\">herb</span> <span style=\"background-color:rgba(135,206,250,0.020388313);\">base</span> <span style=\"background-color:rgba(135,206,250,0.029302677);\">conner</span> <span style=\"background-color:rgba(135,206,250,0.016988799);\">buttercream</span> <span style=\"background-color:rgba(135,206,250,0.017704701);\">expected</span> <span style=\"background-color:rgba(135,206,250,0.015886083);\">heavier</span> <span style=\"background-color:rgba(135,206,250,0.037252937);\">serve</span> <span style=\"background-color:rgba(135,206,250,0.018445807);\">grab</span> <span style=\"background-color:rgba(135,206,250,0.02075086);\">dough</span> <span style=\"background-color:rgba(135,206,250,0.015861912);\">those</span> <span style=\"background-color:rgba(135,206,250,0.024964748);\">japanese</span> <span style=\"background-color:rgba(135,206,250,0.020624088);\">24</span> <span style=\"background-color:rgba(135,206,250,0.09511969);\">carpentry</span> <span style=\"background-color:rgba(135,206,250,0.045614097);\">margherita</span> <span style=\"background-color:rgba(135,206,250,0.036466252);\">grow</span> <span style=\"background-color:rgba(135,206,250,0.016959826);\">cocoa</span> <span style=\"background-color:rgba(135,206,250,0.019963145);\">raisiny</span> <span style=\"background-color:rgba(135,206,250,0.042119313);\">explodes</span> <span style=\"background-color:rgba(135,206,250,0.048131123);\">suit</span> <span style=\"background-color:rgba(135,206,250,0.15667063);\">rex</span> <span style=\"background-color:rgba(135,206,250,0.15046467);\">dalla</span> <span style=\"background-color:rgba(135,206,250,0.046632335);\">cloying</span> <span style=\"background-color:rgba(135,206,250,0.060324997);\">kabinett</span> <span style=\"background-color:rgba(135,206,250,0.09314113);\">everywhere</span> <span style=\"background-color:rgba(135,206,250,0.09063471);\">effectively</span> <span style=\"background-color:rgba(135,206,250,0.35033083);\">samples</span> <span style=\"background-color:rgba(135,206,250,0.06275614);\">difficulty</span> <span style=\"background-color:rgba(135,206,250,0.15521279);\">represents</span> <span style=\"background-color:rgba(135,206,250,0.15032752);\">margaux</span> <span style=\"background-color:rgba(135,206,250,0.4669266);\">2027</span> <span style=\"background-color:rgba(135,206,250,0.3330101);\">markets</span> <span style=\"background-color:rgba(135,206,250,0.6350035);\">trimmings</span> <span style=\"background-color:rgba(135,206,250,0.33494005);\">victoire</span> <span style=\"background-color:rgba(135,206,250,0.4835188);\">matching</span> <span style=\"background-color:rgba(135,206,250,0.38851014);\">californian</span> <span style=\"background-color:rgba(135,206,250,1.0);\">corbières</span> <span style=\"background-color:rgba(135,206,250,0.46585888);\">drenched</span> <span style=\"background-color:rgba(135,206,250,0.29027912);\">side</span>"
            ]
          },
          "metadata": {}
        },
        {
          "output_type": "stream",
          "name": "stdout",
          "text": [
            ".:   \t0.25999999046325684%\n",
            "with:   \t0.15000000596046448%\n",
            "of:   \t0.15000000596046448%\n",
            ",:   \t0.10999999940395355%\n",
            "and:   \t0.10999999940395355%\n",
            "--------\n",
            "\n"
          ]
        },
        {
          "output_type": "display_data",
          "data": {
            "text/plain": [
              "<IPython.core.display.HTML object>"
            ],
            "text/html": [
              "<span style=\"background-color:rgba(135,206,250,0.06919278);\">wine</span> <span style=\"background-color:rgba(135,206,250,0.08797528);\">review</span> <span style=\"background-color:rgba(135,206,250,0.035596203);\">:</span> <span style=\"background-color:rgba(135,206,250,0.08952332);\">italy</span> <span style=\"background-color:rgba(135,206,250,0.14054418);\">component</span> <span style=\"background-color:rgba(135,206,250,0.20459682);\">monster</span> <span style=\"background-color:rgba(135,206,250,0.15089335);\">week</span> <span style=\"background-color:rgba(135,206,250,0.25092667);\">preserving</span> <span style=\"background-color:rgba(135,206,250,0.1172828);\">lightweight</span> <span style=\"background-color:rgba(135,206,250,0.07028745);\">macerated</span> <span style=\"background-color:rgba(135,206,250,0.034821417);\">lithe</span> <span style=\"background-color:rgba(135,206,250,0.061417554);\">outside</span> <span style=\"background-color:rgba(135,206,250,0.06896207);\">handful</span> <span style=\"background-color:rgba(135,206,250,0.048222102);\">chubby</span> <span style=\"background-color:rgba(135,206,250,0.04624377);\">wimpy</span> <span style=\"background-color:rgba(135,206,250,0.0269663);\">find</span> <span style=\"background-color:rgba(135,206,250,0.017965574);\">jammy</span> <span style=\"background-color:rgba(135,206,250,0.06525897);\">resembling</span> <span style=\"background-color:rgba(135,206,250,0.031153128);\">wilson</span> <span style=\"background-color:rgba(135,206,250,0.03354545);\">champagnes</span> <span style=\"background-color:rgba(135,206,250,0.011174757);\">nebbiolo</span> <span style=\"background-color:rgba(135,206,250,0.028179592);\">spends</span> <span style=\"background-color:rgba(135,206,250,0.022971297);\">Štajerska</span> <span style=\"background-color:rgba(135,206,250,0.027802218);\">prisoners</span> <span style=\"background-color:rgba(135,206,250,0.017347492);\">milky</span> <span style=\"background-color:rgba(135,206,250,0.013994802);\">until</span> <span style=\"background-color:rgba(135,206,250,0.02858326);\">tiring</span> <span style=\"background-color:rgba(135,206,250,0.038130946);\">waves</span> <span style=\"background-color:rgba(135,206,250,0.017784053);\">as</span> <span style=\"background-color:rgba(135,206,250,0.019878976);\">herb</span> <span style=\"background-color:rgba(135,206,250,0.03100494);\">base</span> <span style=\"background-color:rgba(135,206,250,0.050049327);\">conner</span> <span style=\"background-color:rgba(135,206,250,0.025777776);\">buttercream</span> <span style=\"background-color:rgba(135,206,250,0.03630388);\">expected</span> <span style=\"background-color:rgba(135,206,250,0.036418434);\">heavier</span> <span style=\"background-color:rgba(135,206,250,0.040874474);\">serve</span> <span style=\"background-color:rgba(135,206,250,0.027615467);\">grab</span> <span style=\"background-color:rgba(135,206,250,0.0353782);\">dough</span> <span style=\"background-color:rgba(135,206,250,0.04743528);\">those</span> <span style=\"background-color:rgba(135,206,250,0.033756554);\">japanese</span> <span style=\"background-color:rgba(135,206,250,0.043732256);\">24</span> <span style=\"background-color:rgba(135,206,250,0.122291364);\">carpentry</span> <span style=\"background-color:rgba(135,206,250,0.07498705);\">margherita</span> <span style=\"background-color:rgba(135,206,250,0.06719454);\">grow</span> <span style=\"background-color:rgba(135,206,250,0.030658394);\">cocoa</span> <span style=\"background-color:rgba(135,206,250,0.038467724);\">raisiny</span> <span style=\"background-color:rgba(135,206,250,0.08629865);\">explodes</span> <span style=\"background-color:rgba(135,206,250,0.06996171);\">suit</span> <span style=\"background-color:rgba(135,206,250,0.16119869);\">rex</span> <span style=\"background-color:rgba(135,206,250,0.21590649);\">dalla</span> <span style=\"background-color:rgba(135,206,250,0.051832676);\">cloying</span> <span style=\"background-color:rgba(135,206,250,0.06616289);\">kabinett</span> <span style=\"background-color:rgba(135,206,250,0.09227124);\">everywhere</span> <span style=\"background-color:rgba(135,206,250,0.15271373);\">effectively</span> <span style=\"background-color:rgba(135,206,250,0.30173296);\">samples</span> <span style=\"background-color:rgba(135,206,250,0.10064119);\">difficulty</span> <span style=\"background-color:rgba(135,206,250,0.40065205);\">represents</span> <span style=\"background-color:rgba(135,206,250,0.19749506);\">margaux</span> <span style=\"background-color:rgba(135,206,250,0.42448416);\">2027</span> <span style=\"background-color:rgba(135,206,250,0.45033118);\">markets</span> <span style=\"background-color:rgba(135,206,250,1.0);\">trimmings</span> <span style=\"background-color:rgba(135,206,250,0.39794007);\">victoire</span> <span style=\"background-color:rgba(135,206,250,0.8099334);\">matching</span> <span style=\"background-color:rgba(135,206,250,0.5820982);\">californian</span> <span style=\"background-color:rgba(135,206,250,0.6690106);\">corbières</span> <span style=\"background-color:rgba(135,206,250,0.31780082);\">drenched</span> <span style=\"background-color:rgba(135,206,250,0.64252985);\">side</span> <span style=\"background-color:rgba(135,206,250,0.19041276);\">peanuts</span>"
            ]
          },
          "metadata": {}
        },
        {
          "output_type": "stream",
          "name": "stdout",
          "text": [
            ".:   \t0.23999999463558197%\n",
            "on:   \t0.14000000059604645%\n",
            "with:   \t0.12999999523162842%\n",
            "and:   \t0.11999999731779099%\n",
            "in:   \t0.10999999940395355%\n",
            "--------\n",
            "\n"
          ]
        },
        {
          "output_type": "display_data",
          "data": {
            "text/plain": [
              "<IPython.core.display.HTML object>"
            ],
            "text/html": [
              "<span style=\"background-color:rgba(135,206,250,0.11170174);\">wine</span> <span style=\"background-color:rgba(135,206,250,0.09785156);\">review</span> <span style=\"background-color:rgba(135,206,250,0.0699642);\">:</span> <span style=\"background-color:rgba(135,206,250,0.18864407);\">italy</span> <span style=\"background-color:rgba(135,206,250,0.34150603);\">component</span> <span style=\"background-color:rgba(135,206,250,0.37668225);\">monster</span> <span style=\"background-color:rgba(135,206,250,0.37798792);\">week</span> <span style=\"background-color:rgba(135,206,250,0.30468798);\">preserving</span> <span style=\"background-color:rgba(135,206,250,0.24329148);\">lightweight</span> <span style=\"background-color:rgba(135,206,250,0.10523285);\">macerated</span> <span style=\"background-color:rgba(135,206,250,0.068863936);\">lithe</span> <span style=\"background-color:rgba(135,206,250,0.07165396);\">outside</span> <span style=\"background-color:rgba(135,206,250,0.04536096);\">handful</span> <span style=\"background-color:rgba(135,206,250,0.16928665);\">chubby</span> <span style=\"background-color:rgba(135,206,250,0.048052784);\">wimpy</span> <span style=\"background-color:rgba(135,206,250,0.010450285);\">find</span> <span style=\"background-color:rgba(135,206,250,0.013528855);\">jammy</span> <span style=\"background-color:rgba(135,206,250,0.03471671);\">resembling</span> <span style=\"background-color:rgba(135,206,250,0.032770544);\">wilson</span> <span style=\"background-color:rgba(135,206,250,0.0375364);\">champagnes</span> <span style=\"background-color:rgba(135,206,250,0.010412071);\">nebbiolo</span> <span style=\"background-color:rgba(135,206,250,0.020939158);\">spends</span> <span style=\"background-color:rgba(135,206,250,0.025430204);\">Štajerska</span> <span style=\"background-color:rgba(135,206,250,0.040044095);\">prisoners</span> <span style=\"background-color:rgba(135,206,250,0.01079606);\">milky</span> <span style=\"background-color:rgba(135,206,250,0.0116734095);\">until</span> <span style=\"background-color:rgba(135,206,250,0.038902216);\">tiring</span> <span style=\"background-color:rgba(135,206,250,0.031152323);\">waves</span> <span style=\"background-color:rgba(135,206,250,0.015753945);\">as</span> <span style=\"background-color:rgba(135,206,250,0.033305597);\">herb</span> <span style=\"background-color:rgba(135,206,250,0.018537998);\">base</span> <span style=\"background-color:rgba(135,206,250,0.07178273);\">conner</span> <span style=\"background-color:rgba(135,206,250,0.034393493);\">buttercream</span> <span style=\"background-color:rgba(135,206,250,0.02097491);\">expected</span> <span style=\"background-color:rgba(135,206,250,0.023886591);\">heavier</span> <span style=\"background-color:rgba(135,206,250,0.047532808);\">serve</span> <span style=\"background-color:rgba(135,206,250,0.019820582);\">grab</span> <span style=\"background-color:rgba(135,206,250,0.06320595);\">dough</span> <span style=\"background-color:rgba(135,206,250,0.027810989);\">those</span> <span style=\"background-color:rgba(135,206,250,0.053789284);\">japanese</span> <span style=\"background-color:rgba(135,206,250,0.023062794);\">24</span> <span style=\"background-color:rgba(135,206,250,0.25048724);\">carpentry</span> <span style=\"background-color:rgba(135,206,250,0.08190395);\">margherita</span> <span style=\"background-color:rgba(135,206,250,0.034368094);\">grow</span> <span style=\"background-color:rgba(135,206,250,0.034013994);\">cocoa</span> <span style=\"background-color:rgba(135,206,250,0.041174736);\">raisiny</span> <span style=\"background-color:rgba(135,206,250,0.044004586);\">explodes</span> <span style=\"background-color:rgba(135,206,250,0.044647828);\">suit</span> <span style=\"background-color:rgba(135,206,250,0.35663003);\">rex</span> <span style=\"background-color:rgba(135,206,250,0.3041188);\">dalla</span> <span style=\"background-color:rgba(135,206,250,0.06345029);\">cloying</span> <span style=\"background-color:rgba(135,206,250,0.18181679);\">kabinett</span> <span style=\"background-color:rgba(135,206,250,0.18773371);\">everywhere</span> <span style=\"background-color:rgba(135,206,250,0.129167);\">effectively</span> <span style=\"background-color:rgba(135,206,250,0.78725564);\">samples</span> <span style=\"background-color:rgba(135,206,250,0.15018605);\">difficulty</span> <span style=\"background-color:rgba(135,206,250,0.16992922);\">represents</span> <span style=\"background-color:rgba(135,206,250,0.18437791);\">margaux</span> <span style=\"background-color:rgba(135,206,250,1.0);\">2027</span> <span style=\"background-color:rgba(135,206,250,0.44129735);\">markets</span> <span style=\"background-color:rgba(135,206,250,0.426204);\">trimmings</span> <span style=\"background-color:rgba(135,206,250,0.27640024);\">victoire</span> <span style=\"background-color:rgba(135,206,250,0.26056838);\">matching</span> <span style=\"background-color:rgba(135,206,250,0.68689555);\">californian</span> <span style=\"background-color:rgba(135,206,250,0.8134199);\">corbières</span> <span style=\"background-color:rgba(135,206,250,0.63518405);\">drenched</span> <span style=\"background-color:rgba(135,206,250,0.30938017);\">side</span> <span style=\"background-color:rgba(135,206,250,0.87362236);\">peanuts</span> <span style=\"background-color:rgba(135,206,250,0.67448354);\">cracked</span>"
            ]
          },
          "metadata": {}
        },
        {
          "output_type": "stream",
          "name": "stdout",
          "text": [
            "pepper:   \t0.25999999046325684%\n",
            "white:   \t0.14000000059604645%\n",
            "[UNK]:   \t0.14000000059604645%\n",
            "crab:   \t0.12999999523162842%\n",
            ".:   \t0.11999999731779099%\n",
            "--------\n",
            "\n"
          ]
        },
        {
          "output_type": "display_data",
          "data": {
            "text/plain": [
              "<IPython.core.display.HTML object>"
            ],
            "text/html": [
              "<span style=\"background-color:rgba(135,206,250,0.05939608);\">wine</span> <span style=\"background-color:rgba(135,206,250,0.082750075);\">review</span> <span style=\"background-color:rgba(135,206,250,0.04694243);\">:</span> <span style=\"background-color:rgba(135,206,250,0.09545677);\">italy</span> <span style=\"background-color:rgba(135,206,250,0.11193606);\">component</span> <span style=\"background-color:rgba(135,206,250,0.0914282);\">monster</span> <span style=\"background-color:rgba(135,206,250,0.12620775);\">week</span> <span style=\"background-color:rgba(135,206,250,0.08573407);\">preserving</span> <span style=\"background-color:rgba(135,206,250,0.08156265);\">lightweight</span> <span style=\"background-color:rgba(135,206,250,0.019193117);\">macerated</span> <span style=\"background-color:rgba(135,206,250,0.022378497);\">lithe</span> <span style=\"background-color:rgba(135,206,250,0.05274988);\">outside</span> <span style=\"background-color:rgba(135,206,250,0.033554498);\">handful</span> <span style=\"background-color:rgba(135,206,250,0.046907067);\">chubby</span> <span style=\"background-color:rgba(135,206,250,0.013007652);\">wimpy</span> <span style=\"background-color:rgba(135,206,250,0.009731631);\">find</span> <span style=\"background-color:rgba(135,206,250,0.0066994014);\">jammy</span> <span style=\"background-color:rgba(135,206,250,0.028469732);\">resembling</span> <span style=\"background-color:rgba(135,206,250,0.013469294);\">wilson</span> <span style=\"background-color:rgba(135,206,250,0.016049784);\">champagnes</span> <span style=\"background-color:rgba(135,206,250,0.010179216);\">nebbiolo</span> <span style=\"background-color:rgba(135,206,250,0.011715908);\">spends</span> <span style=\"background-color:rgba(135,206,250,0.01813597);\">Štajerska</span> <span style=\"background-color:rgba(135,206,250,0.04377151);\">prisoners</span> <span style=\"background-color:rgba(135,206,250,0.0074006566);\">milky</span> <span style=\"background-color:rgba(135,206,250,0.008782624);\">until</span> <span style=\"background-color:rgba(135,206,250,0.025134904);\">tiring</span> <span style=\"background-color:rgba(135,206,250,0.021037266);\">waves</span> <span style=\"background-color:rgba(135,206,250,0.010447014);\">as</span> <span style=\"background-color:rgba(135,206,250,0.02527865);\">herb</span> <span style=\"background-color:rgba(135,206,250,0.01887599);\">base</span> <span style=\"background-color:rgba(135,206,250,0.056343324);\">conner</span> <span style=\"background-color:rgba(135,206,250,0.027790839);\">buttercream</span> <span style=\"background-color:rgba(135,206,250,0.020113984);\">expected</span> <span style=\"background-color:rgba(135,206,250,0.018848894);\">heavier</span> <span style=\"background-color:rgba(135,206,250,0.041694157);\">serve</span> <span style=\"background-color:rgba(135,206,250,0.017202007);\">grab</span> <span style=\"background-color:rgba(135,206,250,0.04286671);\">dough</span> <span style=\"background-color:rgba(135,206,250,0.027169649);\">those</span> <span style=\"background-color:rgba(135,206,250,0.045482364);\">japanese</span> <span style=\"background-color:rgba(135,206,250,0.020045975);\">24</span> <span style=\"background-color:rgba(135,206,250,0.14064027);\">carpentry</span> <span style=\"background-color:rgba(135,206,250,0.04132197);\">margherita</span> <span style=\"background-color:rgba(135,206,250,0.028687187);\">grow</span> <span style=\"background-color:rgba(135,206,250,0.024599804);\">cocoa</span> <span style=\"background-color:rgba(135,206,250,0.025993671);\">raisiny</span> <span style=\"background-color:rgba(135,206,250,0.03495119);\">explodes</span> <span style=\"background-color:rgba(135,206,250,0.034878768);\">suit</span> <span style=\"background-color:rgba(135,206,250,0.20288567);\">rex</span> <span style=\"background-color:rgba(135,206,250,0.12034946);\">dalla</span> <span style=\"background-color:rgba(135,206,250,0.057141297);\">cloying</span> <span style=\"background-color:rgba(135,206,250,0.06592298);\">kabinett</span> <span style=\"background-color:rgba(135,206,250,0.1561862);\">everywhere</span> <span style=\"background-color:rgba(135,206,250,0.08559594);\">effectively</span> <span style=\"background-color:rgba(135,206,250,0.3336395);\">samples</span> <span style=\"background-color:rgba(135,206,250,0.054511398);\">difficulty</span> <span style=\"background-color:rgba(135,206,250,0.0696079);\">represents</span> <span style=\"background-color:rgba(135,206,250,0.1081906);\">margaux</span> <span style=\"background-color:rgba(135,206,250,0.5423271);\">2027</span> <span style=\"background-color:rgba(135,206,250,0.17534469);\">markets</span> <span style=\"background-color:rgba(135,206,250,0.3914245);\">trimmings</span> <span style=\"background-color:rgba(135,206,250,0.13679351);\">victoire</span> <span style=\"background-color:rgba(135,206,250,0.2834652);\">matching</span> <span style=\"background-color:rgba(135,206,250,0.2438068);\">californian</span> <span style=\"background-color:rgba(135,206,250,1.0);\">corbières</span> <span style=\"background-color:rgba(135,206,250,0.22791217);\">drenched</span> <span style=\"background-color:rgba(135,206,250,0.2188532);\">side</span> <span style=\"background-color:rgba(135,206,250,0.68935615);\">peanuts</span> <span style=\"background-color:rgba(135,206,250,0.91600394);\">cracked</span> <span style=\"background-color:rgba(135,206,250,0.22238636);\">honor</span>"
            ]
          },
          "metadata": {}
        },
        {
          "output_type": "stream",
          "name": "stdout",
          "text": [
            ".:   \t0.10999999940395355%\n",
            "who:   \t0.09000000357627869%\n",
            "on:   \t0.07999999821186066%\n",
            "in:   \t0.07999999821186066%\n",
            "to:   \t0.07999999821186066%\n",
            "--------\n",
            "\n"
          ]
        },
        {
          "output_type": "display_data",
          "data": {
            "text/plain": [
              "<IPython.core.display.HTML object>"
            ],
            "text/html": [
              "<span style=\"background-color:rgba(135,206,250,0.06470491);\">wine</span> <span style=\"background-color:rgba(135,206,250,0.086406484);\">review</span> <span style=\"background-color:rgba(135,206,250,0.038134035);\">:</span> <span style=\"background-color:rgba(135,206,250,0.06764849);\">italy</span> <span style=\"background-color:rgba(135,206,250,0.100551896);\">component</span> <span style=\"background-color:rgba(135,206,250,0.20215745);\">monster</span> <span style=\"background-color:rgba(135,206,250,0.13570891);\">week</span> <span style=\"background-color:rgba(135,206,250,0.09480898);\">preserving</span> <span style=\"background-color:rgba(135,206,250,0.108065695);\">lightweight</span> <span style=\"background-color:rgba(135,206,250,0.024003254);\">macerated</span> <span style=\"background-color:rgba(135,206,250,0.029294072);\">lithe</span> <span style=\"background-color:rgba(135,206,250,0.040827133);\">outside</span> <span style=\"background-color:rgba(135,206,250,0.042628907);\">handful</span> <span style=\"background-color:rgba(135,206,250,0.061626803);\">chubby</span> <span style=\"background-color:rgba(135,206,250,0.029686403);\">wimpy</span> <span style=\"background-color:rgba(135,206,250,0.014535025);\">find</span> <span style=\"background-color:rgba(135,206,250,0.01116127);\">jammy</span> <span style=\"background-color:rgba(135,206,250,0.029510116);\">resembling</span> <span style=\"background-color:rgba(135,206,250,0.02195529);\">wilson</span> <span style=\"background-color:rgba(135,206,250,0.020993609);\">champagnes</span> <span style=\"background-color:rgba(135,206,250,0.007604226);\">nebbiolo</span> <span style=\"background-color:rgba(135,206,250,0.013432702);\">spends</span> <span style=\"background-color:rgba(135,206,250,0.021534264);\">Štajerska</span> <span style=\"background-color:rgba(135,206,250,0.04024615);\">prisoners</span> <span style=\"background-color:rgba(135,206,250,0.011467062);\">milky</span> <span style=\"background-color:rgba(135,206,250,0.007483152);\">until</span> <span style=\"background-color:rgba(135,206,250,0.024444735);\">tiring</span> <span style=\"background-color:rgba(135,206,250,0.024651252);\">waves</span> <span style=\"background-color:rgba(135,206,250,0.013614285);\">as</span> <span style=\"background-color:rgba(135,206,250,0.018934606);\">herb</span> <span style=\"background-color:rgba(135,206,250,0.022832423);\">base</span> <span style=\"background-color:rgba(135,206,250,0.044521376);\">conner</span> <span style=\"background-color:rgba(135,206,250,0.021254461);\">buttercream</span> <span style=\"background-color:rgba(135,206,250,0.020296793);\">expected</span> <span style=\"background-color:rgba(135,206,250,0.017507158);\">heavier</span> <span style=\"background-color:rgba(135,206,250,0.03479321);\">serve</span> <span style=\"background-color:rgba(135,206,250,0.02205645);\">grab</span> <span style=\"background-color:rgba(135,206,250,0.028245253);\">dough</span> <span style=\"background-color:rgba(135,206,250,0.015880661);\">those</span> <span style=\"background-color:rgba(135,206,250,0.0316197);\">japanese</span> <span style=\"background-color:rgba(135,206,250,0.020286683);\">24</span> <span style=\"background-color:rgba(135,206,250,0.12161822);\">carpentry</span> <span style=\"background-color:rgba(135,206,250,0.042263895);\">margherita</span> <span style=\"background-color:rgba(135,206,250,0.031059094);\">grow</span> <span style=\"background-color:rgba(135,206,250,0.021382933);\">cocoa</span> <span style=\"background-color:rgba(135,206,250,0.018835511);\">raisiny</span> <span style=\"background-color:rgba(135,206,250,0.02830777);\">explodes</span> <span style=\"background-color:rgba(135,206,250,0.03810867);\">suit</span> <span style=\"background-color:rgba(135,206,250,0.10772622);\">rex</span> <span style=\"background-color:rgba(135,206,250,0.11066826);\">dalla</span> <span style=\"background-color:rgba(135,206,250,0.037275024);\">cloying</span> <span style=\"background-color:rgba(135,206,250,0.0433555);\">kabinett</span> <span style=\"background-color:rgba(135,206,250,0.072225384);\">everywhere</span> <span style=\"background-color:rgba(135,206,250,0.07524605);\">effectively</span> <span style=\"background-color:rgba(135,206,250,0.19741738);\">samples</span> <span style=\"background-color:rgba(135,206,250,0.071537875);\">difficulty</span> <span style=\"background-color:rgba(135,206,250,0.07509922);\">represents</span> <span style=\"background-color:rgba(135,206,250,0.06623266);\">margaux</span> <span style=\"background-color:rgba(135,206,250,0.31390575);\">2027</span> <span style=\"background-color:rgba(135,206,250,0.15466654);\">markets</span> <span style=\"background-color:rgba(135,206,250,0.45717332);\">trimmings</span> <span style=\"background-color:rgba(135,206,250,0.13204113);\">victoire</span> <span style=\"background-color:rgba(135,206,250,0.19836372);\">matching</span> <span style=\"background-color:rgba(135,206,250,0.2132068);\">californian</span> <span style=\"background-color:rgba(135,206,250,0.40806702);\">corbières</span> <span style=\"background-color:rgba(135,206,250,0.23220946);\">drenched</span> <span style=\"background-color:rgba(135,206,250,0.37734216);\">side</span> <span style=\"background-color:rgba(135,206,250,0.23840125);\">peanuts</span> <span style=\"background-color:rgba(135,206,250,1.0);\">cracked</span> <span style=\"background-color:rgba(135,206,250,0.93326974);\">honor</span> <span style=\"background-color:rgba(135,206,250,0.2930766);\">loving</span>"
            ]
          },
          "metadata": {}
        },
        {
          "output_type": "stream",
          "name": "stdout",
          "text": [
            ".:   \t0.15000000596046448%\n",
            "[UNK]:   \t0.10000000149011612%\n",
            "with:   \t0.07999999821186066%\n",
            "pig:   \t0.07999999821186066%\n",
            "s:   \t0.07999999821186066%\n",
            "--------\n",
            "\n"
          ]
        },
        {
          "output_type": "display_data",
          "data": {
            "text/plain": [
              "<IPython.core.display.HTML object>"
            ],
            "text/html": [
              "<span style=\"background-color:rgba(135,206,250,0.035921216);\">wine</span> <span style=\"background-color:rgba(135,206,250,0.045637533);\">review</span> <span style=\"background-color:rgba(135,206,250,0.013878635);\">:</span> <span style=\"background-color:rgba(135,206,250,0.080458455);\">italy</span> <span style=\"background-color:rgba(135,206,250,0.081286944);\">component</span> <span style=\"background-color:rgba(135,206,250,0.17953946);\">monster</span> <span style=\"background-color:rgba(135,206,250,0.19451074);\">week</span> <span style=\"background-color:rgba(135,206,250,0.15817317);\">preserving</span> <span style=\"background-color:rgba(135,206,250,0.12977396);\">lightweight</span> <span style=\"background-color:rgba(135,206,250,0.11124988);\">macerated</span> <span style=\"background-color:rgba(135,206,250,0.055900313);\">lithe</span> <span style=\"background-color:rgba(135,206,250,0.03782531);\">outside</span> <span style=\"background-color:rgba(135,206,250,0.026086217);\">handful</span> <span style=\"background-color:rgba(135,206,250,0.068102434);\">chubby</span> <span style=\"background-color:rgba(135,206,250,0.029023152);\">wimpy</span> <span style=\"background-color:rgba(135,206,250,0.009785605);\">find</span> <span style=\"background-color:rgba(135,206,250,0.006688537);\">jammy</span> <span style=\"background-color:rgba(135,206,250,0.033459134);\">resembling</span> <span style=\"background-color:rgba(135,206,250,0.030287286);\">wilson</span> <span style=\"background-color:rgba(135,206,250,0.03369689);\">champagnes</span> <span style=\"background-color:rgba(135,206,250,0.010424255);\">nebbiolo</span> <span style=\"background-color:rgba(135,206,250,0.021642376);\">spends</span> <span style=\"background-color:rgba(135,206,250,0.016666582);\">Štajerska</span> <span style=\"background-color:rgba(135,206,250,0.046779383);\">prisoners</span> <span style=\"background-color:rgba(135,206,250,0.011237069);\">milky</span> <span style=\"background-color:rgba(135,206,250,0.010088257);\">until</span> <span style=\"background-color:rgba(135,206,250,0.028723435);\">tiring</span> <span style=\"background-color:rgba(135,206,250,0.028250664);\">waves</span> <span style=\"background-color:rgba(135,206,250,0.0074362783);\">as</span> <span style=\"background-color:rgba(135,206,250,0.012795377);\">herb</span> <span style=\"background-color:rgba(135,206,250,0.012045233);\">base</span> <span style=\"background-color:rgba(135,206,250,0.04122128);\">conner</span> <span style=\"background-color:rgba(135,206,250,0.026175402);\">buttercream</span> <span style=\"background-color:rgba(135,206,250,0.022261037);\">expected</span> <span style=\"background-color:rgba(135,206,250,0.018121153);\">heavier</span> <span style=\"background-color:rgba(135,206,250,0.028286116);\">serve</span> <span style=\"background-color:rgba(135,206,250,0.0158465);\">grab</span> <span style=\"background-color:rgba(135,206,250,0.024139067);\">dough</span> <span style=\"background-color:rgba(135,206,250,0.01528422);\">those</span> <span style=\"background-color:rgba(135,206,250,0.023255128);\">japanese</span> <span style=\"background-color:rgba(135,206,250,0.0189076);\">24</span> <span style=\"background-color:rgba(135,206,250,0.064761244);\">carpentry</span> <span style=\"background-color:rgba(135,206,250,0.037513293);\">margherita</span> <span style=\"background-color:rgba(135,206,250,0.031922076);\">grow</span> <span style=\"background-color:rgba(135,206,250,0.015636818);\">cocoa</span> <span style=\"background-color:rgba(135,206,250,0.02145568);\">raisiny</span> <span style=\"background-color:rgba(135,206,250,0.064085186);\">explodes</span> <span style=\"background-color:rgba(135,206,250,0.019698963);\">suit</span> <span style=\"background-color:rgba(135,206,250,0.16153587);\">rex</span> <span style=\"background-color:rgba(135,206,250,0.1494552);\">dalla</span> <span style=\"background-color:rgba(135,206,250,0.05907721);\">cloying</span> <span style=\"background-color:rgba(135,206,250,0.052715324);\">kabinett</span> <span style=\"background-color:rgba(135,206,250,0.10567426);\">everywhere</span> <span style=\"background-color:rgba(135,206,250,0.049645584);\">effectively</span> <span style=\"background-color:rgba(135,206,250,0.1890234);\">samples</span> <span style=\"background-color:rgba(135,206,250,0.053012054);\">difficulty</span> <span style=\"background-color:rgba(135,206,250,0.10182223);\">represents</span> <span style=\"background-color:rgba(135,206,250,0.10416252);\">margaux</span> <span style=\"background-color:rgba(135,206,250,0.33146647);\">2027</span> <span style=\"background-color:rgba(135,206,250,0.22236766);\">markets</span> <span style=\"background-color:rgba(135,206,250,0.16059087);\">trimmings</span> <span style=\"background-color:rgba(135,206,250,0.16601717);\">victoire</span> <span style=\"background-color:rgba(135,206,250,0.2134997);\">matching</span> <span style=\"background-color:rgba(135,206,250,0.29021555);\">californian</span> <span style=\"background-color:rgba(135,206,250,0.5683487);\">corbières</span> <span style=\"background-color:rgba(135,206,250,0.33158377);\">drenched</span> <span style=\"background-color:rgba(135,206,250,0.12842844);\">side</span> <span style=\"background-color:rgba(135,206,250,0.5740687);\">peanuts</span> <span style=\"background-color:rgba(135,206,250,0.22150916);\">cracked</span> <span style=\"background-color:rgba(135,206,250,1.0);\">honor</span> <span style=\"background-color:rgba(135,206,250,0.5698989);\">loving</span> <span style=\"background-color:rgba(135,206,250,0.34924144);\">market</span>"
            ]
          },
          "metadata": {}
        },
        {
          "output_type": "stream",
          "name": "stdout",
          "text": [
            ".:   \t0.3400000035762787%\n",
            "on:   \t0.15000000596046448%\n",
            "with:   \t0.15000000596046448%\n",
            ",:   \t0.14000000059604645%\n",
            "[UNK]:   \t0.12999999523162842%\n",
            "--------\n",
            "\n"
          ]
        },
        {
          "output_type": "display_data",
          "data": {
            "text/plain": [
              "<IPython.core.display.HTML object>"
            ],
            "text/html": [
              "<span style=\"background-color:rgba(135,206,250,0.47338578);\">wine</span> <span style=\"background-color:rgba(135,206,250,0.23440067);\">review</span> <span style=\"background-color:rgba(135,206,250,0.24617109);\">:</span> <span style=\"background-color:rgba(135,206,250,0.46547034);\">italy</span> <span style=\"background-color:rgba(135,206,250,0.629491);\">component</span> <span style=\"background-color:rgba(135,206,250,0.49151117);\">monster</span> <span style=\"background-color:rgba(135,206,250,0.41937116);\">week</span> <span style=\"background-color:rgba(135,206,250,0.45423564);\">preserving</span> <span style=\"background-color:rgba(135,206,250,0.19979815);\">lightweight</span> <span style=\"background-color:rgba(135,206,250,0.07805064);\">macerated</span> <span style=\"background-color:rgba(135,206,250,0.049443807);\">lithe</span> <span style=\"background-color:rgba(135,206,250,0.12774582);\">outside</span> <span style=\"background-color:rgba(135,206,250,0.100606896);\">handful</span> <span style=\"background-color:rgba(135,206,250,0.10948294);\">chubby</span> <span style=\"background-color:rgba(135,206,250,0.043294802);\">wimpy</span> <span style=\"background-color:rgba(135,206,250,0.041170772);\">find</span> <span style=\"background-color:rgba(135,206,250,0.020858416);\">jammy</span> <span style=\"background-color:rgba(135,206,250,0.06141496);\">resembling</span> <span style=\"background-color:rgba(135,206,250,0.03790196);\">wilson</span> <span style=\"background-color:rgba(135,206,250,0.044492148);\">champagnes</span> <span style=\"background-color:rgba(135,206,250,0.02131634);\">nebbiolo</span> <span style=\"background-color:rgba(135,206,250,0.039450414);\">spends</span> <span style=\"background-color:rgba(135,206,250,0.052465044);\">Štajerska</span> <span style=\"background-color:rgba(135,206,250,0.048495527);\">prisoners</span> <span style=\"background-color:rgba(135,206,250,0.015161524);\">milky</span> <span style=\"background-color:rgba(135,206,250,0.020489149);\">until</span> <span style=\"background-color:rgba(135,206,250,0.062518686);\">tiring</span> <span style=\"background-color:rgba(135,206,250,0.06348517);\">waves</span> <span style=\"background-color:rgba(135,206,250,0.035754424);\">as</span> <span style=\"background-color:rgba(135,206,250,0.046318017);\">herb</span> <span style=\"background-color:rgba(135,206,250,0.041577645);\">base</span> <span style=\"background-color:rgba(135,206,250,0.10221798);\">conner</span> <span style=\"background-color:rgba(135,206,250,0.045214914);\">buttercream</span> <span style=\"background-color:rgba(135,206,250,0.040084668);\">expected</span> <span style=\"background-color:rgba(135,206,250,0.04727147);\">heavier</span> <span style=\"background-color:rgba(135,206,250,0.08360934);\">serve</span> <span style=\"background-color:rgba(135,206,250,0.026782736);\">grab</span> <span style=\"background-color:rgba(135,206,250,0.080021985);\">dough</span> <span style=\"background-color:rgba(135,206,250,0.0822454);\">those</span> <span style=\"background-color:rgba(135,206,250,0.070826925);\">japanese</span> <span style=\"background-color:rgba(135,206,250,0.031519208);\">24</span> <span style=\"background-color:rgba(135,206,250,0.21189381);\">carpentry</span> <span style=\"background-color:rgba(135,206,250,0.0718241);\">margherita</span> <span style=\"background-color:rgba(135,206,250,0.07244802);\">grow</span> <span style=\"background-color:rgba(135,206,250,0.04334044);\">cocoa</span> <span style=\"background-color:rgba(135,206,250,0.054784626);\">raisiny</span> <span style=\"background-color:rgba(135,206,250,0.095799275);\">explodes</span> <span style=\"background-color:rgba(135,206,250,0.06698167);\">suit</span> <span style=\"background-color:rgba(135,206,250,0.25275892);\">rex</span> <span style=\"background-color:rgba(135,206,250,0.26704308);\">dalla</span> <span style=\"background-color:rgba(135,206,250,0.068590656);\">cloying</span> <span style=\"background-color:rgba(135,206,250,0.13115369);\">kabinett</span> <span style=\"background-color:rgba(135,206,250,0.20547001);\">everywhere</span> <span style=\"background-color:rgba(135,206,250,0.1750637);\">effectively</span> <span style=\"background-color:rgba(135,206,250,0.85727656);\">samples</span> <span style=\"background-color:rgba(135,206,250,0.13661942);\">difficulty</span> <span style=\"background-color:rgba(135,206,250,0.36042586);\">represents</span> <span style=\"background-color:rgba(135,206,250,0.22994708);\">margaux</span> <span style=\"background-color:rgba(135,206,250,1.0);\">2027</span> <span style=\"background-color:rgba(135,206,250,0.39137223);\">markets</span> <span style=\"background-color:rgba(135,206,250,0.45316756);\">trimmings</span> <span style=\"background-color:rgba(135,206,250,0.32921633);\">victoire</span> <span style=\"background-color:rgba(135,206,250,0.41560796);\">matching</span> <span style=\"background-color:rgba(135,206,250,0.32960337);\">californian</span> <span style=\"background-color:rgba(135,206,250,0.8085113);\">corbières</span> <span style=\"background-color:rgba(135,206,250,0.60322994);\">drenched</span> <span style=\"background-color:rgba(135,206,250,0.22906576);\">side</span> <span style=\"background-color:rgba(135,206,250,0.40822297);\">peanuts</span> <span style=\"background-color:rgba(135,206,250,0.5391651);\">cracked</span> <span style=\"background-color:rgba(135,206,250,0.65399015);\">honor</span> <span style=\"background-color:rgba(135,206,250,0.75996006);\">loving</span> <span style=\"background-color:rgba(135,206,250,0.85392594);\">market</span> <span style=\"background-color:rgba(135,206,250,0.87698925);\">treats</span>"
            ]
          },
          "metadata": {}
        },
        {
          "output_type": "stream",
          "name": "stdout",
          "text": [
            ".:   \t0.30000001192092896%\n",
            "and:   \t0.15000000596046448%\n",
            "or:   \t0.15000000596046448%\n",
            "in:   \t0.14000000059604645%\n",
            "on:   \t0.14000000059604645%\n",
            "--------\n",
            "\n"
          ]
        },
        {
          "output_type": "display_data",
          "data": {
            "text/plain": [
              "<IPython.core.display.HTML object>"
            ],
            "text/html": [
              "<span style=\"background-color:rgba(135,206,250,0.017271189);\">wine</span> <span style=\"background-color:rgba(135,206,250,0.026303684);\">review</span> <span style=\"background-color:rgba(135,206,250,0.011910309);\">:</span> <span style=\"background-color:rgba(135,206,250,0.05148393);\">italy</span> <span style=\"background-color:rgba(135,206,250,0.042575926);\">component</span> <span style=\"background-color:rgba(135,206,250,0.06019836);\">monster</span> <span style=\"background-color:rgba(135,206,250,0.035788264);\">week</span> <span style=\"background-color:rgba(135,206,250,0.06460973);\">preserving</span> <span style=\"background-color:rgba(135,206,250,0.037345193);\">lightweight</span> <span style=\"background-color:rgba(135,206,250,0.031000607);\">macerated</span> <span style=\"background-color:rgba(135,206,250,0.025610799);\">lithe</span> <span style=\"background-color:rgba(135,206,250,0.019310402);\">outside</span> <span style=\"background-color:rgba(135,206,250,0.020466553);\">handful</span> <span style=\"background-color:rgba(135,206,250,0.02274132);\">chubby</span> <span style=\"background-color:rgba(135,206,250,0.029663851);\">wimpy</span> <span style=\"background-color:rgba(135,206,250,0.0164861);\">find</span> <span style=\"background-color:rgba(135,206,250,0.008395389);\">jammy</span> <span style=\"background-color:rgba(135,206,250,0.018374559);\">resembling</span> <span style=\"background-color:rgba(135,206,250,0.013093064);\">wilson</span> <span style=\"background-color:rgba(135,206,250,0.016801773);\">champagnes</span> <span style=\"background-color:rgba(135,206,250,0.005806847);\">nebbiolo</span> <span style=\"background-color:rgba(135,206,250,0.011007872);\">spends</span> <span style=\"background-color:rgba(135,206,250,0.014892871);\">Štajerska</span> <span style=\"background-color:rgba(135,206,250,0.014392514);\">prisoners</span> <span style=\"background-color:rgba(135,206,250,0.0065915757);\">milky</span> <span style=\"background-color:rgba(135,206,250,0.006703324);\">until</span> <span style=\"background-color:rgba(135,206,250,0.021540945);\">tiring</span> <span style=\"background-color:rgba(135,206,250,0.01968501);\">waves</span> <span style=\"background-color:rgba(135,206,250,0.0063902056);\">as</span> <span style=\"background-color:rgba(135,206,250,0.00947036);\">herb</span> <span style=\"background-color:rgba(135,206,250,0.0142774);\">base</span> <span style=\"background-color:rgba(135,206,250,0.011189123);\">conner</span> <span style=\"background-color:rgba(135,206,250,0.01133304);\">buttercream</span> <span style=\"background-color:rgba(135,206,250,0.011920372);\">expected</span> <span style=\"background-color:rgba(135,206,250,0.011625649);\">heavier</span> <span style=\"background-color:rgba(135,206,250,0.0116849085);\">serve</span> <span style=\"background-color:rgba(135,206,250,0.011471279);\">grab</span> <span style=\"background-color:rgba(135,206,250,0.014796065);\">dough</span> <span style=\"background-color:rgba(135,206,250,0.018338557);\">those</span> <span style=\"background-color:rgba(135,206,250,0.007969012);\">japanese</span> <span style=\"background-color:rgba(135,206,250,0.008261204);\">24</span> <span style=\"background-color:rgba(135,206,250,0.023196109);\">carpentry</span> <span style=\"background-color:rgba(135,206,250,0.032781202);\">margherita</span> <span style=\"background-color:rgba(135,206,250,0.016905298);\">grow</span> <span style=\"background-color:rgba(135,206,250,0.012469527);\">cocoa</span> <span style=\"background-color:rgba(135,206,250,0.02611025);\">raisiny</span> <span style=\"background-color:rgba(135,206,250,0.032497607);\">explodes</span> <span style=\"background-color:rgba(135,206,250,0.022826012);\">suit</span> <span style=\"background-color:rgba(135,206,250,0.027834978);\">rex</span> <span style=\"background-color:rgba(135,206,250,0.039702494);\">dalla</span> <span style=\"background-color:rgba(135,206,250,0.012130901);\">cloying</span> <span style=\"background-color:rgba(135,206,250,0.016484553);\">kabinett</span> <span style=\"background-color:rgba(135,206,250,0.034455106);\">everywhere</span> <span style=\"background-color:rgba(135,206,250,0.025705453);\">effectively</span> <span style=\"background-color:rgba(135,206,250,0.046690322);\">samples</span> <span style=\"background-color:rgba(135,206,250,0.029264433);\">difficulty</span> <span style=\"background-color:rgba(135,206,250,0.067335665);\">represents</span> <span style=\"background-color:rgba(135,206,250,0.026276954);\">margaux</span> <span style=\"background-color:rgba(135,206,250,0.06949066);\">2027</span> <span style=\"background-color:rgba(135,206,250,0.062739424);\">markets</span> <span style=\"background-color:rgba(135,206,250,0.16349633);\">trimmings</span> <span style=\"background-color:rgba(135,206,250,0.044777986);\">victoire</span> <span style=\"background-color:rgba(135,206,250,0.12790747);\">matching</span> <span style=\"background-color:rgba(135,206,250,0.06658843);\">californian</span> <span style=\"background-color:rgba(135,206,250,0.10942067);\">corbières</span> <span style=\"background-color:rgba(135,206,250,0.05445211);\">drenched</span> <span style=\"background-color:rgba(135,206,250,0.052573875);\">side</span> <span style=\"background-color:rgba(135,206,250,0.042241253);\">peanuts</span> <span style=\"background-color:rgba(135,206,250,0.065485336);\">cracked</span> <span style=\"background-color:rgba(135,206,250,0.20014481);\">honor</span> <span style=\"background-color:rgba(135,206,250,0.17033902);\">loving</span> <span style=\"background-color:rgba(135,206,250,0.1719352);\">market</span> <span style=\"background-color:rgba(135,206,250,1.0);\">treats</span> <span style=\"background-color:rgba(135,206,250,0.08123055);\">gewurztraminer</span>"
            ]
          },
          "metadata": {}
        },
        {
          "output_type": "stream",
          "name": "stdout",
          "text": [
            ",:   \t0.17000000178813934%\n",
            "and:   \t0.17000000178813934%\n",
            "with:   \t0.17000000178813934%\n",
            ".:   \t0.1599999964237213%\n",
            "to:   \t0.15000000596046448%\n",
            "--------\n",
            "\n"
          ]
        },
        {
          "output_type": "display_data",
          "data": {
            "text/plain": [
              "<IPython.core.display.HTML object>"
            ],
            "text/html": [
              "<span style=\"background-color:rgba(135,206,250,0.3300357);\">wine</span> <span style=\"background-color:rgba(135,206,250,0.1907113);\">review</span> <span style=\"background-color:rgba(135,206,250,0.17489648);\">:</span> <span style=\"background-color:rgba(135,206,250,0.24758652);\">italy</span> <span style=\"background-color:rgba(135,206,250,0.4405365);\">component</span> <span style=\"background-color:rgba(135,206,250,0.35002622);\">monster</span> <span style=\"background-color:rgba(135,206,250,0.21935628);\">week</span> <span style=\"background-color:rgba(135,206,250,0.2887157);\">preserving</span> <span style=\"background-color:rgba(135,206,250,0.13463388);\">lightweight</span> <span style=\"background-color:rgba(135,206,250,0.057450686);\">macerated</span> <span style=\"background-color:rgba(135,206,250,0.03752297);\">lithe</span> <span style=\"background-color:rgba(135,206,250,0.15116379);\">outside</span> <span style=\"background-color:rgba(135,206,250,0.101679824);\">handful</span> <span style=\"background-color:rgba(135,206,250,0.087370925);\">chubby</span> <span style=\"background-color:rgba(135,206,250,0.026000101);\">wimpy</span> <span style=\"background-color:rgba(135,206,250,0.039517466);\">find</span> <span style=\"background-color:rgba(135,206,250,0.012758342);\">jammy</span> <span style=\"background-color:rgba(135,206,250,0.05932581);\">resembling</span> <span style=\"background-color:rgba(135,206,250,0.027032007);\">wilson</span> <span style=\"background-color:rgba(135,206,250,0.02993696);\">champagnes</span> <span style=\"background-color:rgba(135,206,250,0.015061093);\">nebbiolo</span> <span style=\"background-color:rgba(135,206,250,0.02466489);\">spends</span> <span style=\"background-color:rgba(135,206,250,0.03462118);\">Štajerska</span> <span style=\"background-color:rgba(135,206,250,0.03411254);\">prisoners</span> <span style=\"background-color:rgba(135,206,250,0.011008508);\">milky</span> <span style=\"background-color:rgba(135,206,250,0.012408752);\">until</span> <span style=\"background-color:rgba(135,206,250,0.03775822);\">tiring</span> <span style=\"background-color:rgba(135,206,250,0.039837163);\">waves</span> <span style=\"background-color:rgba(135,206,250,0.024463052);\">as</span> <span style=\"background-color:rgba(135,206,250,0.023938173);\">herb</span> <span style=\"background-color:rgba(135,206,250,0.03910791);\">base</span> <span style=\"background-color:rgba(135,206,250,0.056478128);\">conner</span> <span style=\"background-color:rgba(135,206,250,0.02570929);\">buttercream</span> <span style=\"background-color:rgba(135,206,250,0.026388383);\">expected</span> <span style=\"background-color:rgba(135,206,250,0.019493876);\">heavier</span> <span style=\"background-color:rgba(135,206,250,0.047817156);\">serve</span> <span style=\"background-color:rgba(135,206,250,0.0267128);\">grab</span> <span style=\"background-color:rgba(135,206,250,0.029096944);\">dough</span> <span style=\"background-color:rgba(135,206,250,0.048522543);\">those</span> <span style=\"background-color:rgba(135,206,250,0.024725968);\">japanese</span> <span style=\"background-color:rgba(135,206,250,0.018866364);\">24</span> <span style=\"background-color:rgba(135,206,250,0.14614864);\">carpentry</span> <span style=\"background-color:rgba(135,206,250,0.024142662);\">margherita</span> <span style=\"background-color:rgba(135,206,250,0.038399506);\">grow</span> <span style=\"background-color:rgba(135,206,250,0.01758724);\">cocoa</span> <span style=\"background-color:rgba(135,206,250,0.013468111);\">raisiny</span> <span style=\"background-color:rgba(135,206,250,0.026683101);\">explodes</span> <span style=\"background-color:rgba(135,206,250,0.043833405);\">suit</span> <span style=\"background-color:rgba(135,206,250,0.09863041);\">rex</span> <span style=\"background-color:rgba(135,206,250,0.09833853);\">dalla</span> <span style=\"background-color:rgba(135,206,250,0.036778595);\">cloying</span> <span style=\"background-color:rgba(135,206,250,0.049445968);\">kabinett</span> <span style=\"background-color:rgba(135,206,250,0.04456979);\">everywhere</span> <span style=\"background-color:rgba(135,206,250,0.06535049);\">effectively</span> <span style=\"background-color:rgba(135,206,250,0.19438514);\">samples</span> <span style=\"background-color:rgba(135,206,250,0.048138376);\">difficulty</span> <span style=\"background-color:rgba(135,206,250,0.0896695);\">represents</span> <span style=\"background-color:rgba(135,206,250,0.07936003);\">margaux</span> <span style=\"background-color:rgba(135,206,250,0.3153476);\">2027</span> <span style=\"background-color:rgba(135,206,250,0.11130657);\">markets</span> <span style=\"background-color:rgba(135,206,250,0.10837287);\">trimmings</span> <span style=\"background-color:rgba(135,206,250,0.1108184);\">victoire</span> <span style=\"background-color:rgba(135,206,250,0.12648943);\">matching</span> <span style=\"background-color:rgba(135,206,250,0.10412411);\">californian</span> <span style=\"background-color:rgba(135,206,250,0.16430296);\">corbières</span> <span style=\"background-color:rgba(135,206,250,0.108022876);\">drenched</span> <span style=\"background-color:rgba(135,206,250,0.081597656);\">side</span> <span style=\"background-color:rgba(135,206,250,0.10687779);\">peanuts</span> <span style=\"background-color:rgba(135,206,250,0.18262985);\">cracked</span> <span style=\"background-color:rgba(135,206,250,0.12950428);\">honor</span> <span style=\"background-color:rgba(135,206,250,0.20803793);\">loving</span> <span style=\"background-color:rgba(135,206,250,0.19254199);\">market</span> <span style=\"background-color:rgba(135,206,250,0.5310264);\">treats</span> <span style=\"background-color:rgba(135,206,250,0.43198168);\">gewurztraminer</span> <span style=\"background-color:rgba(135,206,250,1.0);\">prominently</span>"
            ]
          },
          "metadata": {}
        },
        {
          "output_type": "stream",
          "name": "stdout",
          "text": [
            ".:   \t0.20999999344348907%\n",
            "on:   \t0.18000000715255737%\n",
            "[UNK]:   \t0.10000000149011612%\n",
            "displayed:   \t0.10000000149011612%\n",
            "with:   \t0.09000000357627869%\n",
            "--------\n",
            "\n"
          ]
        },
        {
          "output_type": "display_data",
          "data": {
            "text/plain": [
              "<IPython.core.display.HTML object>"
            ],
            "text/html": [
              "<span style=\"background-color:rgba(135,206,250,0.018896598);\">wine</span> <span style=\"background-color:rgba(135,206,250,0.022367563);\">review</span> <span style=\"background-color:rgba(135,206,250,0.011322503);\">:</span> <span style=\"background-color:rgba(135,206,250,0.038036786);\">italy</span> <span style=\"background-color:rgba(135,206,250,0.054332193);\">component</span> <span style=\"background-color:rgba(135,206,250,0.10043714);\">monster</span> <span style=\"background-color:rgba(135,206,250,0.08773256);\">week</span> <span style=\"background-color:rgba(135,206,250,0.036089838);\">preserving</span> <span style=\"background-color:rgba(135,206,250,0.061292056);\">lightweight</span> <span style=\"background-color:rgba(135,206,250,0.029473592);\">macerated</span> <span style=\"background-color:rgba(135,206,250,0.02250732);\">lithe</span> <span style=\"background-color:rgba(135,206,250,0.013442524);\">outside</span> <span style=\"background-color:rgba(135,206,250,0.012893725);\">handful</span> <span style=\"background-color:rgba(135,206,250,0.028019672);\">chubby</span> <span style=\"background-color:rgba(135,206,250,0.024309492);\">wimpy</span> <span style=\"background-color:rgba(135,206,250,0.0054821805);\">find</span> <span style=\"background-color:rgba(135,206,250,0.0057820473);\">jammy</span> <span style=\"background-color:rgba(135,206,250,0.013541092);\">resembling</span> <span style=\"background-color:rgba(135,206,250,0.017487058);\">wilson</span> <span style=\"background-color:rgba(135,206,250,0.016842788);\">champagnes</span> <span style=\"background-color:rgba(135,206,250,0.005152575);\">nebbiolo</span> <span style=\"background-color:rgba(135,206,250,0.004719738);\">spends</span> <span style=\"background-color:rgba(135,206,250,0.011692131);\">Štajerska</span> <span style=\"background-color:rgba(135,206,250,0.019152101);\">prisoners</span> <span style=\"background-color:rgba(135,206,250,0.005476443);\">milky</span> <span style=\"background-color:rgba(135,206,250,0.0031391638);\">until</span> <span style=\"background-color:rgba(135,206,250,0.012343027);\">tiring</span> <span style=\"background-color:rgba(135,206,250,0.0133557385);\">waves</span> <span style=\"background-color:rgba(135,206,250,0.0036381255);\">as</span> <span style=\"background-color:rgba(135,206,250,0.008986082);\">herb</span> <span style=\"background-color:rgba(135,206,250,0.007989655);\">base</span> <span style=\"background-color:rgba(135,206,250,0.011815567);\">conner</span> <span style=\"background-color:rgba(135,206,250,0.010404358);\">buttercream</span> <span style=\"background-color:rgba(135,206,250,0.008624513);\">expected</span> <span style=\"background-color:rgba(135,206,250,0.0060901996);\">heavier</span> <span style=\"background-color:rgba(135,206,250,0.011933823);\">serve</span> <span style=\"background-color:rgba(135,206,250,0.0063828807);\">grab</span> <span style=\"background-color:rgba(135,206,250,0.013960445);\">dough</span> <span style=\"background-color:rgba(135,206,250,0.0064962497);\">those</span> <span style=\"background-color:rgba(135,206,250,0.008822073);\">japanese</span> <span style=\"background-color:rgba(135,206,250,0.008587662);\">24</span> <span style=\"background-color:rgba(135,206,250,0.03585595);\">carpentry</span> <span style=\"background-color:rgba(135,206,250,0.014728657);\">margherita</span> <span style=\"background-color:rgba(135,206,250,0.010555905);\">grow</span> <span style=\"background-color:rgba(135,206,250,0.008146807);\">cocoa</span> <span style=\"background-color:rgba(135,206,250,0.009450549);\">raisiny</span> <span style=\"background-color:rgba(135,206,250,0.013538898);\">explodes</span> <span style=\"background-color:rgba(135,206,250,0.009684763);\">suit</span> <span style=\"background-color:rgba(135,206,250,0.025616527);\">rex</span> <span style=\"background-color:rgba(135,206,250,0.03224597);\">dalla</span> <span style=\"background-color:rgba(135,206,250,0.012275203);\">cloying</span> <span style=\"background-color:rgba(135,206,250,0.019065555);\">kabinett</span> <span style=\"background-color:rgba(135,206,250,0.04222502);\">everywhere</span> <span style=\"background-color:rgba(135,206,250,0.014591019);\">effectively</span> <span style=\"background-color:rgba(135,206,250,0.06260491);\">samples</span> <span style=\"background-color:rgba(135,206,250,0.02697505);\">difficulty</span> <span style=\"background-color:rgba(135,206,250,0.019692738);\">represents</span> <span style=\"background-color:rgba(135,206,250,0.021937406);\">margaux</span> <span style=\"background-color:rgba(135,206,250,0.089218676);\">2027</span> <span style=\"background-color:rgba(135,206,250,0.039215934);\">markets</span> <span style=\"background-color:rgba(135,206,250,0.08560774);\">trimmings</span> <span style=\"background-color:rgba(135,206,250,0.02321002);\">victoire</span> <span style=\"background-color:rgba(135,206,250,0.022910504);\">matching</span> <span style=\"background-color:rgba(135,206,250,0.04110899);\">californian</span> <span style=\"background-color:rgba(135,206,250,0.08480583);\">corbières</span> <span style=\"background-color:rgba(135,206,250,0.056497157);\">drenched</span> <span style=\"background-color:rgba(135,206,250,0.036718313);\">side</span> <span style=\"background-color:rgba(135,206,250,0.04107864);\">peanuts</span> <span style=\"background-color:rgba(135,206,250,0.067480296);\">cracked</span> <span style=\"background-color:rgba(135,206,250,0.14585175);\">honor</span> <span style=\"background-color:rgba(135,206,250,0.08289901);\">loving</span> <span style=\"background-color:rgba(135,206,250,0.09176043);\">market</span> <span style=\"background-color:rgba(135,206,250,0.14612047);\">treats</span> <span style=\"background-color:rgba(135,206,250,0.23120812);\">gewurztraminer</span> <span style=\"background-color:rgba(135,206,250,1.0);\">prominently</span> <span style=\"background-color:rgba(135,206,250,0.03564464);\">figgy</span>"
            ]
          },
          "metadata": {}
        },
        {
          "output_type": "stream",
          "name": "stdout",
          "text": [
            ".:   \t0.17000000178813934%\n",
            "with:   \t0.12999999523162842%\n",
            "on:   \t0.11999999731779099%\n",
            "[UNK]:   \t0.11999999731779099%\n",
            ",:   \t0.10999999940395355%\n",
            "--------\n",
            "\n"
          ]
        },
        {
          "output_type": "display_data",
          "data": {
            "text/plain": [
              "<IPython.core.display.HTML object>"
            ],
            "text/html": [
              "<span style=\"background-color:rgba(135,206,250,0.015415449);\">wine</span> <span style=\"background-color:rgba(135,206,250,0.016737955);\">review</span> <span style=\"background-color:rgba(135,206,250,0.00805216);\">:</span> <span style=\"background-color:rgba(135,206,250,0.034785252);\">italy</span> <span style=\"background-color:rgba(135,206,250,0.044770863);\">component</span> <span style=\"background-color:rgba(135,206,250,0.071213126);\">monster</span> <span style=\"background-color:rgba(135,206,250,0.06471555);\">week</span> <span style=\"background-color:rgba(135,206,250,0.07055917);\">preserving</span> <span style=\"background-color:rgba(135,206,250,0.05553135);\">lightweight</span> <span style=\"background-color:rgba(135,206,250,0.040924747);\">macerated</span> <span style=\"background-color:rgba(135,206,250,0.026345916);\">lithe</span> <span style=\"background-color:rgba(135,206,250,0.016137674);\">outside</span> <span style=\"background-color:rgba(135,206,250,0.01973927);\">handful</span> <span style=\"background-color:rgba(135,206,250,0.026009118);\">chubby</span> <span style=\"background-color:rgba(135,206,250,0.017995534);\">wimpy</span> <span style=\"background-color:rgba(135,206,250,0.0063962936);\">find</span> <span style=\"background-color:rgba(135,206,250,0.0037115086);\">jammy</span> <span style=\"background-color:rgba(135,206,250,0.0147242015);\">resembling</span> <span style=\"background-color:rgba(135,206,250,0.014185609);\">wilson</span> <span style=\"background-color:rgba(135,206,250,0.020346977);\">champagnes</span> <span style=\"background-color:rgba(135,206,250,0.0048766905);\">nebbiolo</span> <span style=\"background-color:rgba(135,206,250,0.00712896);\">spends</span> <span style=\"background-color:rgba(135,206,250,0.0068615004);\">Štajerska</span> <span style=\"background-color:rgba(135,206,250,0.010262574);\">prisoners</span> <span style=\"background-color:rgba(135,206,250,0.0044868076);\">milky</span> <span style=\"background-color:rgba(135,206,250,0.0037054254);\">until</span> <span style=\"background-color:rgba(135,206,250,0.009554236);\">tiring</span> <span style=\"background-color:rgba(135,206,250,0.013096861);\">waves</span> <span style=\"background-color:rgba(135,206,250,0.004887258);\">as</span> <span style=\"background-color:rgba(135,206,250,0.0060968148);\">herb</span> <span style=\"background-color:rgba(135,206,250,0.0052287937);\">base</span> <span style=\"background-color:rgba(135,206,250,0.011268246);\">conner</span> <span style=\"background-color:rgba(135,206,250,0.0070470343);\">buttercream</span> <span style=\"background-color:rgba(135,206,250,0.0076269675);\">expected</span> <span style=\"background-color:rgba(135,206,250,0.007484058);\">heavier</span> <span style=\"background-color:rgba(135,206,250,0.013732962);\">serve</span> <span style=\"background-color:rgba(135,206,250,0.006144888);\">grab</span> <span style=\"background-color:rgba(135,206,250,0.0075695734);\">dough</span> <span style=\"background-color:rgba(135,206,250,0.0073378705);\">those</span> <span style=\"background-color:rgba(135,206,250,0.007521261);\">japanese</span> <span style=\"background-color:rgba(135,206,250,0.008521487);\">24</span> <span style=\"background-color:rgba(135,206,250,0.028772967);\">carpentry</span> <span style=\"background-color:rgba(135,206,250,0.017337842);\">margherita</span> <span style=\"background-color:rgba(135,206,250,0.013056614);\">grow</span> <span style=\"background-color:rgba(135,206,250,0.009450397);\">cocoa</span> <span style=\"background-color:rgba(135,206,250,0.006394304);\">raisiny</span> <span style=\"background-color:rgba(135,206,250,0.014712098);\">explodes</span> <span style=\"background-color:rgba(135,206,250,0.010919673);\">suit</span> <span style=\"background-color:rgba(135,206,250,0.02936947);\">rex</span> <span style=\"background-color:rgba(135,206,250,0.036382385);\">dalla</span> <span style=\"background-color:rgba(135,206,250,0.00930391);\">cloying</span> <span style=\"background-color:rgba(135,206,250,0.011519951);\">kabinett</span> <span style=\"background-color:rgba(135,206,250,0.020404795);\">everywhere</span> <span style=\"background-color:rgba(135,206,250,0.017709276);\">effectively</span> <span style=\"background-color:rgba(135,206,250,0.03183149);\">samples</span> <span style=\"background-color:rgba(135,206,250,0.026239268);\">difficulty</span> <span style=\"background-color:rgba(135,206,250,0.023062613);\">represents</span> <span style=\"background-color:rgba(135,206,250,0.022302685);\">margaux</span> <span style=\"background-color:rgba(135,206,250,0.069463156);\">2027</span> <span style=\"background-color:rgba(135,206,250,0.047401864);\">markets</span> <span style=\"background-color:rgba(135,206,250,0.07680681);\">trimmings</span> <span style=\"background-color:rgba(135,206,250,0.02252483);\">victoire</span> <span style=\"background-color:rgba(135,206,250,0.02160428);\">matching</span> <span style=\"background-color:rgba(135,206,250,0.040267427);\">californian</span> <span style=\"background-color:rgba(135,206,250,0.08189522);\">corbières</span> <span style=\"background-color:rgba(135,206,250,0.027959);\">drenched</span> <span style=\"background-color:rgba(135,206,250,0.021661824);\">side</span> <span style=\"background-color:rgba(135,206,250,0.037445445);\">peanuts</span> <span style=\"background-color:rgba(135,206,250,0.07184871);\">cracked</span> <span style=\"background-color:rgba(135,206,250,0.062310137);\">honor</span> <span style=\"background-color:rgba(135,206,250,0.056258626);\">loving</span> <span style=\"background-color:rgba(135,206,250,0.08134636);\">market</span> <span style=\"background-color:rgba(135,206,250,0.22303134);\">treats</span> <span style=\"background-color:rgba(135,206,250,0.08596975);\">gewurztraminer</span> <span style=\"background-color:rgba(135,206,250,1.0);\">prominently</span> <span style=\"background-color:rgba(135,206,250,0.1017563);\">figgy</span> <span style=\"background-color:rgba(135,206,250,0.1591271);\">tokaj</span>"
            ]
          },
          "metadata": {}
        },
        {
          "output_type": "stream",
          "name": "stdout",
          "text": [
            ".:   \t0.23000000417232513%\n",
            "with:   \t0.14000000059604645%\n",
            "on:   \t0.12999999523162842%\n",
            ",:   \t0.10000000149011612%\n",
            "through:   \t0.10000000149011612%\n",
            "--------\n",
            "\n"
          ]
        },
        {
          "output_type": "display_data",
          "data": {
            "text/plain": [
              "<IPython.core.display.HTML object>"
            ],
            "text/html": [
              "<span style=\"background-color:rgba(135,206,250,0.02640287);\">wine</span> <span style=\"background-color:rgba(135,206,250,0.02651896);\">review</span> <span style=\"background-color:rgba(135,206,250,0.014964486);\">:</span> <span style=\"background-color:rgba(135,206,250,0.043258708);\">italy</span> <span style=\"background-color:rgba(135,206,250,0.06231948);\">component</span> <span style=\"background-color:rgba(135,206,250,0.110609315);\">monster</span> <span style=\"background-color:rgba(135,206,250,0.081613995);\">week</span> <span style=\"background-color:rgba(135,206,250,0.06872098);\">preserving</span> <span style=\"background-color:rgba(135,206,250,0.058907613);\">lightweight</span> <span style=\"background-color:rgba(135,206,250,0.028988339);\">macerated</span> <span style=\"background-color:rgba(135,206,250,0.024562327);\">lithe</span> <span style=\"background-color:rgba(135,206,250,0.026381139);\">outside</span> <span style=\"background-color:rgba(135,206,250,0.0168105);\">handful</span> <span style=\"background-color:rgba(135,206,250,0.038465865);\">chubby</span> <span style=\"background-color:rgba(135,206,250,0.014473326);\">wimpy</span> <span style=\"background-color:rgba(135,206,250,0.008297353);\">find</span> <span style=\"background-color:rgba(135,206,250,0.005545392);\">jammy</span> <span style=\"background-color:rgba(135,206,250,0.012891861);\">resembling</span> <span style=\"background-color:rgba(135,206,250,0.013395271);\">wilson</span> <span style=\"background-color:rgba(135,206,250,0.019148907);\">champagnes</span> <span style=\"background-color:rgba(135,206,250,0.0056782872);\">nebbiolo</span> <span style=\"background-color:rgba(135,206,250,0.0065548983);\">spends</span> <span style=\"background-color:rgba(135,206,250,0.010136854);\">Štajerska</span> <span style=\"background-color:rgba(135,206,250,0.017925369);\">prisoners</span> <span style=\"background-color:rgba(135,206,250,0.0033408508);\">milky</span> <span style=\"background-color:rgba(135,206,250,0.0051578754);\">until</span> <span style=\"background-color:rgba(135,206,250,0.0148570705);\">tiring</span> <span style=\"background-color:rgba(135,206,250,0.014033617);\">waves</span> <span style=\"background-color:rgba(135,206,250,0.0063069668);\">as</span> <span style=\"background-color:rgba(135,206,250,0.009525586);\">herb</span> <span style=\"background-color:rgba(135,206,250,0.008870547);\">base</span> <span style=\"background-color:rgba(135,206,250,0.018978504);\">conner</span> <span style=\"background-color:rgba(135,206,250,0.013097434);\">buttercream</span> <span style=\"background-color:rgba(135,206,250,0.01159309);\">expected</span> <span style=\"background-color:rgba(135,206,250,0.00569879);\">heavier</span> <span style=\"background-color:rgba(135,206,250,0.015813632);\">serve</span> <span style=\"background-color:rgba(135,206,250,0.008283412);\">grab</span> <span style=\"background-color:rgba(135,206,250,0.012740508);\">dough</span> <span style=\"background-color:rgba(135,206,250,0.0108927395);\">those</span> <span style=\"background-color:rgba(135,206,250,0.0123296855);\">japanese</span> <span style=\"background-color:rgba(135,206,250,0.007712236);\">24</span> <span style=\"background-color:rgba(135,206,250,0.05193834);\">carpentry</span> <span style=\"background-color:rgba(135,206,250,0.020740498);\">margherita</span> <span style=\"background-color:rgba(135,206,250,0.015507617);\">grow</span> <span style=\"background-color:rgba(135,206,250,0.010914774);\">cocoa</span> <span style=\"background-color:rgba(135,206,250,0.011453473);\">raisiny</span> <span style=\"background-color:rgba(135,206,250,0.024364466);\">explodes</span> <span style=\"background-color:rgba(135,206,250,0.014328962);\">suit</span> <span style=\"background-color:rgba(135,206,250,0.054803602);\">rex</span> <span style=\"background-color:rgba(135,206,250,0.06413386);\">dalla</span> <span style=\"background-color:rgba(135,206,250,0.02210858);\">cloying</span> <span style=\"background-color:rgba(135,206,250,0.037211075);\">kabinett</span> <span style=\"background-color:rgba(135,206,250,0.062471945);\">everywhere</span> <span style=\"background-color:rgba(135,206,250,0.03213961);\">effectively</span> <span style=\"background-color:rgba(135,206,250,0.055758085);\">samples</span> <span style=\"background-color:rgba(135,206,250,0.049376506);\">difficulty</span> <span style=\"background-color:rgba(135,206,250,0.028979724);\">represents</span> <span style=\"background-color:rgba(135,206,250,0.040070847);\">margaux</span> <span style=\"background-color:rgba(135,206,250,0.14901039);\">2027</span> <span style=\"background-color:rgba(135,206,250,0.07637316);\">markets</span> <span style=\"background-color:rgba(135,206,250,0.0750299);\">trimmings</span> <span style=\"background-color:rgba(135,206,250,0.045137625);\">victoire</span> <span style=\"background-color:rgba(135,206,250,0.053441677);\">matching</span> <span style=\"background-color:rgba(135,206,250,0.0764491);\">californian</span> <span style=\"background-color:rgba(135,206,250,0.09879418);\">corbières</span> <span style=\"background-color:rgba(135,206,250,0.04704516);\">drenched</span> <span style=\"background-color:rgba(135,206,250,0.061342865);\">side</span> <span style=\"background-color:rgba(135,206,250,0.077287205);\">peanuts</span> <span style=\"background-color:rgba(135,206,250,0.103987984);\">cracked</span> <span style=\"background-color:rgba(135,206,250,0.09479062);\">honor</span> <span style=\"background-color:rgba(135,206,250,0.1314928);\">loving</span> <span style=\"background-color:rgba(135,206,250,0.1067636);\">market</span> <span style=\"background-color:rgba(135,206,250,0.62918264);\">treats</span> <span style=\"background-color:rgba(135,206,250,0.16029051);\">gewurztraminer</span> <span style=\"background-color:rgba(135,206,250,1.0);\">prominently</span> <span style=\"background-color:rgba(135,206,250,0.15368277);\">figgy</span> <span style=\"background-color:rgba(135,206,250,0.62583447);\">tokaj</span> <span style=\"background-color:rgba(135,206,250,0.076086536);\">drier</span>"
            ]
          },
          "metadata": {}
        },
        {
          "output_type": "stream",
          "name": "stdout",
          "text": [
            ".:   \t0.17000000178813934%\n",
            ",:   \t0.10999999940395355%\n",
            "on:   \t0.10999999940395355%\n",
            "than:   \t0.10000000149011612%\n",
            "and:   \t0.10000000149011612%\n",
            "--------\n",
            "\n"
          ]
        },
        {
          "output_type": "display_data",
          "data": {
            "text/plain": [
              "<IPython.core.display.HTML object>"
            ],
            "text/html": [
              "<span style=\"background-color:rgba(135,206,250,0.09937009);\">wine</span> <span style=\"background-color:rgba(135,206,250,0.10014188);\">review</span> <span style=\"background-color:rgba(135,206,250,0.054595534);\">:</span> <span style=\"background-color:rgba(135,206,250,0.116859995);\">italy</span> <span style=\"background-color:rgba(135,206,250,0.1484061);\">component</span> <span style=\"background-color:rgba(135,206,250,0.22110261);\">monster</span> <span style=\"background-color:rgba(135,206,250,0.2747092);\">week</span> <span style=\"background-color:rgba(135,206,250,0.16503784);\">preserving</span> <span style=\"background-color:rgba(135,206,250,0.12359243);\">lightweight</span> <span style=\"background-color:rgba(135,206,250,0.08029411);\">macerated</span> <span style=\"background-color:rgba(135,206,250,0.071474366);\">lithe</span> <span style=\"background-color:rgba(135,206,250,0.07945533);\">outside</span> <span style=\"background-color:rgba(135,206,250,0.07444118);\">handful</span> <span style=\"background-color:rgba(135,206,250,0.0797843);\">chubby</span> <span style=\"background-color:rgba(135,206,250,0.046166126);\">wimpy</span> <span style=\"background-color:rgba(135,206,250,0.018079659);\">find</span> <span style=\"background-color:rgba(135,206,250,0.014242531);\">jammy</span> <span style=\"background-color:rgba(135,206,250,0.059964772);\">resembling</span> <span style=\"background-color:rgba(135,206,250,0.061831277);\">wilson</span> <span style=\"background-color:rgba(135,206,250,0.045114014);\">champagnes</span> <span style=\"background-color:rgba(135,206,250,0.013848316);\">nebbiolo</span> <span style=\"background-color:rgba(135,206,250,0.028905379);\">spends</span> <span style=\"background-color:rgba(135,206,250,0.033472873);\">Štajerska</span> <span style=\"background-color:rgba(135,206,250,0.06523914);\">prisoners</span> <span style=\"background-color:rgba(135,206,250,0.02550646);\">milky</span> <span style=\"background-color:rgba(135,206,250,0.013419357);\">until</span> <span style=\"background-color:rgba(135,206,250,0.044236723);\">tiring</span> <span style=\"background-color:rgba(135,206,250,0.04737355);\">waves</span> <span style=\"background-color:rgba(135,206,250,0.014700605);\">as</span> <span style=\"background-color:rgba(135,206,250,0.027160127);\">herb</span> <span style=\"background-color:rgba(135,206,250,0.026285851);\">base</span> <span style=\"background-color:rgba(135,206,250,0.05776763);\">conner</span> <span style=\"background-color:rgba(135,206,250,0.03737677);\">buttercream</span> <span style=\"background-color:rgba(135,206,250,0.030904442);\">expected</span> <span style=\"background-color:rgba(135,206,250,0.024916196);\">heavier</span> <span style=\"background-color:rgba(135,206,250,0.053712096);\">serve</span> <span style=\"background-color:rgba(135,206,250,0.028464532);\">grab</span> <span style=\"background-color:rgba(135,206,250,0.040579874);\">dough</span> <span style=\"background-color:rgba(135,206,250,0.029578907);\">those</span> <span style=\"background-color:rgba(135,206,250,0.036672994);\">japanese</span> <span style=\"background-color:rgba(135,206,250,0.019547265);\">24</span> <span style=\"background-color:rgba(135,206,250,0.12880538);\">carpentry</span> <span style=\"background-color:rgba(135,206,250,0.04080372);\">margherita</span> <span style=\"background-color:rgba(135,206,250,0.04477245);\">grow</span> <span style=\"background-color:rgba(135,206,250,0.019586518);\">cocoa</span> <span style=\"background-color:rgba(135,206,250,0.023838814);\">raisiny</span> <span style=\"background-color:rgba(135,206,250,0.035828304);\">explodes</span> <span style=\"background-color:rgba(135,206,250,0.03025163);\">suit</span> <span style=\"background-color:rgba(135,206,250,0.1117042);\">rex</span> <span style=\"background-color:rgba(135,206,250,0.11146811);\">dalla</span> <span style=\"background-color:rgba(135,206,250,0.065718405);\">cloying</span> <span style=\"background-color:rgba(135,206,250,0.05170107);\">kabinett</span> <span style=\"background-color:rgba(135,206,250,0.086527385);\">everywhere</span> <span style=\"background-color:rgba(135,206,250,0.060260076);\">effectively</span> <span style=\"background-color:rgba(135,206,250,0.19049095);\">samples</span> <span style=\"background-color:rgba(135,206,250,0.06970674);\">difficulty</span> <span style=\"background-color:rgba(135,206,250,0.078445785);\">represents</span> <span style=\"background-color:rgba(135,206,250,0.09381267);\">margaux</span> <span style=\"background-color:rgba(135,206,250,0.3636912);\">2027</span> <span style=\"background-color:rgba(135,206,250,0.1680165);\">markets</span> <span style=\"background-color:rgba(135,206,250,0.11100092);\">trimmings</span> <span style=\"background-color:rgba(135,206,250,0.11631703);\">victoire</span> <span style=\"background-color:rgba(135,206,250,0.10092606);\">matching</span> <span style=\"background-color:rgba(135,206,250,0.15058734);\">californian</span> <span style=\"background-color:rgba(135,206,250,0.3524622);\">corbières</span> <span style=\"background-color:rgba(135,206,250,0.121372856);\">drenched</span> <span style=\"background-color:rgba(135,206,250,0.07464196);\">side</span> <span style=\"background-color:rgba(135,206,250,0.213025);\">peanuts</span> <span style=\"background-color:rgba(135,206,250,0.1539106);\">cracked</span> <span style=\"background-color:rgba(135,206,250,0.17218043);\">honor</span> <span style=\"background-color:rgba(135,206,250,0.3219217);\">loving</span> <span style=\"background-color:rgba(135,206,250,0.22901024);\">market</span> <span style=\"background-color:rgba(135,206,250,0.5189755);\">treats</span> <span style=\"background-color:rgba(135,206,250,0.50564396);\">gewurztraminer</span> <span style=\"background-color:rgba(135,206,250,0.99663603);\">prominently</span> <span style=\"background-color:rgba(135,206,250,0.41962042);\">figgy</span> <span style=\"background-color:rgba(135,206,250,1.0);\">tokaj</span> <span style=\"background-color:rgba(135,206,250,0.7517311);\">drier</span> <span style=\"background-color:rgba(135,206,250,0.387567);\">rendering</span>"
            ]
          },
          "metadata": {}
        },
        {
          "output_type": "stream",
          "name": "stdout",
          "text": [
            "of:   \t0.14000000059604645%\n",
            ".:   \t0.12999999523162842%\n",
            "out:   \t0.10000000149011612%\n",
            "the:   \t0.10000000149011612%\n",
            "your:   \t0.10000000149011612%\n",
            "--------\n",
            "\n"
          ]
        }
      ]
    },
    {
      "cell_type": "code",
      "execution_count": 52,
      "id": "5cae6d5d-263d-4455-b96c-f315cbe284ee",
      "metadata": {
        "colab": {
          "base_uri": "https://localhost:8080/",
          "height": 1000
        },
        "id": "5cae6d5d-263d-4455-b96c-f315cbe284ee",
        "outputId": "d722bc75-94b8-47f8-f6e8-2060569eb9a3"
      },
      "outputs": [
        {
          "output_type": "stream",
          "name": "stdout",
          "text": [
            "\n",
            "generated text:\n",
            "wine review : germany : mosel - saar - ruwer : riesling : this is\n",
            "\n"
          ]
        },
        {
          "output_type": "display_data",
          "data": {
            "text/plain": [
              "<IPython.core.display.HTML object>"
            ],
            "text/html": [
              "<span style=\"background-color:rgba(135,206,250,0.78882605);\">wine</span> <span style=\"background-color:rgba(135,206,250,1.0);\">review</span> <span style=\"background-color:rgba(135,206,250,0.28568932);\">:</span> <span style=\"background-color:rgba(135,206,250,0.3027845);\">germany</span>"
            ]
          },
          "metadata": {}
        },
        {
          "output_type": "stream",
          "name": "stdout",
          "text": [
            "::   \t100.0%\n",
            "-:   \t0.0%\n",
            "grosso:   \t0.0%\n",
            "giallo:   \t0.0%\n",
            "weissburgunder:   \t0.0%\n",
            "--------\n",
            "\n"
          ]
        },
        {
          "output_type": "display_data",
          "data": {
            "text/plain": [
              "<IPython.core.display.HTML object>"
            ],
            "text/html": [
              "<span style=\"background-color:rgba(135,206,250,0.45730057);\">wine</span> <span style=\"background-color:rgba(135,206,250,0.47738245);\">review</span> <span style=\"background-color:rgba(135,206,250,0.21297236);\">:</span> <span style=\"background-color:rgba(135,206,250,1.0);\">germany</span> <span style=\"background-color:rgba(135,206,250,0.18644516);\">:</span>"
            ]
          },
          "metadata": {}
        },
        {
          "output_type": "stream",
          "name": "stdout",
          "text": [
            "mosel:   \t87.01000213623047%\n",
            "rheingau:   \t5.03000020980835%\n",
            "rheinhessen:   \t4.130000114440918%\n",
            "pfalz:   \t3.4600000381469727%\n",
            "nahe:   \t0.1899999976158142%\n",
            "--------\n",
            "\n"
          ]
        },
        {
          "output_type": "display_data",
          "data": {
            "text/plain": [
              "<IPython.core.display.HTML object>"
            ],
            "text/html": [
              "<span style=\"background-color:rgba(135,206,250,0.77048206);\">wine</span> <span style=\"background-color:rgba(135,206,250,1.0);\">review</span> <span style=\"background-color:rgba(135,206,250,0.2396777);\">:</span> <span style=\"background-color:rgba(135,206,250,0.29244447);\">germany</span> <span style=\"background-color:rgba(135,206,250,0.23872364);\">:</span> <span style=\"background-color:rgba(135,206,250,0.18955457);\">mosel</span>"
            ]
          },
          "metadata": {}
        },
        {
          "output_type": "stream",
          "name": "stdout",
          "text": [
            "::   \t55.470001220703125%\n",
            "-:   \t44.529998779296875%\n",
            "blanc:   \t0.0%\n",
            "grosso:   \t0.0%\n",
            "weissburgunder:   \t0.0%\n",
            "--------\n",
            "\n"
          ]
        },
        {
          "output_type": "display_data",
          "data": {
            "text/plain": [
              "<IPython.core.display.HTML object>"
            ],
            "text/html": [
              "<span style=\"background-color:rgba(135,206,250,0.5270661);\">wine</span> <span style=\"background-color:rgba(135,206,250,0.42441612);\">review</span> <span style=\"background-color:rgba(135,206,250,0.15616286);\">:</span> <span style=\"background-color:rgba(135,206,250,0.38830227);\">germany</span> <span style=\"background-color:rgba(135,206,250,0.16929626);\">:</span> <span style=\"background-color:rgba(135,206,250,1.0);\">mosel</span> <span style=\"background-color:rgba(135,206,250,0.07131588);\">-</span>"
            ]
          },
          "metadata": {}
        },
        {
          "output_type": "stream",
          "name": "stdout",
          "text": [
            "saar:   \t100.0%\n",
            "riesling:   \t0.0%\n",
            "ruwer:   \t0.0%\n",
            "mosel:   \t0.0%\n",
            "donauland:   \t0.0%\n",
            "--------\n",
            "\n"
          ]
        },
        {
          "output_type": "display_data",
          "data": {
            "text/plain": [
              "<IPython.core.display.HTML object>"
            ],
            "text/html": [
              "<span style=\"background-color:rgba(135,206,250,1.0);\">wine</span> <span style=\"background-color:rgba(135,206,250,0.8979068);\">review</span> <span style=\"background-color:rgba(135,206,250,0.34394863);\">:</span> <span style=\"background-color:rgba(135,206,250,0.35188663);\">germany</span> <span style=\"background-color:rgba(135,206,250,0.35397962);\">:</span> <span style=\"background-color:rgba(135,206,250,0.46311334);\">mosel</span> <span style=\"background-color:rgba(135,206,250,0.48992082);\">-</span> <span style=\"background-color:rgba(135,206,250,0.3555453);\">saar</span>"
            ]
          },
          "metadata": {}
        },
        {
          "output_type": "stream",
          "name": "stdout",
          "text": [
            "-:   \t100.0%\n",
            "::   \t0.0%\n",
            "riesling:   \t0.0%\n",
            "white:   \t0.0%\n",
            "blanc:   \t0.0%\n",
            "--------\n",
            "\n"
          ]
        },
        {
          "output_type": "display_data",
          "data": {
            "text/plain": [
              "<IPython.core.display.HTML object>"
            ],
            "text/html": [
              "<span style=\"background-color:rgba(135,206,250,0.49626523);\">wine</span> <span style=\"background-color:rgba(135,206,250,0.45192704);\">review</span> <span style=\"background-color:rgba(135,206,250,0.15108909);\">:</span> <span style=\"background-color:rgba(135,206,250,0.21476582);\">germany</span> <span style=\"background-color:rgba(135,206,250,0.17775677);\">:</span> <span style=\"background-color:rgba(135,206,250,0.35461324);\">mosel</span> <span style=\"background-color:rgba(135,206,250,0.10793064);\">-</span> <span style=\"background-color:rgba(135,206,250,1.0);\">saar</span> <span style=\"background-color:rgba(135,206,250,0.1537324);\">-</span>"
            ]
          },
          "metadata": {}
        },
        {
          "output_type": "stream",
          "name": "stdout",
          "text": [
            "ruwer:   \t100.0%\n",
            "style:   \t0.0%\n",
            "[UNK]:   \t0.0%\n",
            "cabernet:   \t0.0%\n",
            "semillon:   \t0.0%\n",
            "--------\n",
            "\n"
          ]
        },
        {
          "output_type": "display_data",
          "data": {
            "text/plain": [
              "<IPython.core.display.HTML object>"
            ],
            "text/html": [
              "<span style=\"background-color:rgba(135,206,250,0.529054);\">wine</span> <span style=\"background-color:rgba(135,206,250,1.0);\">review</span> <span style=\"background-color:rgba(135,206,250,0.07637096);\">:</span> <span style=\"background-color:rgba(135,206,250,0.07029784);\">germany</span> <span style=\"background-color:rgba(135,206,250,0.095247075);\">:</span> <span style=\"background-color:rgba(135,206,250,0.058701057);\">mosel</span> <span style=\"background-color:rgba(135,206,250,0.15258397);\">-</span> <span style=\"background-color:rgba(135,206,250,0.123443745);\">saar</span> <span style=\"background-color:rgba(135,206,250,0.2234828);\">-</span> <span style=\"background-color:rgba(135,206,250,0.08367493);\">ruwer</span>"
            ]
          },
          "metadata": {}
        },
        {
          "output_type": "stream",
          "name": "stdout",
          "text": [
            "::   \t100.0%\n",
            "-:   \t0.0%\n",
            "blend:   \t0.0%\n",
            "grosso:   \t0.0%\n",
            "port:   \t0.0%\n",
            "--------\n",
            "\n"
          ]
        },
        {
          "output_type": "display_data",
          "data": {
            "text/plain": [
              "<IPython.core.display.HTML object>"
            ],
            "text/html": [
              "<span style=\"background-color:rgba(135,206,250,0.41324446);\">wine</span> <span style=\"background-color:rgba(135,206,250,0.84651613);\">review</span> <span style=\"background-color:rgba(135,206,250,0.124087945);\">:</span> <span style=\"background-color:rgba(135,206,250,0.31192902);\">germany</span> <span style=\"background-color:rgba(135,206,250,0.10214321);\">:</span> <span style=\"background-color:rgba(135,206,250,0.36691332);\">mosel</span> <span style=\"background-color:rgba(135,206,250,0.17530206);\">-</span> <span style=\"background-color:rgba(135,206,250,0.3343808);\">saar</span> <span style=\"background-color:rgba(135,206,250,0.26193473);\">-</span> <span style=\"background-color:rgba(135,206,250,1.0);\">ruwer</span> <span style=\"background-color:rgba(135,206,250,0.30523345);\">:</span>"
            ]
          },
          "metadata": {}
        },
        {
          "output_type": "stream",
          "name": "stdout",
          "text": [
            "riesling:   \t100.0%\n",
            "sauvignon:   \t0.0%\n",
            "kerner:   \t0.0%\n",
            "chardonnay:   \t0.0%\n",
            "sparkling:   \t0.0%\n",
            "--------\n",
            "\n"
          ]
        },
        {
          "output_type": "display_data",
          "data": {
            "text/plain": [
              "<IPython.core.display.HTML object>"
            ],
            "text/html": [
              "<span style=\"background-color:rgba(135,206,250,0.28698173);\">wine</span> <span style=\"background-color:rgba(135,206,250,1.0);\">review</span> <span style=\"background-color:rgba(135,206,250,0.06707273);\">:</span> <span style=\"background-color:rgba(135,206,250,0.10542777);\">germany</span> <span style=\"background-color:rgba(135,206,250,0.08538095);\">:</span> <span style=\"background-color:rgba(135,206,250,0.05146991);\">mosel</span> <span style=\"background-color:rgba(135,206,250,0.14905442);\">-</span> <span style=\"background-color:rgba(135,206,250,0.09198095);\">saar</span> <span style=\"background-color:rgba(135,206,250,0.21086489);\">-</span> <span style=\"background-color:rgba(135,206,250,0.35829222);\">ruwer</span> <span style=\"background-color:rgba(135,206,250,0.3638918);\">:</span> <span style=\"background-color:rgba(135,206,250,0.1799225);\">riesling</span>"
            ]
          },
          "metadata": {}
        },
        {
          "output_type": "stream",
          "name": "stdout",
          "text": [
            "::   \t100.0%\n",
            "-:   \t0.0%\n",
            "blend:   \t0.0%\n",
            "grosso:   \t0.0%\n",
            ",:   \t0.0%\n",
            "--------\n",
            "\n"
          ]
        },
        {
          "output_type": "display_data",
          "data": {
            "text/plain": [
              "<IPython.core.display.HTML object>"
            ],
            "text/html": [
              "<span style=\"background-color:rgba(135,206,250,0.39575282);\">wine</span> <span style=\"background-color:rgba(135,206,250,0.9453009);\">review</span> <span style=\"background-color:rgba(135,206,250,0.11029245);\">:</span> <span style=\"background-color:rgba(135,206,250,0.36447594);\">germany</span> <span style=\"background-color:rgba(135,206,250,0.09277585);\">:</span> <span style=\"background-color:rgba(135,206,250,0.42350742);\">mosel</span> <span style=\"background-color:rgba(135,206,250,0.16327219);\">-</span> <span style=\"background-color:rgba(135,206,250,0.38406545);\">saar</span> <span style=\"background-color:rgba(135,206,250,0.25582656);\">-</span> <span style=\"background-color:rgba(135,206,250,0.79734886);\">ruwer</span> <span style=\"background-color:rgba(135,206,250,0.27953276);\">:</span> <span style=\"background-color:rgba(135,206,250,1.0);\">riesling</span> <span style=\"background-color:rgba(135,206,250,0.33294073);\">:</span>"
            ]
          },
          "metadata": {}
        },
        {
          "output_type": "stream",
          "name": "stdout",
          "text": [
            "this:   \t81.91000366210938%\n",
            "a:   \t11.699999809265137%\n",
            "[UNK]:   \t1.7599999904632568%\n",
            "the:   \t1.3899999856948853%\n",
            "from:   \t0.6899999976158142%\n",
            "--------\n",
            "\n"
          ]
        },
        {
          "output_type": "display_data",
          "data": {
            "text/plain": [
              "<IPython.core.display.HTML object>"
            ],
            "text/html": [
              "<span style=\"background-color:rgba(135,206,250,0.47285697);\">wine</span> <span style=\"background-color:rgba(135,206,250,1.0);\">review</span> <span style=\"background-color:rgba(135,206,250,0.12248066);\">:</span> <span style=\"background-color:rgba(135,206,250,0.2888795);\">germany</span> <span style=\"background-color:rgba(135,206,250,0.13452946);\">:</span> <span style=\"background-color:rgba(135,206,250,0.3025495);\">mosel</span> <span style=\"background-color:rgba(135,206,250,0.21080756);\">-</span> <span style=\"background-color:rgba(135,206,250,0.3336321);\">saar</span> <span style=\"background-color:rgba(135,206,250,0.34465778);\">-</span> <span style=\"background-color:rgba(135,206,250,0.115441985);\">ruwer</span> <span style=\"background-color:rgba(135,206,250,0.24343695);\">:</span> <span style=\"background-color:rgba(135,206,250,0.37405038);\">riesling</span> <span style=\"background-color:rgba(135,206,250,0.3492461);\">:</span> <span style=\"background-color:rgba(135,206,250,0.19310832);\">this</span>"
            ]
          },
          "metadata": {}
        },
        {
          "output_type": "stream",
          "name": "stdout",
          "text": [
            "is:   \t37.5099983215332%\n",
            "wine:   \t29.229999542236328%\n",
            "medium:   \t25.520000457763672%\n",
            "auslese:   \t1.3300000429153442%\n",
            "[UNK]:   \t1.100000023841858%\n",
            "--------\n",
            "\n"
          ]
        }
      ],
      "source": [
        "info = text_generator.generate(\n",
        "    \"wine review : germany\", max_tokens=15, temperature=0.5\n",
        ")\n",
        "print_probs(info, vocab)"
      ]
    },
    {
      "cell_type": "code",
      "execution_count": null,
      "id": "fcc7a7c0-6c64-47d3-acee-96e48f025e01",
      "metadata": {
        "id": "fcc7a7c0-6c64-47d3-acee-96e48f025e01"
      },
      "outputs": [],
      "source": []
    },
    {
      "cell_type": "code",
      "execution_count": null,
      "id": "4122154c-9e41-44ba-8c5f-fe88a55fe977",
      "metadata": {
        "id": "4122154c-9e41-44ba-8c5f-fe88a55fe977"
      },
      "outputs": [],
      "source": []
    }
  ],
  "metadata": {
    "kernelspec": {
      "display_name": "Python 3 (ipykernel)",
      "language": "python",
      "name": "python3"
    },
    "language_info": {
      "codemirror_mode": {
        "name": "ipython",
        "version": 3
      },
      "file_extension": ".py",
      "mimetype": "text/x-python",
      "name": "python",
      "nbconvert_exporter": "python",
      "pygments_lexer": "ipython3",
      "version": "3.8.10"
    },
    "vscode": {
      "interpreter": {
        "hash": "31f2aee4e71d21fbe5cf8b01ff0e069b9275f58929596ceb00d14d90e3e16cd6"
      }
    },
    "colab": {
      "provenance": [],
      "gpuType": "T4"
    },
    "accelerator": "GPU"
  },
  "nbformat": 4,
  "nbformat_minor": 5
}